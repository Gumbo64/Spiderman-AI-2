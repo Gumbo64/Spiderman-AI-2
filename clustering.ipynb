{
 "cells": [
  {
   "cell_type": "code",
   "execution_count": 1,
   "id": "ec4e53c5",
   "metadata": {},
   "outputs": [],
   "source": [
    "import pandas as pd\n",
    "import numpy as np\n",
    "from pathlib import Path"
   ]
  },
  {
   "cell_type": "code",
   "execution_count": 2,
   "id": "917031f9",
   "metadata": {},
   "outputs": [
    {
     "name": "stdout",
     "output_type": "stream",
     "text": [
      "Requirement already satisfied: hdbscan in j:\\devtools\\anaconda\\lib\\site-packages (0.8.28)\n",
      "Requirement already satisfied: scikit-learn>=0.20 in j:\\devtools\\anaconda\\lib\\site-packages (from hdbscan) (1.0.2)\n",
      "Requirement already satisfied: scipy>=1.0 in j:\\devtools\\anaconda\\lib\\site-packages (from hdbscan) (1.7.3)\n",
      "Requirement already satisfied: numpy>=1.20 in j:\\devtools\\anaconda\\lib\\site-packages (from hdbscan) (1.22.4)\n",
      "Requirement already satisfied: joblib>=1.0 in j:\\devtools\\anaconda\\lib\\site-packages (from hdbscan) (1.1.0)\n",
      "Requirement already satisfied: cython>=0.27 in j:\\devtools\\anaconda\\lib\\site-packages (from hdbscan) (0.29.28)\n",
      "Requirement already satisfied: threadpoolctl>=2.0.0 in j:\\devtools\\anaconda\\lib\\site-packages (from scikit-learn>=0.20->hdbscan) (2.2.0)"
     ]
    },
    {
     "name": "stderr",
     "output_type": "stream",
     "text": [
      "WARNING: Ignoring invalid distribution -rotobuf (j:\\devtools\\anaconda\\lib\\site-packages)\n",
      "WARNING: Ignoring invalid distribution -rotobuf (j:\\devtools\\anaconda\\lib\\site-packages)\n",
      "WARNING: Ignoring invalid distribution -rotobuf (j:\\devtools\\anaconda\\lib\\site-packages)\n",
      "WARNING: Ignoring invalid distribution -rotobuf (j:\\devtools\\anaconda\\lib\\site-packages)\n"
     ]
    },
    {
     "name": "stdout",
     "output_type": "stream",
     "text": [
      "\n"
     ]
    },
    {
     "name": "stderr",
     "output_type": "stream",
     "text": [
      "WARNING: Ignoring invalid distribution -rotobuf (j:\\devtools\\anaconda\\lib\\site-packages)\n",
      "WARNING: Ignoring invalid distribution -rotobuf (j:\\devtools\\anaconda\\lib\\site-packages)\n"
     ]
    }
   ],
   "source": [
    "!pip install hdbscan"
   ]
  },
  {
   "cell_type": "code",
   "execution_count": 3,
   "id": "d630c994",
   "metadata": {},
   "outputs": [],
   "source": [
    "\n",
    "df = pd.DataFrame()\n",
    "for i in range(5):\n",
    "    df = pd.concat([df, pd.read_csv('data/data'+str(i)+'.csv')], ignore_index=True)\n",
    "    \n"
   ]
  },
  {
   "cell_type": "code",
   "execution_count": 4,
   "id": "5add6e74",
   "metadata": {},
   "outputs": [
    {
     "name": "stdout",
     "output_type": "stream",
     "text": [
      "         rc0  rc1   rc2   rc3   rc4   rc5   rc6   rc7   rc8   rc9  ...  \\\n",
      "10       1.0  1.0  1.00  0.80  0.65  0.55  0.45  0.45  0.40  0.40  ...   \n",
      "11       1.0  1.0  1.00  0.75  0.60  0.50  0.45  0.40  0.35  0.35  ...   \n",
      "12       1.0  1.0  1.00  0.70  0.55  0.45  0.40  0.35  0.35  0.35  ...   \n",
      "13       1.0  1.0  1.00  0.70  0.55  0.45  0.40  0.35  0.35  0.35  ...   \n",
      "14       1.0  1.0  0.85  0.60  0.45  0.40  0.35  0.30  0.30  0.30  ...   \n",
      "...      ...  ...   ...   ...   ...   ...   ...   ...   ...   ...  ...   \n",
      "1353758  1.0  1.0  1.00  1.00  1.00  1.00  1.00  1.00  1.00  1.00  ...   \n",
      "1353759  1.0  1.0  1.00  1.00  1.00  1.00  1.00  1.00  1.00  1.00  ...   \n",
      "1353760  1.0  1.0  1.00  1.00  1.00  1.00  1.00  1.00  1.00  1.00  ...   \n",
      "1353761  1.0  1.0  1.00  1.00  1.00  1.00  1.00  1.00  1.00  1.00  ...   \n",
      "1353762  1.0  1.0  1.00  1.00  1.00  1.00  1.00  1.00  1.00  1.00  ...   \n",
      "\n",
      "             w1vx  w2vx      w1vy  w2vy       w1x       w2x       w1y  \\\n",
      "10       0.511519   0.5  0.504723   0.5  0.489509  0.525435  0.480470   \n",
      "11       0.500000   0.5  0.500000   0.5  0.520602  0.498738  0.462183   \n",
      "12       0.500000   0.5  0.500000   0.5  0.491402  0.513266  0.449988   \n",
      "13       0.499795   0.5  0.510283   0.5  0.508040  0.491117  0.479841   \n",
      "14       0.500421   0.5  0.513981   0.5  0.492448  0.537876  0.467293   \n",
      "...           ...   ...       ...   ...       ...       ...       ...   \n",
      "1353758  0.409627   0.5  0.651920   0.5  0.594758  0.643420  0.273317   \n",
      "1353759  0.422486   0.5  0.640227   0.5  0.587482  0.657971  0.302595   \n",
      "1353760  0.428183   0.5  0.725260   0.5  0.601983  0.653417  0.165504   \n",
      "1353761  0.424917   0.5  0.740432   0.5  0.590685  0.665365  0.153117   \n",
      "1353762  0.451392   0.5  0.664983   0.5  0.678115  0.627376  0.000000   \n",
      "\n",
      "              w2y         y  linedist  \n",
      "10       0.474915  0.609253  0.748228  \n",
      "11       0.458548  0.621985  0.741228  \n",
      "12       0.453623  0.630545  0.739233  \n",
      "13       0.448114  0.632419  0.723137  \n",
      "14       0.435478  0.648047  0.710315  \n",
      "...           ...       ...       ...  \n",
      "1353758  0.303738  0.778794  0.523257  \n",
      "1353759  0.094325  0.897296  0.521406  \n",
      "1353760  0.094135  1.000000  0.521827  \n",
      "1353761  0.000000  1.000000  0.530771  \n",
      "1353762  0.009488  1.000000  0.537497  \n",
      "\n",
      "[1268084 rows x 52 columns]\n"
     ]
    }
   ],
   "source": [
    "df.columns = [\"rc\"+str(x) for x in range(40)] + [\"vx\",\"vy\",\"w1vx\",\"w2vx\",\"w1vy\",\"w2vy\"] + [\"w1x\",\"w2x\",\"w1y\",\"w2y\"] +  [\"y\",\"linedist\"]\n",
    "df.drop_duplicates(keep=False,inplace=True)\n",
    "df.fillna(df.mean())\n",
    "print(df)"
   ]
  },
  {
   "cell_type": "code",
   "execution_count": 5,
   "id": "be164f69",
   "metadata": {},
   "outputs": [],
   "source": [
    "# from sklearn.preprocessing import StandardScaler\n",
    "# features = df.columns\n",
    "\n",
    "\n",
    "# x = StandardScaler().fit_transform(df)"
   ]
  },
  {
   "cell_type": "code",
   "execution_count": 6,
   "id": "fce02dc1",
   "metadata": {},
   "outputs": [],
   "source": [
    "# from sklearn.decomposition import PCA# Make an instance of the Model\n",
    "\n",
    "# pca = PCA(2)"
   ]
  },
  {
   "cell_type": "code",
   "execution_count": 7,
   "id": "af4fc3fb",
   "metadata": {},
   "outputs": [],
   "source": [
    "# principalComponents = pca.fit_transform(x)"
   ]
  },
  {
   "cell_type": "code",
   "execution_count": 8,
   "id": "a718216c",
   "metadata": {},
   "outputs": [],
   "source": [
    "# pca.explained_variance_ratio_"
   ]
  },
  {
   "cell_type": "code",
   "execution_count": 9,
   "id": "31b1bd92",
   "metadata": {},
   "outputs": [],
   "source": [
    "# pcdf = pd.DataFrame(data = principalComponents);\n",
    "# pcdf.columns = [\"p1\",\"p2\"]\n",
    "# pcdf\n",
    "# # principalComponents.plot.scatter(x = 'Name', y = 'Age', s = 100);"
   ]
  },
  {
   "cell_type": "code",
   "execution_count": 10,
   "id": "eca5efd9",
   "metadata": {},
   "outputs": [],
   "source": [
    "# import matplotlib.pyplot as plt\n",
    "\n",
    "# fig = plt.figure(figsize = (8,8))\n",
    "# ax = fig.add_subplot(1,1,1) \n",
    "# ax.set_xlabel('Principal Component 1', fontsize = 15)\n",
    "# ax.set_ylabel('Principal Component 2', fontsize = 15)\n",
    "# ax.set_title('2 component PCA', fontsize = 20)\n",
    "\n",
    "# ax.scatter(x=pcdf['p1'],y=pcdf['p2'],c=\"blue\",marker=\"o\",s=0.0001)\n",
    "\n",
    "# ax.grid()\n",
    "# plt.savefig(\"test.svg\")"
   ]
  },
  {
   "cell_type": "code",
   "execution_count": 11,
   "id": "d925ff97",
   "metadata": {},
   "outputs": [],
   "source": [
    "\n",
    "from sklearn.datasets import make_blobs\n",
    "from sklearn.cluster import KMeans\n",
    "from sklearn.metrics import silhouette_score\n",
    "\n",
    "\n",
    "\n",
    "# A list holds the SSE values for each k\n",
    "# sse = []\n",
    "# for k in range(2, 11):\n",
    "#     kmeans = KMeans(n_clusters=k,\n",
    "#         n_init=10,\n",
    "#         max_iter=300,\n",
    "#         random_state=42)\n",
    "#     kmeans.fit(df)\n",
    "#     sse.append(kmeans.inertia_)\n",
    "\n",
    "# plt.style.use(\"fivethirtyeight\")\n",
    "# plt.plot(range(2, 11), sse)\n",
    "# plt.xticks(range(2, 11))\n",
    "# plt.xlabel(\"Number of Clusters\")\n",
    "# plt.ylabel(\"SSE\")\n",
    "# plt.show()\n",
    "\n"
   ]
  },
  {
   "cell_type": "code",
   "execution_count": 12,
   "id": "efd2fc7b",
   "metadata": {},
   "outputs": [
    {
     "data": {
      "text/plain": [
       "HDBSCAN(prediction_data=True)"
      ]
     },
     "execution_count": 12,
     "metadata": {},
     "output_type": "execute_result"
    }
   ],
   "source": [
    "import hdbscan\n",
    "clusterer = hdbscan.HDBSCAN(prediction_data=True)\n",
    "clusterer.fit( df.sample(n = 300000))\n",
    "\n",
    "# kmeans = KMeans(n_clusters=1000,\n",
    "#     n_init=10,\n",
    "#     max_iter=300)\n",
    "# kmeans.fit(df)\n",
    "# kmeans.inertia_"
   ]
  },
  {
   "cell_type": "code",
   "execution_count": 13,
   "id": "651e1076",
   "metadata": {},
   "outputs": [
    {
     "data": {
      "text/plain": [
       "<AxesSubplot:ylabel='$\\\\lambda$ value'>"
      ]
     },
     "execution_count": 13,
     "metadata": {},
     "output_type": "execute_result"
    },
    {
     "data": {
      "image/png": "[encoded data removed]",
      "text/plain": [
       "<Figure size 432x288 with 2 Axes>"
      ]
     },
     "metadata": {
      "needs_background": "light"
     },
     "output_type": "display_data"
    }
   ],
   "source": [
    "clusterer.condensed_tree_.plot()"
   ]
  },
  {
   "cell_type": "code",
   "execution_count": 14,
   "id": "edb7863b",
   "metadata": {},
   "outputs": [
    {
     "name": "stdout",
     "output_type": "stream",
     "text": [
      "Current date and time : \n",
      "2022-08-16 01:37:29\n"
     ]
    }
   ],
   "source": [
    "clusterer.labels_.max()\n",
    "import datetime\n",
    "now = datetime.datetime.now()\n",
    "print (\"Current date and time : \")\n",
    "print (now.strftime(\"%Y-%m-%d %H:%M:%S\"))"
   ]
  },
  {
   "cell_type": "code",
   "execution_count": 15,
   "id": "0f7a63e9",
   "metadata": {},
   "outputs": [],
   "source": [
    "import pickle\n",
    "\n",
    "\n",
    "with open('hdbscan.pickle', 'wb') as handle:\n",
    "    pickle.dump(clusterer, handle, protocol=pickle.HIGHEST_PROTOCOL)"
   ]
  },
  {
   "cell_type": "code",
   "execution_count": 18,
   "id": "3cbbf7a4",
   "metadata": {},
   "outputs": [
    {
     "data": {
      "text/plain": [
       "9010"
      ]
     },
     "execution_count": 18,
     "metadata": {},
     "output_type": "execute_result"
    }
   ],
   "source": [
    "env_size = clusterer.labels_.max()\n",
    "env_size"
   ]
  },
  {
   "cell_type": "code",
   "execution_count": 19,
   "id": "2f449e04",
   "metadata": {},
   "outputs": [],
   "source": [
    "import numpy as np\n",
    "q_table = np.zeros([env_size, 5])\n"
   ]
  },
  {
   "cell_type": "code",
   "execution_count": 45,
   "id": "33eb7307",
   "metadata": {},
   "outputs": [
    {
     "ename": "ValueError",
     "evalue": "all the input array dimensions for the concatenation axis must match exactly, but along dimension 1, the array at index 0 has size 0 and the array at index 1 has size 1",
     "output_type": "error",
     "traceback": [
      "\u001b[1;31m---------------------------------------------------------------------------\u001b[0m",
      "\u001b[1;31mValueError\u001b[0m                                Traceback (most recent call last)",
      "Input \u001b[1;32mIn [45]\u001b[0m, in \u001b[0;36m<cell line: 21>\u001b[1;34m()\u001b[0m\n\u001b[0;32m     18\u001b[0m memory \u001b[38;5;241m=\u001b[39m MEMORY(\u001b[38;5;241m1000000\u001b[39m,n_neighbours\u001b[38;5;241m=\u001b[39m\u001b[38;5;241m5\u001b[39m)\n\u001b[0;32m     21\u001b[0m \u001b[38;5;28;01mfor\u001b[39;00m i \u001b[38;5;129;01min\u001b[39;00m \u001b[38;5;28mrange\u001b[39m(\u001b[38;5;241m100\u001b[39m,\u001b[38;5;241m0\u001b[39m,\u001b[38;5;241m-\u001b[39m\u001b[38;5;241m1\u001b[39m):\n\u001b[1;32m---> 22\u001b[0m     \u001b[43mmemory\u001b[49m\u001b[38;5;241;43m.\u001b[39;49m\u001b[43madd\u001b[49m\u001b[43m(\u001b[49m\u001b[43mi\u001b[49m\u001b[43m)\u001b[49m\n\u001b[0;32m     24\u001b[0m distances, indexes \u001b[38;5;241m=\u001b[39m memory\u001b[38;5;241m.\u001b[39mneighbours(np\u001b[38;5;241m.\u001b[39marray(\u001b[38;5;241m80\u001b[39m)\u001b[38;5;241m.\u001b[39mreshape(\u001b[38;5;241m-\u001b[39m\u001b[38;5;241m1\u001b[39m, \u001b[38;5;241m1\u001b[39m))\n",
      "Input \u001b[1;32mIn [45]\u001b[0m, in \u001b[0;36mMEMORY.add\u001b[1;34m(self, new_state)\u001b[0m\n\u001b[0;32m      8\u001b[0m \u001b[38;5;28;01mdef\u001b[39;00m \u001b[38;5;21madd\u001b[39m(\u001b[38;5;28mself\u001b[39m,new_state):\n\u001b[1;32m----> 9\u001b[0m     \u001b[38;5;28mself\u001b[39m\u001b[38;5;241m.\u001b[39mstates \u001b[38;5;241m=\u001b[39m \u001b[43mnp\u001b[49m\u001b[38;5;241;43m.\u001b[39;49m\u001b[43mvstack\u001b[49m\u001b[43m(\u001b[49m\u001b[43m[\u001b[49m\u001b[38;5;28;43mself\u001b[39;49m\u001b[38;5;241;43m.\u001b[39;49m\u001b[43mstates\u001b[49m\u001b[43m,\u001b[49m\u001b[43m[\u001b[49m\u001b[43mnew_state\u001b[49m\u001b[43m]\u001b[49m\u001b[43m]\u001b[49m\u001b[43m)\u001b[49m\n\u001b[0;32m     10\u001b[0m     \u001b[38;5;28mself\u001b[39m\u001b[38;5;241m.\u001b[39mstates \u001b[38;5;241m=\u001b[39m \u001b[38;5;28mself\u001b[39m\u001b[38;5;241m.\u001b[39mstates[\u001b[38;5;241m-\u001b[39m\u001b[38;5;28mself\u001b[39m\u001b[38;5;241m.\u001b[39mmem_size:]\n\u001b[0;32m     11\u001b[0m     \u001b[38;5;28mself\u001b[39m\u001b[38;5;241m.\u001b[39mneigh\u001b[38;5;241m.\u001b[39mfit(\u001b[38;5;28mself\u001b[39m\u001b[38;5;241m.\u001b[39mstates)\n",
      "File \u001b[1;32m<__array_function__ internals>:180\u001b[0m, in \u001b[0;36mvstack\u001b[1;34m(*args, **kwargs)\u001b[0m\n",
      "File \u001b[1;32mJ:\\devtools\\Anaconda\\lib\\site-packages\\numpy\\core\\shape_base.py:282\u001b[0m, in \u001b[0;36mvstack\u001b[1;34m(tup)\u001b[0m\n\u001b[0;32m    280\u001b[0m \u001b[38;5;28;01mif\u001b[39;00m \u001b[38;5;129;01mnot\u001b[39;00m \u001b[38;5;28misinstance\u001b[39m(arrs, \u001b[38;5;28mlist\u001b[39m):\n\u001b[0;32m    281\u001b[0m     arrs \u001b[38;5;241m=\u001b[39m [arrs]\n\u001b[1;32m--> 282\u001b[0m \u001b[38;5;28;01mreturn\u001b[39;00m \u001b[43m_nx\u001b[49m\u001b[38;5;241;43m.\u001b[39;49m\u001b[43mconcatenate\u001b[49m\u001b[43m(\u001b[49m\u001b[43marrs\u001b[49m\u001b[43m,\u001b[49m\u001b[43m \u001b[49m\u001b[38;5;241;43m0\u001b[39;49m\u001b[43m)\u001b[49m\n",
      "File \u001b[1;32m<__array_function__ internals>:180\u001b[0m, in \u001b[0;36mconcatenate\u001b[1;34m(*args, **kwargs)\u001b[0m\n",
      "\u001b[1;31mValueError\u001b[0m: all the input array dimensions for the concatenation axis must match exactly, but along dimension 1, the array at index 0 has size 0 and the array at index 1 has size 1"
     ]
    }
   ],
   "source": [
    "from sklearn.neighbors import NearestNeighbors\n",
    "class MEMORY():\n",
    "    def __init__(self,mem_size=100000,n_neighbours=10):\n",
    "        self.mem_size = mem_size\n",
    "        self.states = np.array([0])\n",
    "        self.neigh = NearestNeighbors(n_neighbors=n_neighbours)\n",
    "        \n",
    "    def add(self,new_state):\n",
    "        self.states = np.vstack([self.states,[new_state]])\n",
    "        self.states = self.states[-self.mem_size:]\n",
    "        self.neigh.fit(self.states)\n",
    "    \n",
    "    def neighbours(self,new_state):\n",
    "        return self.neigh.kneighbors(new_state)\n",
    "        \n",
    "\n",
    "\n",
    "memory = MEMORY(1000000,n_neighbours=5)\n",
    "\n",
    "\n",
    "for i in range(100,0,-1):\n",
    "    memory.add(i)\n",
    "    \n",
    "distances, indexes = memory.neighbours(np.array(80).reshape(-1, 1))\n",
    "\n",
    "\n",
    "\n"
   ]
  },
  {
   "cell_type": "code",
   "execution_count": null,
   "id": "e2b78b07",
   "metadata": {},
   "outputs": [],
   "source": []
  }
 ],
 "metadata": {
  "kernelspec": {
   "display_name": "Python 3 (ipykernel)",
   "language": "python",
   "name": "python3"
  },
  "language_info": {
   "codemirror_mode": {
    "name": "ipython",
    "version": 3
   },
   "file_extension": ".py",
   "mimetype": "text/x-python",
   "name": "python",
   "nbconvert_exporter": "python",
   "pygments_lexer": "ipython3",
   "version": "3.9.12"
  }
 },
 "nbformat": 4,
 "nbformat_minor": 5
}
