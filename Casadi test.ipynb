{
 "cells": [
  {
   "cell_type": "code",
   "execution_count": 1,
   "id": "20f25e1d",
   "metadata": {},
   "outputs": [],
   "source": [
    "from casadi import *\n",
    "\n",
    "opti = casadi.Opti()\n"
   ]
  },
  {
   "cell_type": "code",
   "execution_count": 2,
   "id": "889fea77",
   "metadata": {},
   "outputs": [],
   "source": [
    "vec1 = MX.sym('vec1',2)\n",
    "vec2 = MX.sym('vec2',2)\n",
    "\n",
    "# vector length\n",
    "\n",
    "v_len = Function('f',[vec1],\\\n",
    "           [ sqrt(vec1[0]**2 + vec1[1]**2)  ])\n",
    "\n",
    "# add 0.00001 so you don't divide by 0\n",
    "\n",
    "v_norm = Function('f',[vec1],\\\n",
    "           [ reshape((vec1 / (v_len(vec1) + 0.000001)),1,2)  ])\n"
   ]
  },
  {
   "cell_type": "code",
   "execution_count": 3,
   "id": "051f90a3",
   "metadata": {},
   "outputs": [],
   "source": [
    "N = 1"
   ]
  },
  {
   "cell_type": "code",
   "execution_count": 4,
   "id": "de811337",
   "metadata": {},
   "outputs": [],
   "source": [
    "pos = opti.variable(N,2);"
   ]
  },
  {
   "cell_type": "code",
   "execution_count": 5,
   "id": "95d9c872",
   "metadata": {},
   "outputs": [
    {
     "name": "stdout",
     "output_type": "stream",
     "text": [
      "sqrt((1e-007+(sq((10-opti0_x_1[0]))+sq((10-(1000*opti0_x_1[1]))))))\n"
     ]
    }
   ],
   "source": [
    "#  In this case the square root isn't necessary, BUT\n",
    "# Derivative of sqrt(...) = a/2sqrt(...) so you need to add the epsilon (0.00001) to avoid division by 0\n",
    "V = sqrt((10 - pos[0]) ** 2 + (10 - 1000 * pos[1]) ** 2 + 0.0000001)\n",
    "print(V)"
   ]
  },
  {
   "cell_type": "code",
   "execution_count": 6,
   "id": "df749e26",
   "metadata": {},
   "outputs": [
    {
     "name": "stdout",
     "output_type": "stream",
     "text": [
      "\n",
      "******************************************************************************\n",
      "This program contains Ipopt, a library for large-scale nonlinear optimization.\n",
      " Ipopt is released as open source code under the Eclipse Public License (EPL).\n",
      "         For more information visit http://projects.coin-or.org/Ipopt\n",
      "******************************************************************************\n",
      "\n",
      "This is Ipopt version 3.12.3, running with linear solver mumps.\n",
      "NOTE: Other linear solvers might be more efficient (see Ipopt documentation).\n",
      "\n",
      "Number of nonzeros in equality constraint Jacobian...:        0\n",
      "Number of nonzeros in inequality constraint Jacobian.:        0\n",
      "Number of nonzeros in Lagrangian Hessian.............:        3\n",
      "\n",
      "Total number of variables............................:        2\n",
      "                     variables with only lower bounds:        0\n",
      "                variables with lower and upper bounds:        0\n",
      "                     variables with only upper bounds:        0\n",
      "Total number of equality constraints.................:        0\n",
      "Total number of inequality constraints...............:        0\n",
      "        inequality constraints with only lower bounds:        0\n",
      "   inequality constraints with lower and upper bounds:        0\n",
      "        inequality constraints with only upper bounds:        0\n",
      "\n",
      "iter    objective    inf_pr   inf_du lg(mu)  ||d||  lg(rg) alpha_du alpha_pr  ls\n",
      "   0 1.4142136e+001 0.00e+000 1.00e+002  -1.0 0.00e+000    -  0.00e+000 0.00e+000   0\n",
      "   1 1.2199651e+001 0.00e+000 1.00e+002  -1.0 2.00e+010    -  1.00e+000 9.31e-010f 31\n",
      "   2 4.7102990e+000 0.00e+000 1.00e+002  -1.0 1.28e+010    -  1.00e+000 9.31e-010f 31\n",
      "   3 3.0760798e+000 0.00e+000 1.00e+002  -1.0 7.39e+008    -  1.00e+000 7.45e-009f 28\n",
      "   4 1.2611550e+000 0.00e+000 1.00e+002  -1.0 2.06e+008    -  1.00e+000 1.49e-008f 27\n",
      "   5 1.1300427e+000 0.00e+000 1.00e+002  -1.0 1.42e+007    -  1.00e+000 1.19e-007f 24\n",
      "   6 5.9021969e-001 0.00e+000 1.00e+002  -1.0 1.02e+007    -  1.00e+000 1.19e-007f 24\n",
      "   7 3.9019813e-001 0.00e+000 1.00e+002  -1.0 1.45e+006    -  1.00e+000 4.77e-007f 22\n",
      "   8 1.7637480e-001 0.00e+000 1.00e+002  -1.0 4.20e+005    -  1.00e+000 9.54e-007f 21\n",
      "   9 3.2926878e-002 0.00e+000 1.00e+002  -1.0 3.88e+004    -  1.00e+000 3.81e-006f 19\n",
      "iter    objective    inf_pr   inf_du lg(mu)  ||d||  lg(rg) alpha_du alpha_pr  ls\n",
      "  10 1.0654766e-002 0.00e+000 1.00e+002  -1.0 2.52e+002    -  1.00e+000 1.22e-004f 14\n",
      "  11 1.2079743e+001 0.00e+000 1.00e+002  -1.0 8.55e+000    -  1.00e+000 1.00e+000w  1\n",
      "  12 1.7626785e+010 0.00e+000 1.00e+002  -1.0 1.25e+010    -  1.00e+000 1.00e+000w  1\n",
      "  13 1.6960580e+010 0.00e+000 9.59e+001  -1.0 9.61e+005  -4.0 1.00e+000 1.00e+000w  1\n",
      "  14 1.1993904e-003 0.00e+000 9.65e+001  -1.0 2.53e+006  -4.5 1.00e+000 9.77e-004f 10\n",
      "  15 9.7609052e-004 0.00e+000 9.46e+001  -1.0 1.18e-002    -  1.00e+000 1.25e-001f  4\n",
      "  16 3.6206355e-004 0.00e+000 4.87e+001  -1.0 6.22e-003    -  1.00e+000 1.25e-001f  4\n",
      "  17 3.2094412e-004 0.00e+000 1.71e+001  -1.0 1.63e-004    -  1.00e+000 1.00e+000f  1\n",
      "  18 3.1623206e-004 0.00e+000 5.21e-001  -1.0 3.99e-005    -  1.00e+000 1.00e+000f  1\n",
      "  19 3.1622777e-004 0.00e+000 1.41e-005  -1.7 1.16e-006    -  1.00e+000 1.00e+000f  1\n",
      "iter    objective    inf_pr   inf_du lg(mu)  ||d||  lg(rg) alpha_du alpha_pr  ls\n",
      "  20 3.1622777e-004 0.00e+000 0.00e+000  -8.6 3.16e-011    -  1.00e+000 1.00e+000f  1\n",
      "\n",
      "Number of Iterations....: 20\n",
      "\n",
      "                                   (scaled)                 (unscaled)\n",
      "Objective...............:  4.4721359561176129e-005   3.1622776601683794e-004\n",
      "Dual infeasibility......:  0.0000000000000000e+000   0.0000000000000000e+000\n",
      "Constraint violation....:  0.0000000000000000e+000   0.0000000000000000e+000\n",
      "Complementarity.........:  0.0000000000000000e+000   0.0000000000000000e+000\n",
      "Overall NLP error.......:  0.0000000000000000e+000   0.0000000000000000e+000\n",
      "\n",
      "\n",
      "Number of objective function evaluations             = 316\n",
      "Number of objective gradient evaluations             = 21\n",
      "Number of equality constraint evaluations            = 0\n",
      "Number of inequality constraint evaluations          = 0\n",
      "Number of equality constraint Jacobian evaluations   = 0\n",
      "Number of inequality constraint Jacobian evaluations = 0\n",
      "Number of Lagrangian Hessian evaluations             = 20\n",
      "Total CPU secs in IPOPT (w/o function evaluations)   =      0.017\n",
      "Total CPU secs in NLP function evaluations           =      0.001\n",
      "\n",
      "EXIT: Optimal Solution Found.\n",
      "      solver  :   t_proc      (avg)   t_wall      (avg)    n_eval\n",
      "       nlp_f  |   1.00ms (  3.16us) 998.00us (  3.16us)       316\n",
      "  nlp_grad_f  |        0 (       0)        0 (       0)        22\n",
      "  nlp_hess_l  |        0 (       0)        0 (       0)        20\n",
      "       total  |  18.00ms ( 18.00ms)  18.00ms ( 18.00ms)         1\n"
     ]
    }
   ],
   "source": [
    "opti.minimize(V);\n",
    "\n",
    "opti.solver('ipopt');\n",
    "sol = opti.solve();"
   ]
  },
  {
   "cell_type": "code",
   "execution_count": 7,
   "id": "ab266444",
   "metadata": {},
   "outputs": [
    {
     "name": "stdout",
     "output_type": "stream",
     "text": [
      "[10.    0.01]\n"
     ]
    }
   ],
   "source": [
    "import matplotlib.pyplot as plt\n",
    "print(sol.value(pos))"
   ]
  },
  {
   "cell_type": "code",
   "execution_count": null,
   "id": "e91fedf5",
   "metadata": {},
   "outputs": [],
   "source": []
  }
 ],
 "metadata": {
  "kernelspec": {
   "display_name": "Python 3 (ipykernel)",
   "language": "python",
   "name": "python3"
  },
  "language_info": {
   "codemirror_mode": {
    "name": "ipython",
    "version": 3
   },
   "file_extension": ".py",
   "mimetype": "text/x-python",
   "name": "python",
   "nbconvert_exporter": "python",
   "pygments_lexer": "ipython3",
   "version": "3.9.12"
  }
 },
 "nbformat": 4,
 "nbformat_minor": 5
}
