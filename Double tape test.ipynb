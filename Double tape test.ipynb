{
 "cells": [
  {
   "cell_type": "code",
   "execution_count": 1,
   "id": "62451801",
   "metadata": {},
   "outputs": [
    {
     "name": "stdout",
     "output_type": "stream",
     "text": [
      "[Taichi] version 1.3.0, llvm 15.0.1, commit 0f25b95e, win, python 3.9.12\n",
      "[Taichi] Starting on arch=x64\n"
     ]
    }
   ],
   "source": [
    "import taichi as ti\n",
    "ti.init()\n",
    "\n",
    "N = 8\n",
    "dt = 1e-5\n",
    "\n",
    "x = ti.Vector.field(2, dtype=ti.f32, shape=N, needs_grad=True)  # particle positions\n",
    "v = ti.Vector.field(2, dtype=ti.f32, shape=N)  # particle velocities\n",
    "\n",
    "U = ti.field(dtype=ti.f32, shape=(), needs_grad=True)  # potential energy\n",
    "\n",
    "\n",
    "@ti.kernel\n",
    "def compute_D():\n",
    "    for i, j in ti.ndrange(N, N):\n",
    "        r = x[i] - x[j]\n",
    "        # r.norm(1e-3) is equivalent to ti.sqrt(r.norm()**2 + 1e-3)\n",
    "        # This is to prevent 1/0 error which can cause wrong derivative\n",
    "        U[None] += -1 / r.norm(1e-3)  # U += -1 / |r|\n",
    "\n",
    "\n",
    "@ti.kernel\n",
    "def compute_U():\n",
    "    for i, j in ti.ndrange(N, N):\n",
    "        r = x[i] - x[j]\n",
    "        # r.norm(1e-3) is equivalent to ti.sqrt(r.norm()**2 + 1e-3)\n",
    "        # This is to prevent 1/0 error which can cause wrong derivative\n",
    "        U[None] += -1 / r.norm(1e-3)  # U += -1 / |r|\n",
    "\n",
    "\n",
    "@ti.kernel\n",
    "def advance():\n",
    "    for i in x:\n",
    "        v[i] += dt * -x.grad[i]  # dv/dt = -dU/dx\n",
    "    for i in x:\n",
    "        x[i] += dt * v[i]  # dx/dt = v\n",
    "\n",
    "\n",
    "def step():\n",
    "    with ti.ad.Tape(loss=U):\n",
    "        # Kernel invocations in this scope will later contribute to partial derivatives of\n",
    "        # U with respect to input variables such as x.\n",
    "        compute_U(\n",
    "        )  # The tape will automatically compute dU/dx and save the results in x.grad\n",
    "    advance()\n",
    "\n",
    "\n",
    "@ti.kernel\n",
    "def init():\n",
    "    for i in x:\n",
    "        x[i] = [ti.random(), ti.random()]\n",
    "\n",
    "\n",
    "init()\n",
    "gui = ti.GUI('Autodiff gravity')\n",
    "while gui.running:\n",
    "    for i in range(50):\n",
    "        substep()\n",
    "    gui.circles(x.to_numpy(), radius=3, palette=[0x068587, 0xED553B, 0xEEEEF0] , palette_indices=[1,0,0,0,0,0,0,0])\n",
    "    gui.show()"
   ]
  },
  {
   "cell_type": "code",
   "execution_count": null,
   "id": "69b18703",
   "metadata": {},
   "outputs": [],
   "source": []
  }
 ],
 "metadata": {
  "kernelspec": {
   "display_name": "Python 3 (ipykernel)",
   "language": "python",
   "name": "python3"
  },
  "language_info": {
   "codemirror_mode": {
    "name": "ipython",
    "version": 3
   },
   "file_extension": ".py",
   "mimetype": "text/x-python",
   "name": "python",
   "nbconvert_exporter": "python",
   "pygments_lexer": "ipython3",
   "version": "3.9.12"
  }
 },
 "nbformat": 4,
 "nbformat_minor": 5
}
