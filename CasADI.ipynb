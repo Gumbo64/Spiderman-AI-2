{
 "cells": [
  {
   "cell_type": "code",
   "execution_count": 34,
   "id": "c268f8eb",
   "metadata": {},
   "outputs": [
    {
     "name": "stdout",
     "output_type": "stream",
     "text": [
      "F:(x0,p,z0,rx0[0],rp[0],rz0[0])->(xf,qf[0],zf,rxf[0],rqf[0],rzf[0]) IdasInterface\n"
     ]
    },
    {
     "name": "stderr",
     "output_type": "stream",
     "text": [
      "At t = 0.704148 and h = 1.31517e-016, the corrector convergence failed repeatedly or with |h| = hmin.\n"
     ]
    },
    {
     "ename": "RuntimeError",
     "evalue": ".../casadi/interfaces/sundials/idas_interface.cpp:591: IDASolve returned \"IDA_CONV_FAIL\". Consult IDAS documentation.",
     "output_type": "error",
     "traceback": [
      "\u001b[1;31m---------------------------------------------------------------------------\u001b[0m",
      "\u001b[1;31mRuntimeError\u001b[0m                              Traceback (most recent call last)",
      "Input \u001b[1;32mIn [34]\u001b[0m, in \u001b[0;36m<cell line: 17>\u001b[1;34m()\u001b[0m\n\u001b[0;32m     11\u001b[0m \u001b[38;5;28mprint\u001b[39m(F)\n\u001b[0;32m     15\u001b[0m total \u001b[38;5;241m=\u001b[39m []\n\u001b[1;32m---> 17\u001b[0m r \u001b[38;5;241m=\u001b[39m \u001b[43mF\u001b[49m\u001b[43m(\u001b[49m\u001b[43mx0\u001b[49m\u001b[38;5;241;43m=\u001b[39;49m\u001b[43mr\u001b[49m\u001b[43m[\u001b[49m\u001b[38;5;124;43m\"\u001b[39;49m\u001b[38;5;124;43mxf\u001b[39;49m\u001b[38;5;124;43m\"\u001b[39;49m\u001b[43m]\u001b[49m\u001b[43m,\u001b[49m\u001b[43m \u001b[49m\u001b[43mz0\u001b[49m\u001b[38;5;241;43m=\u001b[39;49m\u001b[43mr\u001b[49m\u001b[43m[\u001b[49m\u001b[38;5;124;43m\"\u001b[39;49m\u001b[38;5;124;43mzf\u001b[39;49m\u001b[38;5;124;43m\"\u001b[39;49m\u001b[43m]\u001b[49m\u001b[43m,\u001b[49m\u001b[43m \u001b[49m\u001b[43mp\u001b[49m\u001b[38;5;241;43m=\u001b[39;49m\u001b[43mr\u001b[49m\u001b[43m[\u001b[49m\u001b[38;5;124;43m\"\u001b[39;49m\u001b[38;5;124;43mzf\u001b[39;49m\u001b[38;5;124;43m\"\u001b[39;49m\u001b[43m]\u001b[49m\u001b[43m)\u001b[49m\n\u001b[0;32m     18\u001b[0m \u001b[38;5;28mprint\u001b[39m(r\u001b[38;5;241m.\u001b[39mkeys)\n\u001b[0;32m     19\u001b[0m \u001b[38;5;28;01mfor\u001b[39;00m i \u001b[38;5;129;01min\u001b[39;00m \u001b[38;5;28mrange\u001b[39m(\u001b[38;5;241m10\u001b[39m):\n",
      "File \u001b[1;32mJ:\\devtools\\Anaconda\\lib\\site-packages\\casadi\\casadi.py:13453\u001b[0m, in \u001b[0;36mFunction.__call__\u001b[1;34m(self, *args, **kwargs)\u001b[0m\n\u001b[0;32m  13450\u001b[0m       \u001b[38;5;28;01mreturn\u001b[39;00m \u001b[38;5;28mtuple\u001b[39m(ret)\n\u001b[0;32m  13451\u001b[0m   \u001b[38;5;28;01melse\u001b[39;00m:\n\u001b[0;32m  13452\u001b[0m \u001b[38;5;66;03m# Named inputs -> return dictionary\u001b[39;00m\n\u001b[1;32m> 13453\u001b[0m     \u001b[38;5;28;01mreturn\u001b[39;00m \u001b[38;5;28;43mself\u001b[39;49m\u001b[38;5;241;43m.\u001b[39;49m\u001b[43mcall\u001b[49m\u001b[43m(\u001b[49m\u001b[43mkwargs\u001b[49m\u001b[43m)\u001b[49m\n",
      "File \u001b[1;32mJ:\\devtools\\Anaconda\\lib\\site-packages\\casadi\\casadi.py:12324\u001b[0m, in \u001b[0;36mFunction.call\u001b[1;34m(self, *args)\u001b[0m\n\u001b[0;32m  12256\u001b[0m \u001b[38;5;28;01mdef\u001b[39;00m \u001b[38;5;21mcall\u001b[39m(\u001b[38;5;28mself\u001b[39m, \u001b[38;5;241m*\u001b[39margs):\n\u001b[0;32m  12257\u001b[0m     \u001b[38;5;124;03m\"\"\"\u001b[39;00m\n\u001b[0;32m  12258\u001b[0m \u001b[38;5;124;03m      Generate a Jacobian function of output oind with respect to input iind.\u001b[39;00m\n\u001b[0;32m  12259\u001b[0m \n\u001b[1;32m   (...)\u001b[0m\n\u001b[0;32m  12322\u001b[0m \n\u001b[0;32m  12323\u001b[0m \u001b[38;5;124;03m    \"\"\"\u001b[39;00m\n\u001b[1;32m> 12324\u001b[0m     \u001b[38;5;28;01mreturn\u001b[39;00m \u001b[43m_casadi\u001b[49m\u001b[38;5;241;43m.\u001b[39;49m\u001b[43mFunction_call\u001b[49m\u001b[43m(\u001b[49m\u001b[38;5;28;43mself\u001b[39;49m\u001b[43m,\u001b[49m\u001b[43m \u001b[49m\u001b[38;5;241;43m*\u001b[39;49m\u001b[43margs\u001b[49m\u001b[43m)\u001b[49m\n",
      "\u001b[1;31mRuntimeError\u001b[0m: .../casadi/interfaces/sundials/idas_interface.cpp:591: IDASolve returned \"IDA_CONV_FAIL\". Consult IDAS documentation."
     ]
    }
   ],
   "source": [
    "from casadi import *\n",
    "import matplotlib.pyplot as plt \n",
    "import numpy as np \n",
    "    \n",
    "x = SX.sym('x')\n",
    "z = SX.sym('z')\n",
    "p = SX.sym('p')\n",
    "\n",
    "dae = {'x':x, 'z':z, 'p':p, 'ode':z+p, 'alg':z*cos(z)-x}\n",
    "F = integrator('F', 'idas', dae)\n",
    "print(F)\n",
    "\n",
    "\n",
    "\n",
    "total = []\n",
    "\n",
    "r = F(x0=r[\"xf\"], z0=r[\"zf\"], p=r[\"zf\"])\n",
    "print(r.keys)\n",
    "for i in range(10):\n",
    "    total.append(int(r['xf']))\n",
    "    r = F(x0=r[\"xf\"], z0=r[\"zf\"], p=r[\"zf\"])\n",
    "    \n",
    "\n",
    "\n",
    "    \n",
    "plt.plot(total)\n",
    "\n",
    "\n",
    "\n",
    "\n",
    "\n"
   ]
  },
  {
   "cell_type": "code",
   "execution_count": null,
   "id": "073eea30",
   "metadata": {},
   "outputs": [],
   "source": [
    "r = F(x0=0, z0=0, p=0.1)\n",
    "print(r['xf'])"
   ]
  },
  {
   "cell_type": "code",
   "execution_count": null,
   "id": "b0da4824",
   "metadata": {},
   "outputs": [],
   "source": [
    "from casadi import *\n",
    "# import pygame\n",
    "# import numpy as np\n",
    "# import time\n",
    "# from pygame.locals import *\n",
    "# import random as rd\n",
    "\n",
    "\n",
    "\n",
    "opti = casadi.Opti()\n",
    "\n",
    "x = opti.variable()\n",
    "y = opti.variable()\n",
    "\n",
    "opti.minimize(  (y-x**2)**2   )\n",
    "opti.subject_to( x**2+y**2==1 )\n",
    "opti.subject_to(       x+y>=1 )\n",
    "\n",
    "opti.solver('ipopt')\n",
    "\n",
    "\n",
    "sol = opti.solve()\n",
    "\n",
    "print(sol.value(x))\n",
    "print(sol.value(y))"
   ]
  },
  {
   "cell_type": "code",
   "execution_count": null,
   "id": "1f225603",
   "metadata": {},
   "outputs": [],
   "source": []
  },
  {
   "cell_type": "code",
   "execution_count": null,
   "id": "7b0777dc",
   "metadata": {},
   "outputs": [],
   "source": []
  }
 ],
 "metadata": {
  "kernelspec": {
   "display_name": "Python 3 (ipykernel)",
   "language": "python",
   "name": "python3"
  },
  "language_info": {
   "codemirror_mode": {
    "name": "ipython",
    "version": 3
   },
   "file_extension": ".py",
   "mimetype": "text/x-python",
   "name": "python",
   "nbconvert_exporter": "python",
   "pygments_lexer": "ipython3",
   "version": "3.9.12"
  }
 },
 "nbformat": 4,
 "nbformat_minor": 5
}
