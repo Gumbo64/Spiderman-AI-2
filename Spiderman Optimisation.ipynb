{
 "cells": [
  {
   "cell_type": "code",
   "execution_count": 1,
   "id": "a6f3d0e8",
   "metadata": {},
   "outputs": [],
   "source": [
    "from casadi import *\n"
   ]
  },
  {
   "cell_type": "code",
   "execution_count": 2,
   "id": "9fbdb70f",
   "metadata": {},
   "outputs": [],
   "source": [
    "# T for total steps\n",
    "T = 15\n",
    "N_rope = 4"
   ]
  },
  {
   "cell_type": "code",
   "execution_count": 3,
   "id": "f091805c",
   "metadata": {},
   "outputs": [
    {
     "name": "stdout",
     "output_type": "stream",
     "text": [
      "5\n",
      "[[0.6, 0.8]]\n"
     ]
    }
   ],
   "source": [
    "\n",
    "# force applied to vec1\n",
    "# ie force that moves vec1 towards vec2\n",
    "# Fs=-k*(mag(L)-L0)*norm(L)\n",
    "\n",
    "vec = MX.sym('vec1',2)\n",
    "\n",
    "# vector length\n",
    "\n",
    "v_len = Function('f',[vec],\\\n",
    "           [ sqrt(vec[0]**2 + vec[1]**2 + 0.000001)   ])\n",
    "\n",
    "# add 0.00001 so you don't divide by 0\n",
    "\n",
    "v_norm = Function('f',[vec],\\\n",
    "           [ reshape((vec / (v_len(vec) + 0.000001)),1,2)  ])\n",
    "\n",
    "print(v_len(DM([3,4])))\n",
    "print(v_norm(DM([3,4])))\n"
   ]
  },
  {
   "cell_type": "code",
   "execution_count": 4,
   "id": "0781111c",
   "metadata": {},
   "outputs": [],
   "source": [
    "# Fs=-k*(mag(L)-L0)*norm(L)\n",
    "spring_k=0.1\n",
    "l=10\n",
    "F_spring = Function('f',[vec],\\\n",
    "           [ -spring_k*( v_len(vec)  - l) * v_norm(vec) ])\n"
   ]
  },
  {
   "cell_type": "code",
   "execution_count": 5,
   "id": "d996c45a",
   "metadata": {},
   "outputs": [
    {
     "name": "stdout",
     "output_type": "stream",
     "text": [
      "\n",
      "[[0, 0], \n",
      " [0, 0], \n",
      " [0, 0], \n",
      " [0, 0]]\n",
      "\n",
      "[[0, 4], \n",
      " [1, 5], \n",
      " [2, 6], \n",
      " [3, 7]]\n"
     ]
    }
   ],
   "source": [
    "# test = DM([[1,2],[4,5],[1,2],[4,5]])\n",
    "test = DM([[0,0],[0,0],[0,0],[0,0]])\n",
    "print(test)\n",
    "\n",
    "\n",
    "for i in range(0,(4) * 2):\n",
    "    test[i] += i\n",
    "\n",
    "# test += vertcat(DM([1,1,1]),DM.zeros(3,2))\n",
    "print(test)"
   ]
  },
  {
   "cell_type": "code",
   "execution_count": 6,
   "id": "b872bf11",
   "metadata": {},
   "outputs": [],
   "source": [
    "\n",
    "\n",
    "opti = casadi.Opti()\n",
    "# States\n",
    "# N_rope = 10\n",
    "# d_rope = 10\n",
    "\n",
    "# for each time step (plus an initial one), for each segment, there is 2 numbers (x and y) \n",
    "pos = opti.variable(T+1,N_rope * 2)\n",
    "\n",
    "# input\n",
    "u = opti.variable(1,2)\n"
   ]
  },
  {
   "cell_type": "code",
   "execution_count": 7,
   "id": "5ad32ff3",
   "metadata": {},
   "outputs": [
    {
     "name": "stdout",
     "output_type": "stream",
     "text": [
      "[0, 1, 2, 3]\n",
      "[0, 0, 0, 0, 0, 0, 0, 0]\n",
      "opti0_x_1[:120:15]\n"
     ]
    }
   ],
   "source": [
    "print(list(range(N_rope)))\n",
    "print(DM.zeros(N_rope*2))\n",
    "print(pos[0,:])\n",
    "\n",
    "\n",
    "\n",
    "opti.subject_to(pos[0,:]==DM.zeros(1,N_rope * 2))"
   ]
  },
  {
   "cell_type": "code",
   "execution_count": 8,
   "id": "2f9ec662",
   "metadata": {},
   "outputs": [
    {
     "name": "stdout",
     "output_type": "stream",
     "text": [
      "[[0, 0, 0, 0, 0, 0, 0, 0]]\n"
     ]
    }
   ],
   "source": [
    "def one_hot(i):\n",
    "    global N_rope\n",
    "    return DM([(1 if a == i else 0) for a in range(2 * N_rope) ]).T\n",
    "print(one_hot(9 + N_rope))"
   ]
  },
  {
   "cell_type": "code",
   "execution_count": 9,
   "id": "61975c93",
   "metadata": {
    "scrolled": false
   },
   "outputs": [],
   "source": [
    "# k_pos = pos[1,:]\n",
    "# print(k_pos.shape)\n",
    "# print(k_pos[N_rope].shape)\n",
    "\n",
    "# print(u.shape)\n",
    "# print(u[1])\n",
    "\n",
    "for k in range(1,T):\n",
    "    prev_pos = pos[k-1,:]\n",
    "\n",
    "\n",
    "    d_pos = DM.zeros(1,N_rope * 2)\n",
    "    if k != 1:\n",
    "#         verlet integration on all rope segments\n",
    "         d_pos += pos[k-1,:]-pos[k-2,:]\n",
    "    \n",
    "######     Constraints\n",
    "\n",
    "#   k_pos[0] is the x coord of the first rope segment\n",
    "#   k_pos[0 + N_rope] accesses the y coord\n",
    "    \n",
    "    d_pos += one_hot(0)          * (u[0] - prev_pos[0])          * 0.25\n",
    "    d_pos += one_hot(0 + N_rope) * (u[1] - prev_pos[0 + N_rope]) * 0.25\n",
    "    \n",
    "    for i in range(1,N_rope - 1):\n",
    "        v1 = (prev_pos[i]  -  prev_pos[i-1]) * DM([1,0]) + (prev_pos[i+N_rope] - prev_pos[(i-1) + N_rope]) * DM([0,1])\n",
    "        v2 = (prev_pos[i]  -  prev_pos[i+1]) * DM([1,0]) + (prev_pos[i+N_rope] - prev_pos[(i+1) + N_rope]) * DM([0,1])\n",
    "        F = F_spring(v1) + F_spring(v2)\n",
    "        d_pos += one_hot(i)          * F[0]\n",
    "        d_pos += one_hot(i + N_rope) * F[1]\n",
    "    \n",
    "    v1 = (prev_pos[(N_rope - 1)]  -  prev_pos[(N_rope - 1)-1]) * DM([1,0]) + (prev_pos[(N_rope - 1)+N_rope] - prev_pos[((N_rope - 1)-1) + N_rope]) * DM([0,1])\n",
    "    F = F_spring(v1)\n",
    "    d_pos += one_hot(N_rope - 1)          * F[0]\n",
    "    d_pos += one_hot(N_rope - 1 + N_rope) * F[1]\n",
    "    \n",
    "    opti.subject_to(pos[k,:]==prev_pos + d_pos)\n"
   ]
  },
  {
   "cell_type": "code",
   "execution_count": 10,
   "id": "fa32261d",
   "metadata": {
    "scrolled": false
   },
   "outputs": [
    {
     "ename": "RuntimeError",
     "evalue": ".../casadi/core/sparsity_internal.cpp:2150: Assertion \"in_range(rr, -size1()+ind1, size1()+ind1)\" failed:\nOut of bounds error. Got elements in range [15,15], which is outside the range [-15,15).",
     "output_type": "error",
     "traceback": [
      "\u001b[1;31m---------------------------------------------------------------------------\u001b[0m",
      "\u001b[1;31mRuntimeError\u001b[0m                              Traceback (most recent call last)",
      "Input \u001b[1;32mIn [10]\u001b[0m, in \u001b[0;36m<cell line: 1>\u001b[1;34m()\u001b[0m\n\u001b[1;32m----> 1\u001b[0m final_pos \u001b[38;5;241m=\u001b[39m \u001b[43mpos\u001b[49m\u001b[43m[\u001b[49m\u001b[43mT\u001b[49m\u001b[43m,\u001b[49m\u001b[43m:\u001b[49m\u001b[43m]\u001b[49m\n\u001b[0;32m      3\u001b[0m goal \u001b[38;5;241m=\u001b[39m \u001b[38;5;241m0\u001b[39m\n\u001b[0;32m      4\u001b[0m \u001b[38;5;28;01mfor\u001b[39;00m i \u001b[38;5;129;01min\u001b[39;00m \u001b[38;5;28mrange\u001b[39m(T):\n",
      "File \u001b[1;32mJ:\\devtools\\Anaconda\\lib\\site-packages\\casadi\\casadi.py:10835\u001b[0m, in \u001b[0;36mMX.__getitem__\u001b[1;34m(self, s)\u001b[0m\n\u001b[0;32m  10833\u001b[0m \u001b[38;5;28;01mif\u001b[39;00m \u001b[38;5;28misinstance\u001b[39m(s, \u001b[38;5;28mtuple\u001b[39m) \u001b[38;5;129;01mand\u001b[39;00m \u001b[38;5;28mlen\u001b[39m(s)\u001b[38;5;241m==\u001b[39m\u001b[38;5;241m2\u001b[39m:\n\u001b[0;32m  10834\u001b[0m   \u001b[38;5;28;01mif\u001b[39;00m s[\u001b[38;5;241m1\u001b[39m] \u001b[38;5;129;01mis\u001b[39;00m \u001b[38;5;28;01mNone\u001b[39;00m: \u001b[38;5;28;01mraise\u001b[39;00m \u001b[38;5;167;01mTypeError\u001b[39;00m(\u001b[38;5;124m\"\u001b[39m\u001b[38;5;124mCannot slice with None\u001b[39m\u001b[38;5;124m\"\u001b[39m)\n\u001b[1;32m> 10835\u001b[0m   \u001b[38;5;28;01mreturn\u001b[39;00m \u001b[38;5;28;43mself\u001b[39;49m\u001b[38;5;241;43m.\u001b[39;49m\u001b[43mget\u001b[49m\u001b[43m(\u001b[49m\u001b[38;5;28;43;01mFalse\u001b[39;49;00m\u001b[43m,\u001b[49m\u001b[43m \u001b[49m\u001b[43ms\u001b[49m\u001b[43m[\u001b[49m\u001b[38;5;241;43m0\u001b[39;49m\u001b[43m]\u001b[49m\u001b[43m,\u001b[49m\u001b[43m \u001b[49m\u001b[43ms\u001b[49m\u001b[43m[\u001b[49m\u001b[38;5;241;43m1\u001b[39;49m\u001b[43m]\u001b[49m\u001b[43m)\u001b[49m\n\u001b[0;32m  10836\u001b[0m \u001b[38;5;28;01mreturn\u001b[39;00m \u001b[38;5;28mself\u001b[39m\u001b[38;5;241m.\u001b[39mget(\u001b[38;5;28;01mFalse\u001b[39;00m, s)\n",
      "File \u001b[1;32mJ:\\devtools\\Anaconda\\lib\\site-packages\\casadi\\casadi.py:10499\u001b[0m, in \u001b[0;36mMX.get\u001b[1;34m(self, *args)\u001b[0m\n\u001b[0;32m  10421\u001b[0m \u001b[38;5;28;01mdef\u001b[39;00m \u001b[38;5;21mget\u001b[39m(\u001b[38;5;28mself\u001b[39m, \u001b[38;5;241m*\u001b[39margs):\n\u001b[0;32m  10422\u001b[0m     \u001b[38;5;124;03m\"\"\"\u001b[39;00m\n\u001b[0;32m  10423\u001b[0m \u001b[38;5;124;03m      Get a submatrix, two arguments\u001b[39;00m\n\u001b[0;32m  10424\u001b[0m \n\u001b[1;32m   (...)\u001b[0m\n\u001b[0;32m  10497\u001b[0m \n\u001b[0;32m  10498\u001b[0m \u001b[38;5;124;03m    \"\"\"\u001b[39;00m\n\u001b[1;32m> 10499\u001b[0m     \u001b[38;5;28;01mreturn\u001b[39;00m \u001b[43m_casadi\u001b[49m\u001b[38;5;241;43m.\u001b[39;49m\u001b[43mMX_get\u001b[49m\u001b[43m(\u001b[49m\u001b[38;5;28;43mself\u001b[39;49m\u001b[43m,\u001b[49m\u001b[43m \u001b[49m\u001b[38;5;241;43m*\u001b[39;49m\u001b[43margs\u001b[49m\u001b[43m)\u001b[49m\n",
      "\u001b[1;31mRuntimeError\u001b[0m: .../casadi/core/sparsity_internal.cpp:2150: Assertion \"in_range(rr, -size1()+ind1, size1()+ind1)\" failed:\nOut of bounds error. Got elements in range [15,15], which is outside the range [-15,15)."
     ]
    }
   ],
   "source": [
    "final_pos = pos[T,:]\n",
    "\n",
    "goal = 0\n",
    "for i in range(T):\n",
    "    i_x = pos[i,:][(N_rope - 1)]\n",
    "    i_y = pos[i,:][(N_rope - 1) + N_rope]\n",
    "    goal += ((i_x - 50)**2 + (i_y-60)**2 ) * (i/T)\n",
    "\n",
    "# final_x = final_pos[(N_rope - 1)]\n",
    "# final_y = final_pos[(N_rope - 1) + N_rope]\n",
    "# goal = (final_x - 50)**2 + (final_y-60)**2 \n",
    "opti.minimize(goal)\n",
    "\n",
    "opti.subject_to(opti.bounded(0,u[0],100));\n",
    "opti.subject_to(opti.bounded(0,u[1],100));\n",
    "\n",
    "opti.set_initial(u[0], 75)\n",
    "opti.set_initial(u[1], 75)\n",
    "\n",
    "\n",
    "\n",
    "opti.solver('ipopt');\n",
    "sol = opti.solve();"
   ]
  },
  {
   "cell_type": "code",
   "execution_count": null,
   "id": "2a555334",
   "metadata": {},
   "outputs": [],
   "source": [
    "opti.debug"
   ]
  },
  {
   "cell_type": "code",
   "execution_count": null,
   "id": "2e540447",
   "metadata": {},
   "outputs": [],
   "source": [
    "print(final_spiderman_x)"
   ]
  },
  {
   "cell_type": "code",
   "execution_count": null,
   "id": "d6f91e37",
   "metadata": {},
   "outputs": [],
   "source": []
  }
 ],
 "metadata": {
  "kernelspec": {
   "display_name": "Python 3 (ipykernel)",
   "language": "python",
   "name": "python3"
  },
  "language_info": {
   "codemirror_mode": {
    "name": "ipython",
    "version": 3
   },
   "file_extension": ".py",
   "mimetype": "text/x-python",
   "name": "python",
   "nbconvert_exporter": "python",
   "pygments_lexer": "ipython3",
   "version": "3.9.12"
  }
 },
 "nbformat": 4,
 "nbformat_minor": 5
}
