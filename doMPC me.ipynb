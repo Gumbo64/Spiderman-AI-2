{
 "cells": [
  {
   "cell_type": "code",
   "execution_count": 1,
   "id": "ff9bff8d",
   "metadata": {},
   "outputs": [],
   "source": [
    "import numpy as np\n",
    "\n",
    "\n",
    "\n",
    "# Import do_mpc package:\n",
    "import do_mpc"
   ]
  },
  {
   "cell_type": "code",
   "execution_count": 2,
   "id": "cc029317",
   "metadata": {},
   "outputs": [],
   "source": [
    "# model = do_mpc.model.Model('continuous','MX')\n",
    "model = do_mpc.model.Model('continuous','SX')"
   ]
  },
  {
   "cell_type": "markdown",
   "id": "19431d91",
   "metadata": {},
   "source": [
    "# Variables\n",
    "* 10 Rope segments xy\n",
    "* 10 Rope segments dx dy\n",
    "* 10 Rope segments ddx ddy\n",
    "\n",
    "* Collisions / constraints (made from raycasts)"
   ]
  },
  {
   "cell_type": "code",
   "execution_count": 3,
   "id": "4d601639",
   "metadata": {},
   "outputs": [],
   "source": [
    "\n",
    "N = 1\n",
    "length = 10\n",
    "\n",
    "\n",
    "\n",
    "\n",
    "# oldrope = model.set_variable(var_type='_x', var_name='oldrope', shape=(N,2))\n",
    "\n",
    "\n",
    "anchor =  model.set_variable(var_type='_u', var_name='anchor', shape=(2))\n",
    "input_angle = model.set_variable(var_type='_u', var_name='input_angle')"
   ]
  },
  {
   "cell_type": "code",
   "execution_count": 4,
   "id": "ee4eb292",
   "metadata": {},
   "outputs": [],
   "source": [
    "# add segments to the rope\n",
    "\n",
    "rope = []\n",
    "oldrope = []\n",
    "for i in range(N):\n",
    "    rope.append(model.set_variable(var_type='_x', var_name='seg'+str(i), shape=(2)))\n",
    "    oldrope.append(model.set_variable(var_type='_x', var_name='oseg'+str(i), shape=(2)))"
   ]
  },
  {
   "cell_type": "code",
   "execution_count": 5,
   "id": "ae71867f",
   "metadata": {
    "scrolled": false
   },
   "outputs": [],
   "source": [
    "# print('rope={}, with rope.shape={}'.format(rope, rope.shape))\n",
    "# print('anchor={}, with anchor.shape={}'.format(anchor, anchor.shape))"
   ]
  },
  {
   "cell_type": "code",
   "execution_count": 7,
   "id": "51be5111",
   "metadata": {
    "scrolled": true
   },
   "outputs": [
    {
     "data": {
      "text/plain": [
       "SX([seg0_0, seg0_1])"
      ]
     },
     "execution_count": 7,
     "metadata": {},
     "output_type": "execute_result"
    }
   ],
   "source": [
    "model.x['seg0']\n"
   ]
  },
  {
   "cell_type": "code",
   "execution_count": 9,
   "id": "202263f6",
   "metadata": {},
   "outputs": [],
   "source": [
    "from casadi import *\n",
    "# rope_next = vertcat(\n",
    "#     rope[0] \n",
    "# )\n",
    "y = SX.sym('y',2)\n",
    "model.set_rhs('seg0', y)\n",
    "model.set_rhs('oseg0', y)"
   ]
  },
  {
   "cell_type": "code",
   "execution_count": 10,
   "id": "800acf5b",
   "metadata": {},
   "outputs": [],
   "source": [
    "# # x dt\n",
    "\n",
    "# for i in range(1,N-1):\n",
    "#     print(i)\n",
    "    \n",
    "    \n",
    "#     dx = rope[i]-rope[i-1]\n",
    "#     dy = rope[i+N]-rope[i-1+N]\n",
    "    \n",
    "#     distance = sqrt(dx*dx + dy*dy)\n",
    "    \n",
    "    \n",
    "#     s = (length-distance)/distance\n",
    "    \n",
    "#     T_dx = dx * s * 0.5\n",
    "#     T_dy = dy * s * 0.5\n",
    "    \n",
    "#     x += (x-oldx) + \n",
    "    \n",
    "#     model.set_rhs(rope[j], [0])"
   ]
  },
  {
   "cell_type": "code",
   "execution_count": 11,
   "id": "f3b152c9",
   "metadata": {},
   "outputs": [],
   "source": [
    "model.setup()\n",
    "simulator = do_mpc.simulator.Simulator(model)"
   ]
  },
  {
   "cell_type": "code",
   "execution_count": 13,
   "id": "77554566",
   "metadata": {},
   "outputs": [
    {
     "data": {
      "text/plain": [
       "['default']"
      ]
     },
     "execution_count": 13,
     "metadata": {},
     "output_type": "execute_result"
    }
   ],
   "source": [
    "# Instead of supplying a dict with the splat operator (**), as with the optimizer.set_param(),\n",
    "# we can also use keywords (and call the method multiple times, if necessary):\n",
    "simulator.set_param(t_step = 0.1)\n",
    "p_template = simulator.get_p_template()\n",
    "p_template.keys()\n"
   ]
  },
  {
   "cell_type": "code",
   "execution_count": 15,
   "id": "d63dc284",
   "metadata": {},
   "outputs": [],
   "source": [
    "def p_fun(t_now):\n",
    "    p_template['seg0'] = (0,0)\n",
    "    p_template['oseg0'] = (1,1)\n",
    "\n",
    "    return p_template"
   ]
  },
  {
   "cell_type": "code",
   "execution_count": 17,
   "id": "b386f499",
   "metadata": {},
   "outputs": [
    {
     "ename": "Exception",
     "evalue": "Error occured in struct context with powerIndex ('seg0',), at canonicalIndex ()",
     "output_type": "error",
     "traceback": [
      "\u001b[1;31m---------------------------------------------------------------------------\u001b[0m",
      "\u001b[1;31mException\u001b[0m                                 Traceback (most recent call last)",
      "File \u001b[1;32mJ:\\devtools\\Anaconda\\lib\\site-packages\\casadi\\tools\\structure3.py:344\u001b[0m, in \u001b[0;36mStructure.traverseByPowerIndex\u001b[1;34m(self, powerIndex, canonicalIndex, dispatcher, payload)\u001b[0m\n\u001b[0;32m    343\u001b[0m \u001b[38;5;28;01mif\u001b[39;00m is_string(p):\n\u001b[1;32m--> 344\u001b[0m   \u001b[38;5;28;01mreturn\u001b[39;00m \u001b[38;5;28;43mself\u001b[39;49m\u001b[38;5;241;43m.\u001b[39;49m\u001b[43mdict\u001b[49m\u001b[43m[\u001b[49m\u001b[43mp\u001b[49m\u001b[43m]\u001b[49m\u001b[38;5;241m.\u001b[39mtraverseByPowerIndex(\n\u001b[0;32m    345\u001b[0m     powerIndex[\u001b[38;5;241m1\u001b[39m:],\n\u001b[0;32m    346\u001b[0m     canonicalIndex\u001b[38;5;241m=\u001b[39mcanonicalIndex\u001b[38;5;241m+\u001b[39m(p,),\n\u001b[0;32m    347\u001b[0m     dispatcher\u001b[38;5;241m=\u001b[39mdispatcher,\n\u001b[0;32m    348\u001b[0m     payload\u001b[38;5;241m=\u001b[39mpayload\n\u001b[0;32m    349\u001b[0m   )\n\u001b[0;32m    350\u001b[0m \u001b[38;5;28;01melif\u001b[39;00m \u001b[38;5;28misinstance\u001b[39m(p,\u001b[38;5;28mslice\u001b[39m):\n",
      "File \u001b[1;32mJ:\\devtools\\Anaconda\\lib\\site-packages\\casadi\\tools\\structure3.py:125\u001b[0m, in \u001b[0;36mSafeDict.__getitem__\u001b[1;34m(self, k)\u001b[0m\n\u001b[0;32m    124\u001b[0m \u001b[38;5;28;01mif\u001b[39;00m k \u001b[38;5;129;01mnot\u001b[39;00m \u001b[38;5;129;01min\u001b[39;00m \u001b[38;5;28mself\u001b[39m:\n\u001b[1;32m--> 125\u001b[0m   \u001b[38;5;28;01mraise\u001b[39;00m \u001b[38;5;167;01mException\u001b[39;00m(\u001b[38;5;124m\"\u001b[39m\u001b[38;5;124mUnknown keyword \u001b[39m\u001b[38;5;124m'\u001b[39m\u001b[38;5;132;01m%s\u001b[39;00m\u001b[38;5;124m'\u001b[39m\u001b[38;5;124m. Available entries: \u001b[39m\u001b[38;5;132;01m%s\u001b[39;00m\u001b[38;5;124m\"\u001b[39m \u001b[38;5;241m%\u001b[39m (k,\u001b[38;5;28mstr\u001b[39m(\u001b[38;5;28mlist\u001b[39m(\u001b[38;5;28mself\u001b[39m\u001b[38;5;241m.\u001b[39mkeys()))))\n\u001b[0;32m    126\u001b[0m \u001b[38;5;28;01mreturn\u001b[39;00m \u001b[38;5;28mdict\u001b[39m\u001b[38;5;241m.\u001b[39m\u001b[38;5;21m__getitem__\u001b[39m(\u001b[38;5;28mself\u001b[39m,k)\n",
      "\u001b[1;31mException\u001b[0m: Unknown keyword 'seg0'. Available entries: ['default']",
      "\nThe above exception was the direct cause of the following exception:\n",
      "\u001b[1;31mException\u001b[0m                                 Traceback (most recent call last)",
      "Input \u001b[1;32mIn [17]\u001b[0m, in \u001b[0;36m<cell line: 1>\u001b[1;34m()\u001b[0m\n\u001b[1;32m----> 1\u001b[0m \u001b[43msimulator\u001b[49m\u001b[38;5;241;43m.\u001b[39;49m\u001b[43mset_p_fun\u001b[49m\u001b[43m(\u001b[49m\u001b[43mp_fun\u001b[49m\u001b[43m)\u001b[49m\n",
      "File \u001b[1;32mJ:\\devtools\\Anaconda\\lib\\site-packages\\do_mpc\\simulator.py:370\u001b[0m, in \u001b[0;36mSimulator.set_p_fun\u001b[1;34m(self, p_fun)\u001b[0m\n\u001b[0;32m    306\u001b[0m \u001b[38;5;28;01mdef\u001b[39;00m \u001b[38;5;21mset_p_fun\u001b[39m(\u001b[38;5;28mself\u001b[39m,p_fun):\n\u001b[0;32m    307\u001b[0m     \u001b[38;5;124;03m\"\"\"Method to set the function which gives the values of the parameters.\u001b[39;00m\n\u001b[0;32m    308\u001b[0m \u001b[38;5;124;03m    This function must return a CasADi structure which can be obtained with :py:func:`get_p_template`.\u001b[39;00m\n\u001b[0;32m    309\u001b[0m \n\u001b[1;32m   (...)\u001b[0m\n\u001b[0;32m    368\u001b[0m \u001b[38;5;124;03m    :rtype: None\u001b[39;00m\n\u001b[0;32m    369\u001b[0m \u001b[38;5;124;03m    \"\"\"\u001b[39;00m\n\u001b[1;32m--> 370\u001b[0m     \u001b[38;5;28;01massert\u001b[39;00m \u001b[38;5;28misinstance\u001b[39m(\u001b[43mp_fun\u001b[49m\u001b[43m(\u001b[49m\u001b[38;5;241;43m0\u001b[39;49m\u001b[43m)\u001b[49m, structure3\u001b[38;5;241m.\u001b[39mDMStruct), \u001b[38;5;124m'\u001b[39m\u001b[38;5;124mp_fun has incorrect return type.\u001b[39m\u001b[38;5;124m'\u001b[39m\n\u001b[0;32m    371\u001b[0m     \u001b[38;5;28;01massert\u001b[39;00m \u001b[38;5;28mself\u001b[39m\u001b[38;5;241m.\u001b[39mget_p_template()\u001b[38;5;241m.\u001b[39mlabels() \u001b[38;5;241m==\u001b[39m p_fun(\u001b[38;5;241m0\u001b[39m)\u001b[38;5;241m.\u001b[39mlabels(), \u001b[38;5;124m'\u001b[39m\u001b[38;5;124mIncorrect output of p_fun. Use get_p_template to obtain the required structure.\u001b[39m\u001b[38;5;124m'\u001b[39m\n\u001b[0;32m    372\u001b[0m     \u001b[38;5;28mself\u001b[39m\u001b[38;5;241m.\u001b[39mp_fun \u001b[38;5;241m=\u001b[39m p_fun\n",
      "Input \u001b[1;32mIn [15]\u001b[0m, in \u001b[0;36mp_fun\u001b[1;34m(t_now)\u001b[0m\n\u001b[0;32m      1\u001b[0m \u001b[38;5;28;01mdef\u001b[39;00m \u001b[38;5;21mp_fun\u001b[39m(t_now):\n\u001b[1;32m----> 2\u001b[0m     p_template[\u001b[38;5;124m'\u001b[39m\u001b[38;5;124mseg0\u001b[39m\u001b[38;5;124m'\u001b[39m] \u001b[38;5;241m=\u001b[39m (\u001b[38;5;241m0\u001b[39m,\u001b[38;5;241m0\u001b[39m)\n\u001b[0;32m      3\u001b[0m     p_template[\u001b[38;5;124m'\u001b[39m\u001b[38;5;124moseg0\u001b[39m\u001b[38;5;124m'\u001b[39m] \u001b[38;5;241m=\u001b[39m (\u001b[38;5;241m1\u001b[39m,\u001b[38;5;241m1\u001b[39m)\n\u001b[0;32m      5\u001b[0m     \u001b[38;5;28;01mreturn\u001b[39;00m p_template\n",
      "File \u001b[1;32mJ:\\devtools\\Anaconda\\lib\\site-packages\\casadi\\tools\\structure3.py:118\u001b[0m, in \u001b[0;36mproperGetitem.<locals>.proper\u001b[1;34m(self, mbt, *args)\u001b[0m\n\u001b[0;32m    116\u001b[0m \u001b[38;5;28;01mif\u001b[39;00m \u001b[38;5;129;01mnot\u001b[39;00m \u001b[38;5;28misinstance\u001b[39m(mbt,\u001b[38;5;28mtuple\u001b[39m):\n\u001b[0;32m    117\u001b[0m   mbt \u001b[38;5;241m=\u001b[39m (mbt,)\n\u001b[1;32m--> 118\u001b[0m \u001b[38;5;28;01mreturn\u001b[39;00m \u001b[43mf\u001b[49m\u001b[43m(\u001b[49m\u001b[38;5;28;43mself\u001b[39;49m\u001b[43m,\u001b[49m\u001b[43mmbt\u001b[49m\u001b[43m,\u001b[49m\u001b[38;5;241;43m*\u001b[39;49m\u001b[43margs\u001b[49m\u001b[43m)\u001b[49m\n",
      "File \u001b[1;32mJ:\\devtools\\Anaconda\\lib\\site-packages\\casadi\\tools\\structure3.py:634\u001b[0m, in \u001b[0;36mMasterSettable.__setitem__\u001b[1;34m(self, powerIndex, value)\u001b[0m\n\u001b[0;32m    632\u001b[0m \u001b[38;5;129m@properGetitem\u001b[39m\n\u001b[0;32m    633\u001b[0m \u001b[38;5;28;01mdef\u001b[39;00m \u001b[38;5;21m__setitem__\u001b[39m(\u001b[38;5;28mself\u001b[39m,powerIndex,value):\n\u001b[1;32m--> 634\u001b[0m   \u001b[38;5;28;01mreturn\u001b[39;00m \u001b[38;5;28;43mself\u001b[39;49m\u001b[38;5;241;43m.\u001b[39;49m\u001b[43mstruct\u001b[49m\u001b[38;5;241;43m.\u001b[39;49m\u001b[43mtraverseByPowerIndex\u001b[49m\u001b[43m(\u001b[49m\u001b[43mpowerIndex\u001b[49m\u001b[43m,\u001b[49m\u001b[43mdispatcher\u001b[49m\u001b[38;5;241;43m=\u001b[39;49m\n\u001b[0;32m    635\u001b[0m \u001b[43m  \u001b[49m\u001b[43mSetterDispatcher\u001b[49m\u001b[43m(\u001b[49m\u001b[43mstruct\u001b[49m\u001b[38;5;241;43m=\u001b[39;49m\u001b[38;5;28;43mself\u001b[39;49m\u001b[38;5;241;43m.\u001b[39;49m\u001b[43mstruct\u001b[49m\u001b[43m,\u001b[49m\u001b[43mmaster\u001b[49m\u001b[38;5;241;43m=\u001b[39;49m\u001b[38;5;28;43mself\u001b[39;49m\u001b[38;5;241;43m.\u001b[39;49m\u001b[43mmaster\u001b[49m\u001b[43m,\u001b[49m\u001b[43mmtype\u001b[49m\u001b[38;5;241;43m=\u001b[39;49m\u001b[38;5;28;43mself\u001b[39;49m\u001b[38;5;241;43m.\u001b[39;49m\u001b[43mmtype\u001b[49m\u001b[43m)\u001b[49m\u001b[43m,\u001b[49m\u001b[43mpayload\u001b[49m\u001b[38;5;241;43m=\u001b[39;49m\u001b[43mvalue\u001b[49m\u001b[43m)\u001b[49m\n",
      "File \u001b[1;32mJ:\\devtools\\Anaconda\\lib\\site-packages\\casadi\\tools\\structure3.py:430\u001b[0m, in \u001b[0;36mStructure.traverseByPowerIndex\u001b[1;34m(self, powerIndex, canonicalIndex, dispatcher, payload)\u001b[0m\n\u001b[0;32m    428\u001b[0m     \u001b[38;5;28;01mraise\u001b[39;00m \u001b[38;5;167;01mException\u001b[39;00m(\u001b[38;5;124m\"\u001b[39m\u001b[38;5;124mI don\u001b[39m\u001b[38;5;124m'\u001b[39m\u001b[38;5;124mt know what to do with this: \u001b[39m\u001b[38;5;132;01m%s\u001b[39;00m\u001b[38;5;124m\"\u001b[39m \u001b[38;5;241m%\u001b[39m \u001b[38;5;28mstr\u001b[39m(p))\n\u001b[0;32m    429\u001b[0m \u001b[38;5;28;01mexcept\u001b[39;00m \u001b[38;5;167;01mException\u001b[39;00m \u001b[38;5;28;01mas\u001b[39;00m e:\n\u001b[1;32m--> 430\u001b[0m   \u001b[38;5;28;01mraise\u001b[39;00m \u001b[38;5;167;01mException\u001b[39;00m(\u001b[38;5;124m\"\u001b[39m\u001b[38;5;124mError occured in struct context with powerIndex \u001b[39m\u001b[38;5;132;01m%s\u001b[39;00m\u001b[38;5;124m, at canonicalIndex \u001b[39m\u001b[38;5;132;01m%s\u001b[39;00m\u001b[38;5;124m\"\u001b[39m \u001b[38;5;241m%\u001b[39m (\u001b[38;5;28mstr\u001b[39m(powerIndex),\u001b[38;5;28mstr\u001b[39m(canonicalIndex))) \u001b[38;5;28;01mfrom\u001b[39;00m \u001b[38;5;21;01me\u001b[39;00m\n",
      "\u001b[1;31mException\u001b[0m: Error occured in struct context with powerIndex ('seg0',), at canonicalIndex ()"
     ]
    }
   ],
   "source": [
    "simulator.set_p_fun(p_fun)"
   ]
  },
  {
   "cell_type": "code",
   "execution_count": null,
   "id": "48874503",
   "metadata": {},
   "outputs": [],
   "source": []
  }
 ],
 "metadata": {
  "kernelspec": {
   "display_name": "Python 3 (ipykernel)",
   "language": "python",
   "name": "python3"
  },
  "language_info": {
   "codemirror_mode": {
    "name": "ipython",
    "version": 3
   },
   "file_extension": ".py",
   "mimetype": "text/x-python",
   "name": "python",
   "nbconvert_exporter": "python",
   "pygments_lexer": "ipython3",
   "version": "3.9.12"
  }
 },
 "nbformat": 4,
 "nbformat_minor": 5
}
