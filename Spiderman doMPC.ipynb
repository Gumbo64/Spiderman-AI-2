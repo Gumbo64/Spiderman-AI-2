{
 "cells": [
  {
   "cell_type": "code",
   "execution_count": 1,
   "id": "e9384199",
   "metadata": {},
   "outputs": [],
   "source": [
    "import numpy as np\n",
    "import sys\n",
    "from casadi import *\n",
    "\n",
    "# Add do_mpc to path. This is not necessary if it was installed via pip\n",
    "sys.path.append('../../../')\n",
    "\n",
    "# Import do_mpc package:\n",
    "import do_mpc"
   ]
  },
  {
   "cell_type": "code",
   "execution_count": 2,
   "id": "ba1c7488",
   "metadata": {},
   "outputs": [
    {
     "name": "stdout",
     "output_type": "stream",
     "text": [
      "\n",
      "[[1, 3, 5, 7, 9], \n",
      " [2, 4, 6, 8, 10]]\n",
      "\n",
      "[[1, 2], \n",
      " [3, 4], \n",
      " [5, 6], \n",
      " [7, 8], \n",
      " [9, 10]]\n",
      "[[5, 6]]\n"
     ]
    }
   ],
   "source": [
    "a = horzcat(DM([1,2]),DM([3,4]),DM([5,6]),DM([7,8]),DM([9,10])  )\n",
    "print(a)\n",
    "# a = reshape(a,5,2)\n",
    "a = a.T\n",
    "print(a)\n",
    "\n",
    "print(a[2,:])"
   ]
  },
  {
   "cell_type": "code",
   "execution_count": 3,
   "id": "49d10872",
   "metadata": {},
   "outputs": [
    {
     "name": "stdout",
     "output_type": "stream",
     "text": [
      "(2, 1)\n",
      "(1, 2)\n"
     ]
    }
   ],
   "source": [
    "print(DM([0,-9.8]).shape)\n",
    "print((DM([0,-9.8]).T).shape)"
   ]
  },
  {
   "cell_type": "code",
   "execution_count": 4,
   "id": "ac9c6266",
   "metadata": {},
   "outputs": [],
   "source": [
    "\n",
    "model = do_mpc.model.Model('continuous', 'MX')"
   ]
  },
  {
   "cell_type": "code",
   "execution_count": 5,
   "id": "47647bfd",
   "metadata": {},
   "outputs": [],
   "source": [
    "g = 9.80665 # m/s^2, Gravity\n",
    "N = 10"
   ]
  },
  {
   "cell_type": "code",
   "execution_count": 6,
   "id": "df58c10e",
   "metadata": {},
   "outputs": [],
   "source": [
    "# Add the velocity vector to each of the position vectors in the rope\n",
    "test_rope = DM([[2,1],[5,5],[6,6]])\n",
    "test_velocity = DM([8,9])\n",
    "# print(test_rope + repmat(test_velocity.T,N,1))"
   ]
  },
  {
   "cell_type": "code",
   "execution_count": 7,
   "id": "9b9d7fb0",
   "metadata": {},
   "outputs": [],
   "source": [
    "m = MX.sym('m',N,2)\n",
    "y1 = MX.sym('y1',2)\n",
    "y2 = MX.sym('y2',2)\n",
    "\n",
    "# f = Function('f',[m,y1],\\\n",
    "#            [m + repmat(y1.T,N,1)])\n",
    "\n",
    "# f( test_rope  ,  test_velocity  )"
   ]
  },
  {
   "cell_type": "code",
   "execution_count": 8,
   "id": "5347b550",
   "metadata": {},
   "outputs": [
    {
     "name": "stdout",
     "output_type": "stream",
     "text": [
      "5\n",
      "[[0.599999, 0.799998]]\n"
     ]
    }
   ],
   "source": [
    "\n",
    "# force applied to vec1\n",
    "# ie force that moves vec1 towards vec2\n",
    "\n",
    "# Fs=-k*(mag(L)-L0)*norm(L)\n",
    "\n",
    "vec1 = MX.sym('vec1',2)\n",
    "vec2 = MX.sym('vec2',2)\n",
    "\n",
    "\n",
    "\n",
    "\n",
    "# vector length\n",
    "\n",
    "v_len = Function('f',[vec1],\\\n",
    "           [ sqrt(vec1[0]**2 + vec1[1]**2 + 0.00001)  ])\n",
    "\n",
    "# add 0.00001 so you don't divide by 0\n",
    "\n",
    "v_norm = Function('f',[vec1],\\\n",
    "           [ reshape((vec1 / (v_len(vec1) + 0.00001)),1,2)  ])\n",
    "\n",
    "print(v_len(DM([3,4])))\n",
    "print(v_norm(DM([3,4])))\n"
   ]
  },
  {
   "cell_type": "code",
   "execution_count": 9,
   "id": "b077dd9e",
   "metadata": {},
   "outputs": [],
   "source": [
    "# Fs=-k*(mag(L)-L0)*norm(L)\n",
    "k=5\n",
    "l=5\n",
    "F_spring = Function('f',[vec1,vec2],\\\n",
    "           [ -k*( v_len(vec1-vec2)  - l) * v_norm(vec1-vec2) ])\n",
    "\n",
    "\n",
    "\n",
    "\n"
   ]
  },
  {
   "cell_type": "code",
   "execution_count": 10,
   "id": "561ecada",
   "metadata": {},
   "outputs": [
    {
     "name": "stdout",
     "output_type": "stream",
     "text": [
      "['[pos,0]', '[pos,1]', '[pos,2]', '[pos,3]', '[pos,4]', '[pos,5]', '[pos,6]', '[pos,7]', '[pos,8]', '[pos,9]', '[pos,10]', '[pos,11]', '[pos,12]', '[pos,13]', '[pos,14]', '[pos,15]', '[pos,16]', '[pos,17]', '[pos,18]', '[pos,19]', '[dpos,0]', '[dpos,1]', '[dpos,2]', '[dpos,3]', '[dpos,4]', '[dpos,5]', '[dpos,6]', '[dpos,7]', '[dpos,8]', '[dpos,9]', '[dpos,10]', '[dpos,11]', '[dpos,12]', '[dpos,13]', '[dpos,14]', '[dpos,15]', '[dpos,16]', '[dpos,17]', '[dpos,18]', '[dpos,19]']\n",
      "(1, 2)\n"
     ]
    }
   ],
   "source": [
    "\n",
    "\n",
    "\n",
    "pos = model.set_variable('_x',  'pos',shape=(N,2))\n",
    "dpos = model.set_variable('_x',  'dpos',shape=(N,2))\n",
    "\n",
    "print(model.x.labels())\n",
    "u = model.set_variable('_u',  'u',shape=(1,2))\n",
    "print(u.shape)\n",
    "\n",
    "# ddpos = model.set_variable('_z', 'ddpos',shape=(N,2))"
   ]
  },
  {
   "cell_type": "code",
   "execution_count": 11,
   "id": "1232f4e8",
   "metadata": {},
   "outputs": [
    {
     "name": "stdout",
     "output_type": "stream",
     "text": [
      "(1, 2)\n",
      "(1, 2)\n",
      "(10, 2)\n",
      "(10, 2)\n",
      "(10, 2)\n",
      "(1, 2)\n"
     ]
    }
   ],
   "source": [
    "model.set_rhs('pos', dpos)\n",
    "\n",
    "\n",
    "# if you don't add the [0,:] then it indexes the single number \n",
    "# ie pos[0] = the x value of pos[0,:]\n",
    "# ie pos[2] = the x value of pos[1,:]\n",
    "print(pos[0,:].shape)\n",
    "print(v_norm(pos[0,:]).shape)\n",
    "ddpos = vertcat(\n",
    "    u - pos[0],\n",
    "    F_spring(pos[1,:],pos[0,:]) + F_spring(pos[1,:],pos[2,:]),\n",
    "    F_spring(pos[2,:],pos[1,:]) + F_spring(pos[2,:],pos[3,:]),\n",
    "    F_spring(pos[3,:],pos[2,:]) + F_spring(pos[3,:],pos[4,:]),\n",
    "    F_spring(pos[4,:],pos[3,:]) + F_spring(pos[4,:],pos[5,:]),\n",
    "    F_spring(pos[5,:],pos[4,:]) + F_spring(pos[5,:],pos[6,:]),\n",
    "    F_spring(pos[6,:],pos[5,:]) + F_spring(pos[6,:],pos[7,:]),\n",
    "    F_spring(pos[7,:],pos[6,:]) + F_spring(pos[7,:],pos[8,:]),\n",
    "    F_spring(pos[8,:],pos[7,:]) + F_spring(pos[8,:],pos[9,:]),\n",
    "    F_spring(pos[9,:],pos[8,:]) + DM([0,-9.8]).T\n",
    ")\n",
    "print(ddpos.shape)\n",
    "print(dpos.shape)\n",
    "print(pos.shape)\n",
    "print(u.shape)\n",
    "\n",
    "model.set_rhs('dpos', ddpos)\n",
    "# model.set_rhs('time', 1)"
   ]
  },
  {
   "cell_type": "code",
   "execution_count": 12,
   "id": "2ad97594",
   "metadata": {},
   "outputs": [],
   "source": [
    "# formulas = vertcat(\n",
    "#         # 1\n",
    "#         u\n",
    "#         - (ddpos),\n",
    "#     )\n",
    "\n",
    "# model.set_alg('formulas', formulas)"
   ]
  },
  {
   "cell_type": "code",
   "execution_count": 13,
   "id": "85849cd5",
   "metadata": {},
   "outputs": [
    {
     "data": {
      "text/plain": [
       "MX(f((all_50(1x2)-pos[9:29:10])'){0})"
      ]
     },
     "execution_count": 13,
     "metadata": {},
     "output_type": "execute_result"
    }
   ],
   "source": [
    "\n",
    "distance = v_len(DM([50,50]).T-pos[N-1,:])\n",
    "\n",
    "\n",
    "model.set_expression('distance', distance)"
   ]
  },
  {
   "cell_type": "code",
   "execution_count": null,
   "id": "044a233b",
   "metadata": {},
   "outputs": [],
   "source": []
  },
  {
   "cell_type": "code",
   "execution_count": 14,
   "id": "001694e9",
   "metadata": {},
   "outputs": [],
   "source": [
    "# Build the model\n",
    "model.setup()"
   ]
  },
  {
   "cell_type": "code",
   "execution_count": 15,
   "id": "d77ee6b3",
   "metadata": {},
   "outputs": [],
   "source": [
    "mpc = do_mpc.controller.MPC(model)"
   ]
  },
  {
   "cell_type": "code",
   "execution_count": 16,
   "id": "346e08df",
   "metadata": {},
   "outputs": [],
   "source": [
    "setup_mpc = {\n",
    "    'n_horizon': 100,\n",
    "    'n_robust': 0,\n",
    "    'open_loop': 0,\n",
    "    't_step': 0.04,\n",
    "    'state_discretization': 'collocation',\n",
    "    'collocation_type': 'radau',\n",
    "    'collocation_deg': 3,\n",
    "    'collocation_ni': 1,\n",
    "    'store_full_solution': True,\n",
    "    # Use MA27 linear solver in ipopt for faster calculations:\n",
    "    'nlpsol_opts': {'ipopt.linear_solver': 'mumps'}\n",
    "}\n",
    "mpc.set_param(**setup_mpc)"
   ]
  },
  {
   "cell_type": "code",
   "execution_count": 17,
   "id": "b72a5d04",
   "metadata": {},
   "outputs": [],
   "source": [
    "mterm = model.aux['distance'] # terminal cost\n",
    "lterm = model.aux['distance'] # stage cost\n",
    "\n",
    "mpc.set_objective(mterm=mterm, lterm=lterm)\n",
    "# Input force is implicitly restricted through the objective.\n",
    "mpc.set_rterm(u=0.1)"
   ]
  },
  {
   "cell_type": "code",
   "execution_count": 18,
   "id": "2aa57271",
   "metadata": {},
   "outputs": [],
   "source": [
    "mpc.bounds['lower','_u','u'] = DM([0,0]).T\n",
    "mpc.bounds['upper','_u','u'] = DM([100,100]).T"
   ]
  },
  {
   "cell_type": "code",
   "execution_count": 19,
   "id": "318db96f",
   "metadata": {
    "scrolled": false
   },
   "outputs": [
    {
     "ename": "RuntimeError",
     "evalue": ".../casadi/core/sparsity.cpp:1358: Assertion \"sp_nrow==ret_nrow || sp_nrow==0\" failed:\nSparsity::horzcat: Mismatching number of rows",
     "output_type": "error",
     "traceback": [
      "\u001b[1;31m---------------------------------------------------------------------------\u001b[0m",
      "\u001b[1;31mRuntimeError\u001b[0m                              Traceback (most recent call last)",
      "Input \u001b[1;32mIn [19]\u001b[0m, in \u001b[0;36m<cell line: 1>\u001b[1;34m()\u001b[0m\n\u001b[1;32m----> 1\u001b[0m \u001b[43mmpc\u001b[49m\u001b[38;5;241;43m.\u001b[39;49m\u001b[43msetup\u001b[49m\u001b[43m(\u001b[49m\u001b[43m)\u001b[49m\n",
      "File \u001b[1;32mJ:\\devtools\\Anaconda\\lib\\site-packages\\do_mpc\\controller.py:967\u001b[0m, in \u001b[0;36mMPC.setup\u001b[1;34m(self)\u001b[0m\n\u001b[0;32m    943\u001b[0m \u001b[38;5;28;01mdef\u001b[39;00m \u001b[38;5;21msetup\u001b[39m(\u001b[38;5;28mself\u001b[39m):\n\u001b[0;32m    944\u001b[0m     \u001b[38;5;124;03m\"\"\"Setup the MPC class.\u001b[39;00m\n\u001b[0;32m    945\u001b[0m \u001b[38;5;124;03m    Internally, this method will create the MPC optimization problem under consideration\u001b[39;00m\n\u001b[0;32m    946\u001b[0m \u001b[38;5;124;03m    of the supplied dynamic model and the given :py:class:`MPC` class instance configuration.\u001b[39;00m\n\u001b[1;32m   (...)\u001b[0m\n\u001b[0;32m    964\u001b[0m \n\u001b[0;32m    965\u001b[0m \u001b[38;5;124;03m    \"\"\"\u001b[39;00m\n\u001b[1;32m--> 967\u001b[0m     \u001b[38;5;28;43mself\u001b[39;49m\u001b[38;5;241;43m.\u001b[39;49m\u001b[43mprepare_nlp\u001b[49m\u001b[43m(\u001b[49m\u001b[43m)\u001b[49m\n\u001b[0;32m    968\u001b[0m     \u001b[38;5;28mself\u001b[39m\u001b[38;5;241m.\u001b[39mcreate_nlp()\n",
      "File \u001b[1;32mJ:\\devtools\\Anaconda\\lib\\site-packages\\do_mpc\\optimizer.py:1030\u001b[0m, in \u001b[0;36mOptimizer.prepare_nlp\u001b[1;34m(self)\u001b[0m\n\u001b[0;32m   1009\u001b[0m \u001b[38;5;124;03m\"\"\"Prepare the optimization problem.\u001b[39;00m\n\u001b[0;32m   1010\u001b[0m \u001b[38;5;124;03mTypically, this method is called internally from :py:meth:`setup`.\u001b[39;00m\n\u001b[0;32m   1011\u001b[0m \n\u001b[1;32m   (...)\u001b[0m\n\u001b[0;32m   1026\u001b[0m \n\u001b[0;32m   1027\u001b[0m \u001b[38;5;124;03m\"\"\"\u001b[39;00m\n\u001b[0;32m   1029\u001b[0m \u001b[38;5;66;03m# MPC and MHE have similar methods. The documentation is valid for both of them.\u001b[39;00m\n\u001b[1;32m-> 1030\u001b[0m \u001b[38;5;28;43mself\u001b[39;49m\u001b[38;5;241;43m.\u001b[39;49m\u001b[43m_prepare_nlp\u001b[49m\u001b[43m(\u001b[49m\u001b[43m)\u001b[49m\n",
      "File \u001b[1;32mJ:\\devtools\\Anaconda\\lib\\site-packages\\do_mpc\\controller.py:1144\u001b[0m, in \u001b[0;36mMPC._prepare_nlp\u001b[1;34m(self)\u001b[0m\n\u001b[0;32m   1141\u001b[0m     n_eps \u001b[38;5;241m=\u001b[39m \u001b[38;5;28mself\u001b[39m\u001b[38;5;241m.\u001b[39mn_horizon\n\u001b[0;32m   1143\u001b[0m \u001b[38;5;66;03m# Create struct for optimization variables:\u001b[39;00m\n\u001b[1;32m-> 1144\u001b[0m \u001b[38;5;28mself\u001b[39m\u001b[38;5;241m.\u001b[39m_opt_x \u001b[38;5;241m=\u001b[39m opt_x \u001b[38;5;241m=\u001b[39m \u001b[38;5;28;43mself\u001b[39;49m\u001b[38;5;241;43m.\u001b[39;49m\u001b[43mmodel\u001b[49m\u001b[38;5;241;43m.\u001b[39;49m\u001b[43msv\u001b[49m\u001b[38;5;241;43m.\u001b[39;49m\u001b[43msym_struct\u001b[49m\u001b[43m(\u001b[49m\u001b[43m[\u001b[49m\n\u001b[0;32m   1145\u001b[0m \u001b[43m    \u001b[49m\u001b[38;5;66;43;03m# One additional point (in the collocation dimension) for the final point.\u001b[39;49;00m\n\u001b[0;32m   1146\u001b[0m \u001b[43m    \u001b[49m\u001b[43mentry\u001b[49m\u001b[43m(\u001b[49m\u001b[38;5;124;43m'\u001b[39;49m\u001b[38;5;124;43m_x\u001b[39;49m\u001b[38;5;124;43m'\u001b[39;49m\u001b[43m,\u001b[49m\u001b[43m \u001b[49m\u001b[43mrepeat\u001b[49m\u001b[38;5;241;43m=\u001b[39;49m\u001b[43m[\u001b[49m\u001b[38;5;28;43mself\u001b[39;49m\u001b[38;5;241;43m.\u001b[39;49m\u001b[43mn_horizon\u001b[49m\u001b[38;5;241;43m+\u001b[39;49m\u001b[38;5;241;43m1\u001b[39;49m\u001b[43m,\u001b[49m\u001b[43m \u001b[49m\u001b[43mn_max_scenarios\u001b[49m\u001b[43m,\u001b[49m\n\u001b[0;32m   1147\u001b[0m \u001b[43m                        \u001b[49m\u001b[38;5;241;43m1\u001b[39;49m\u001b[38;5;241;43m+\u001b[39;49m\u001b[43mn_total_coll_points\u001b[49m\u001b[43m]\u001b[49m\u001b[43m,\u001b[49m\u001b[43m \u001b[49m\u001b[43mstruct\u001b[49m\u001b[38;5;241;43m=\u001b[39;49m\u001b[38;5;28;43mself\u001b[39;49m\u001b[38;5;241;43m.\u001b[39;49m\u001b[43mmodel\u001b[49m\u001b[38;5;241;43m.\u001b[39;49m\u001b[43m_x\u001b[49m\u001b[43m)\u001b[49m\u001b[43m,\u001b[49m\n\u001b[0;32m   1148\u001b[0m \u001b[43m    \u001b[49m\u001b[43mentry\u001b[49m\u001b[43m(\u001b[49m\u001b[38;5;124;43m'\u001b[39;49m\u001b[38;5;124;43m_z\u001b[39;49m\u001b[38;5;124;43m'\u001b[39;49m\u001b[43m,\u001b[49m\u001b[43m \u001b[49m\u001b[43mrepeat\u001b[49m\u001b[38;5;241;43m=\u001b[39;49m\u001b[43m[\u001b[49m\u001b[38;5;28;43mself\u001b[39;49m\u001b[38;5;241;43m.\u001b[39;49m\u001b[43mn_horizon\u001b[49m\u001b[43m,\u001b[49m\u001b[43m \u001b[49m\u001b[43mn_max_scenarios\u001b[49m\u001b[43m,\u001b[49m\n\u001b[0;32m   1149\u001b[0m \u001b[43m                        \u001b[49m\u001b[38;5;28;43mmax\u001b[39;49m\u001b[43m(\u001b[49m\u001b[43mn_total_coll_points\u001b[49m\u001b[43m,\u001b[49m\u001b[38;5;241;43m1\u001b[39;49m\u001b[43m)\u001b[49m\u001b[43m]\u001b[49m\u001b[43m,\u001b[49m\u001b[43m \u001b[49m\u001b[43mstruct\u001b[49m\u001b[38;5;241;43m=\u001b[39;49m\u001b[38;5;28;43mself\u001b[39;49m\u001b[38;5;241;43m.\u001b[39;49m\u001b[43mmodel\u001b[49m\u001b[38;5;241;43m.\u001b[39;49m\u001b[43m_z\u001b[49m\u001b[43m)\u001b[49m\u001b[43m,\u001b[49m\n\u001b[0;32m   1150\u001b[0m \u001b[43m    \u001b[49m\u001b[43mentry\u001b[49m\u001b[43m(\u001b[49m\u001b[38;5;124;43m'\u001b[39;49m\u001b[38;5;124;43m_u\u001b[39;49m\u001b[38;5;124;43m'\u001b[39;49m\u001b[43m,\u001b[49m\u001b[43m \u001b[49m\u001b[43mrepeat\u001b[49m\u001b[38;5;241;43m=\u001b[39;49m\u001b[43m[\u001b[49m\u001b[38;5;28;43mself\u001b[39;49m\u001b[38;5;241;43m.\u001b[39;49m\u001b[43mn_horizon\u001b[49m\u001b[43m,\u001b[49m\u001b[43m \u001b[49m\u001b[43mn_u_scenarios\u001b[49m\u001b[43m]\u001b[49m\u001b[43m,\u001b[49m\u001b[43m \u001b[49m\u001b[43mstruct\u001b[49m\u001b[38;5;241;43m=\u001b[39;49m\u001b[38;5;28;43mself\u001b[39;49m\u001b[38;5;241;43m.\u001b[39;49m\u001b[43mmodel\u001b[49m\u001b[38;5;241;43m.\u001b[39;49m\u001b[43m_u\u001b[49m\u001b[43m)\u001b[49m\u001b[43m,\u001b[49m\n\u001b[0;32m   1151\u001b[0m \u001b[43m    \u001b[49m\u001b[43mentry\u001b[49m\u001b[43m(\u001b[49m\u001b[38;5;124;43m'\u001b[39;49m\u001b[38;5;124;43m_eps\u001b[39;49m\u001b[38;5;124;43m'\u001b[39;49m\u001b[43m,\u001b[49m\u001b[43m \u001b[49m\u001b[43mrepeat\u001b[49m\u001b[38;5;241;43m=\u001b[39;49m\u001b[43m[\u001b[49m\u001b[43mn_eps\u001b[49m\u001b[43m,\u001b[49m\u001b[43m \u001b[49m\u001b[43mn_max_scenarios\u001b[49m\u001b[43m]\u001b[49m\u001b[43m,\u001b[49m\u001b[43m \u001b[49m\u001b[43mstruct\u001b[49m\u001b[38;5;241;43m=\u001b[39;49m\u001b[38;5;28;43mself\u001b[39;49m\u001b[38;5;241;43m.\u001b[39;49m\u001b[43m_eps\u001b[49m\u001b[43m)\u001b[49m\u001b[43m,\u001b[49m\n\u001b[0;32m   1152\u001b[0m \u001b[43m\u001b[49m\u001b[43m]\u001b[49m\u001b[43m)\u001b[49m\n\u001b[0;32m   1153\u001b[0m \u001b[38;5;28mself\u001b[39m\u001b[38;5;241m.\u001b[39mn_opt_x \u001b[38;5;241m=\u001b[39m \u001b[38;5;28mself\u001b[39m\u001b[38;5;241m.\u001b[39m_opt_x\u001b[38;5;241m.\u001b[39mshape[\u001b[38;5;241m0\u001b[39m]\n\u001b[0;32m   1154\u001b[0m \u001b[38;5;66;03m# NOTE: The entry _x[k,child_scenario[k,s,b],:] starts with the collocation points from s to b at time k\u001b[39;00m\n\u001b[0;32m   1155\u001b[0m \u001b[38;5;66;03m#       and the last point contains the child node\u001b[39;00m\n\u001b[0;32m   1156\u001b[0m \u001b[38;5;66;03m# NOTE: Currently there exist dummy collocation points for the initial state (for each branch)\u001b[39;00m\n\u001b[0;32m   1157\u001b[0m \n\u001b[0;32m   1158\u001b[0m \u001b[38;5;66;03m# Create scaling struct as assign values for _x, _u, _z.\u001b[39;00m\n",
      "File \u001b[1;32mJ:\\devtools\\Anaconda\\lib\\site-packages\\casadi\\tools\\structure3.py:976\u001b[0m, in \u001b[0;36mmsymStruct.__init__\u001b[1;34m(self, struct, order)\u001b[0m\n\u001b[0;32m    975\u001b[0m \u001b[38;5;28;01mdef\u001b[39;00m \u001b[38;5;21m__init__\u001b[39m(\u001b[38;5;28mself\u001b[39m,struct,order\u001b[38;5;241m=\u001b[39m\u001b[38;5;28;01mNone\u001b[39;00m):\n\u001b[1;32m--> 976\u001b[0m   \u001b[43mCasadiStructured\u001b[49m\u001b[38;5;241;43m.\u001b[39;49m\u001b[38;5;21;43m__init__\u001b[39;49m\u001b[43m(\u001b[49m\u001b[38;5;28;43mself\u001b[39;49m\u001b[43m,\u001b[49m\u001b[43mstruct\u001b[49m\u001b[43m,\u001b[49m\u001b[43morder\u001b[49m\u001b[38;5;241;43m=\u001b[39;49m\u001b[43morder\u001b[49m\u001b[43m)\u001b[49m\n\u001b[0;32m    978\u001b[0m   \u001b[38;5;28;01mif\u001b[39;00m \u001b[38;5;28many\u001b[39m(e\u001b[38;5;241m.\u001b[39mexpr \u001b[38;5;129;01mis\u001b[39;00m \u001b[38;5;129;01mnot\u001b[39;00m \u001b[38;5;28;01mNone\u001b[39;00m \u001b[38;5;28;01mfor\u001b[39;00m e \u001b[38;5;129;01min\u001b[39;00m \u001b[38;5;28mself\u001b[39m\u001b[38;5;241m.\u001b[39mentries):\n\u001b[0;32m    979\u001b[0m     \u001b[38;5;28;01mraise\u001b[39;00m \u001b[38;5;167;01mException\u001b[39;00m(\u001b[38;5;124m\"\u001b[39m\u001b[38;5;124mstruct_symMX does not accept entries with an \u001b[39m\u001b[38;5;124m'\u001b[39m\u001b[38;5;124mexpr\u001b[39m\u001b[38;5;124m'\u001b[39m\u001b[38;5;124m argument, because such an element is not purely symbolic.\u001b[39m\u001b[38;5;124m\"\u001b[39m)\n",
      "File \u001b[1;32mJ:\\devtools\\Anaconda\\lib\\site-packages\\casadi\\tools\\structure3.py:897\u001b[0m, in \u001b[0;36mCasadiStructured.__init__\u001b[1;34m(self, struct, order)\u001b[0m\n\u001b[0;32m    895\u001b[0m   entrylist \u001b[38;5;241m=\u001b[39m EntryList(struct,order\u001b[38;5;241m=\u001b[39morder)\n\u001b[0;32m    896\u001b[0m   \u001b[38;5;28mself\u001b[39m\u001b[38;5;241m.\u001b[39mentries \u001b[38;5;241m=\u001b[39m entrylist\u001b[38;5;241m.\u001b[39mentries\n\u001b[1;32m--> 897\u001b[0m   Structured\u001b[38;5;241m.\u001b[39m\u001b[38;5;21m__init__\u001b[39m(\u001b[38;5;28mself\u001b[39m,\u001b[43mCasadiStructure\u001b[49m\u001b[43m(\u001b[49m\u001b[38;5;28;43mself\u001b[39;49m\u001b[38;5;241;43m.\u001b[39;49m\u001b[43mentries\u001b[49m\u001b[43m,\u001b[49m\u001b[43m \u001b[49m\u001b[43morder\u001b[49m\u001b[38;5;241;43m=\u001b[39;49m\u001b[43mentrylist\u001b[49m\u001b[38;5;241;43m.\u001b[39;49m\u001b[43morder\u001b[49m\u001b[43m)\u001b[49m)\n\u001b[0;32m    899\u001b[0m \u001b[38;5;28mself\u001b[39m\u001b[38;5;241m.\u001b[39mgetCanonicalIndex \u001b[38;5;241m=\u001b[39m \u001b[38;5;28mself\u001b[39m\u001b[38;5;241m.\u001b[39mstruct\u001b[38;5;241m.\u001b[39mgetCanonicalIndex\n\u001b[0;32m    900\u001b[0m \u001b[38;5;28mself\u001b[39m\u001b[38;5;241m.\u001b[39mcanonicalIndices \u001b[38;5;241m=\u001b[39m \u001b[38;5;28mself\u001b[39m\u001b[38;5;241m.\u001b[39mstruct\u001b[38;5;241m.\u001b[39mcanonicalIndices\n",
      "File \u001b[1;32mJ:\\devtools\\Anaconda\\lib\\site-packages\\casadi\\tools\\structure3.py:797\u001b[0m, in \u001b[0;36mCasadiStructure.__init__\u001b[1;34m(self, *args, **kwargs)\u001b[0m\n\u001b[0;32m    795\u001b[0m \u001b[38;5;28mself\u001b[39m\u001b[38;5;241m.\u001b[39msize \u001b[38;5;241m=\u001b[39m k\n\u001b[0;32m    796\u001b[0m \u001b[38;5;28;01mfor\u001b[39;00m k,v \u001b[38;5;129;01min\u001b[39;00m hmap\u001b[38;5;241m.\u001b[39mitems():\n\u001b[1;32m--> 797\u001b[0m   hmap[k] \u001b[38;5;241m=\u001b[39m \u001b[43mvertcat\u001b[49m\u001b[43m(\u001b[49m\u001b[38;5;241;43m*\u001b[39;49m\u001b[43m[\u001b[49m\u001b[43mi\u001b[49m\u001b[38;5;241;43m.\u001b[39;49m\u001b[43mnz\u001b[49m\u001b[43m[\u001b[49m\u001b[43m:\u001b[49m\u001b[43m]\u001b[49m\u001b[43m \u001b[49m\u001b[38;5;28;43;01mfor\u001b[39;49;00m\u001b[43m \u001b[49m\u001b[43mi\u001b[49m\u001b[43m \u001b[49m\u001b[38;5;129;43;01min\u001b[39;49;00m\u001b[43m \u001b[49m\u001b[43mv\u001b[49m\u001b[43m]\u001b[49m\u001b[43m)\u001b[49m\n\u001b[0;32m    798\u001b[0m \u001b[38;5;28mself\u001b[39m\u001b[38;5;241m.\u001b[39mmap\u001b[38;5;241m.\u001b[39mupdate(hmap)\n\u001b[0;32m    800\u001b[0m \u001b[38;5;28;01mclass\u001b[39;00m \u001b[38;5;21;01mStructureGetter\u001b[39;00m:\n",
      "File \u001b[1;32mJ:\\devtools\\Anaconda\\lib\\site-packages\\casadi\\casadi.py:466\u001b[0m, in \u001b[0;36mvertcat\u001b[1;34m(*args)\u001b[0m\n\u001b[1;32m--> 466\u001b[0m \u001b[38;5;28;01mdef\u001b[39;00m \u001b[38;5;21mvertcat\u001b[39m(\u001b[38;5;241m*\u001b[39margs): \u001b[38;5;28;01mreturn\u001b[39;00m \u001b[43m_vertcat\u001b[49m\u001b[43m(\u001b[49m\u001b[43margs\u001b[49m\u001b[43m)\u001b[49m\n",
      "File \u001b[1;32mJ:\\devtools\\Anaconda\\lib\\site-packages\\casadi\\casadi.py:20204\u001b[0m, in \u001b[0;36m_vertcat\u001b[1;34m(*args)\u001b[0m\n\u001b[0;32m  20192\u001b[0m \u001b[38;5;28;01mdef\u001b[39;00m \u001b[38;5;21m_vertcat\u001b[39m(\u001b[38;5;241m*\u001b[39margs):\n\u001b[0;32m  20193\u001b[0m     \u001b[38;5;124;03m\"\"\"\u001b[39;00m\n\u001b[0;32m  20194\u001b[0m \n\u001b[0;32m  20195\u001b[0m \n\u001b[1;32m   (...)\u001b[0m\n\u001b[0;32m  20202\u001b[0m \n\u001b[0;32m  20203\u001b[0m \u001b[38;5;124;03m    \"\"\"\u001b[39;00m\n\u001b[1;32m> 20204\u001b[0m     \u001b[38;5;28;01mreturn\u001b[39;00m \u001b[43m_casadi\u001b[49m\u001b[38;5;241;43m.\u001b[39;49m\u001b[43m_vertcat\u001b[49m\u001b[43m(\u001b[49m\u001b[38;5;241;43m*\u001b[39;49m\u001b[43margs\u001b[49m\u001b[43m)\u001b[49m\n",
      "\u001b[1;31mRuntimeError\u001b[0m: .../casadi/core/sparsity.cpp:1358: Assertion \"sp_nrow==ret_nrow || sp_nrow==0\" failed:\nSparsity::horzcat: Mismatching number of rows"
     ]
    }
   ],
   "source": [
    "mpc.setup()"
   ]
  },
  {
   "cell_type": "code",
   "execution_count": null,
   "id": "eb94c5d9",
   "metadata": {},
   "outputs": [],
   "source": [
    "estimator = do_mpc.estimator.StateFeedback(model)"
   ]
  },
  {
   "cell_type": "code",
   "execution_count": null,
   "id": "3b030f01",
   "metadata": {},
   "outputs": [],
   "source": [
    "simulator = do_mpc.simulator.Simulator(model)"
   ]
  },
  {
   "cell_type": "code",
   "execution_count": null,
   "id": "d94a2048",
   "metadata": {},
   "outputs": [],
   "source": [
    "params_simulator = {\n",
    "    # Note: cvode doesn't support DAE systems.\n",
    "    'integration_tool': 'idas',\n",
    "    'abstol': 1e-10,\n",
    "    'reltol': 1e-10,\n",
    "    't_step': 0.04\n",
    "}\n",
    "\n",
    "simulator.set_param(**params_simulator)"
   ]
  },
  {
   "cell_type": "code",
   "execution_count": null,
   "id": "91269239",
   "metadata": {},
   "outputs": [],
   "source": [
    "simulator.setup()"
   ]
  },
  {
   "cell_type": "code",
   "execution_count": null,
   "id": "2f86e534",
   "metadata": {},
   "outputs": [],
   "source": [
    "simulator.x0['pos'] = repmat(DM([10,10]).T,N,1)\n",
    "simulator.x0['dpos'] = repmat(DM([0,0]).T,N,1)\n",
    "\n",
    "x0 = simulator.x0.cat.full()\n",
    "\n",
    "mpc.x0 = x0\n",
    "estimator.x0 = x0\n",
    "\n",
    "mpc.set_initial_guess()\n"
   ]
  },
  {
   "cell_type": "code",
   "execution_count": null,
   "id": "bdefd5c9",
   "metadata": {},
   "outputs": [],
   "source": [
    "import matplotlib.pyplot as plt\n",
    "plt.ion()\n",
    "from matplotlib import rcParams\n",
    "rcParams['text.usetex'] = False\n",
    "rcParams['axes.grid'] = True\n",
    "rcParams['lines.linewidth'] = 2.0\n",
    "rcParams['axes.labelsize'] = 'xx-large'\n",
    "rcParams['xtick.labelsize'] = 'xx-large'\n",
    "rcParams['ytick.labelsize'] = 'xx-large'"
   ]
  },
  {
   "cell_type": "code",
   "execution_count": null,
   "id": "94aa3e1c",
   "metadata": {},
   "outputs": [],
   "source": [
    "mpc_graphics = do_mpc.graphics.Graphics(mpc.data)"
   ]
  },
  {
   "cell_type": "code",
   "execution_count": null,
   "id": "d286a1d4",
   "metadata": {},
   "outputs": [],
   "source": [
    "%%capture\n",
    "\n",
    "fig = plt.figure(figsize=(16,9))\n",
    "\n",
    "\n",
    "ax2 = plt.subplot2grid((4, 2), (0, 1))\n",
    "\n",
    "ax4 = plt.subplot2grid((4, 2), (2, 1))\n",
    "ax5 = plt.subplot2grid((4, 2), (3, 1))\n",
    "\n",
    "ax2.set_ylabel('distance')\n",
    "\n",
    "ax4.set_ylabel('Pos ')\n",
    "ax5.set_ylabel('U')\n",
    "\n",
    "# Axis on the right.\n",
    "for ax in [ax2, ax4, ax5]:\n",
    "    ax.yaxis.set_label_position(\"right\")\n",
    "    ax.yaxis.tick_right()\n",
    "    if ax != ax5:\n",
    "        ax.xaxis.set_ticklabels([])\n",
    "\n",
    "ax5.set_xlabel('time [s]')\n",
    "\n",
    "mpc_graphics.add_line(var_type='_aux', var_name='distance', axis=ax2)\n",
    "\n",
    "mpc_graphics.add_line(var_type='_x', var_name='pos', axis=ax4)\n",
    "mpc_graphics.add_line(var_type='_u', var_name='u', axis=ax5)\n",
    "\n",
    "\n",
    "fig.align_ylabels()\n",
    "fig.tight_layout()"
   ]
  },
  {
   "cell_type": "code",
   "execution_count": null,
   "id": "6499ecdc",
   "metadata": {},
   "outputs": [],
   "source": [
    "u0 = mpc.make_step(x0)"
   ]
  },
  {
   "cell_type": "code",
   "execution_count": null,
   "id": "955cb4f6",
   "metadata": {},
   "outputs": [],
   "source": [
    "\n",
    "\n",
    "mpc_graphics.plot_predictions()\n",
    "mpc_graphics.reset_axes()\n",
    "\n",
    "fig"
   ]
  },
  {
   "cell_type": "code",
   "execution_count": null,
   "id": "5e5529aa",
   "metadata": {},
   "outputs": [],
   "source": [
    "%%capture\n",
    "# Quickly reset the history of the MPC data object.\n",
    "mpc.reset_history()\n",
    "\n",
    "n_steps = 100\n",
    "for k in range(n_steps):\n",
    "    u0 = mpc.make_step(x0)\n",
    "    y_next = simulator.make_step(u0)\n",
    "    x0 = estimator.make_step(y_next)"
   ]
  },
  {
   "cell_type": "code",
   "execution_count": null,
   "id": "a017bb46",
   "metadata": {},
   "outputs": [],
   "source": [
    "from matplotlib.animation import FuncAnimation, FFMpegWriter, ImageMagickWriter\n",
    "\n",
    "# The function describing the gif:\n",
    "x_arr = mpc.data['_x']\n",
    "def update(t_ind):\n",
    "#     line1, line2 = pendulum_bars(x_arr[t_ind])\n",
    "#     bar1[0].set_data(line1[0],line1[1])\n",
    "#     bar2[0].set_data(line2[0],line2[1])\n",
    "    mpc_graphics.plot_results(t_ind)\n",
    "    mpc_graphics.plot_predictions(t_ind)\n",
    "    mpc_graphics.reset_axes()\n",
    "\n",
    "\n",
    "anim = FuncAnimation(fig, update, frames=n_steps, repeat=False)\n",
    "gif_writer = ImageMagickWriter(fps=20)\n",
    "anim.save('anim.gif', writer=gif_writer)"
   ]
  },
  {
   "cell_type": "code",
   "execution_count": null,
   "id": "cd3e9ba0",
   "metadata": {},
   "outputs": [],
   "source": [
    "from IPython.display import HTML, Image\n",
    "display(Image(data=open(\"anim.gif\",'rb').read(), format='png'))"
   ]
  },
  {
   "cell_type": "code",
   "execution_count": null,
   "id": "0a0a091c",
   "metadata": {},
   "outputs": [],
   "source": []
  }
 ],
 "metadata": {
  "kernelspec": {
   "display_name": "Python 3 (ipykernel)",
   "language": "python",
   "name": "python3"
  },
  "language_info": {
   "codemirror_mode": {
    "name": "ipython",
    "version": 3
   },
   "file_extension": ".py",
   "mimetype": "text/x-python",
   "name": "python",
   "nbconvert_exporter": "python",
   "pygments_lexer": "ipython3",
   "version": "3.9.12"
  }
 },
 "nbformat": 4,
 "nbformat_minor": 5
}
