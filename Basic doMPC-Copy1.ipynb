{
 "cells": [
  {
   "cell_type": "code",
   "execution_count": 1,
   "id": "e9384199",
   "metadata": {},
   "outputs": [],
   "source": [
    "import numpy as np\n",
    "import sys\n",
    "from casadi import *\n",
    "\n",
    "# Add do_mpc to path. This is not necessary if it was installed via pip\n",
    "sys.path.append('../../../')\n",
    "\n",
    "# Import do_mpc package:\n",
    "import do_mpc"
   ]
  },
  {
   "cell_type": "code",
   "execution_count": 2,
   "id": "ac9c6266",
   "metadata": {},
   "outputs": [],
   "source": [
    "model_type = 'continuous' # either 'discrete' or 'continuous'\n",
    "model = do_mpc.model.Model('continuous', 'MX')\n",
    "# model = do_mpc.model.Model(model_type)"
   ]
  },
  {
   "cell_type": "code",
   "execution_count": 3,
   "id": "47647bfd",
   "metadata": {},
   "outputs": [],
   "source": [
    "g = 9.80665 # m/s^2, Gravity"
   ]
  },
  {
   "cell_type": "code",
   "execution_count": null,
   "id": "9b9d7fb0",
   "metadata": {},
   "outputs": [],
   "source": []
  },
  {
   "cell_type": "code",
   "execution_count": 4,
   "id": "561ecada",
   "metadata": {},
   "outputs": [],
   "source": [
    "pos = model.set_variable('_x',  'pos',2)\n",
    "dpos = model.set_variable('_x',  'dpos',2)\n",
    "\n",
    "\n",
    "u = model.set_variable('_u',  'force',2)\n",
    "\n",
    "ddpos = model.set_variable('_z', 'ddpos',2)\n",
    "# prin"
   ]
  },
  {
   "cell_type": "code",
   "execution_count": 5,
   "id": "1232f4e8",
   "metadata": {},
   "outputs": [],
   "source": [
    "model.set_rhs('pos', dpos)\n",
    "model.set_rhs('dpos', ddpos)\n",
    "# model.set_rhs('time', 1)"
   ]
  },
  {
   "cell_type": "code",
   "execution_count": 6,
   "id": "2ad97594",
   "metadata": {},
   "outputs": [],
   "source": [
    "formulas = vertcat(\n",
    "        # 1\n",
    "        u*0.001 + [0,-g] + ([50,50]-pos)\n",
    "        - (ddpos),\n",
    "    )\n",
    "\n",
    "model.set_alg('formulas', formulas)"
   ]
  },
  {
   "cell_type": "code",
   "execution_count": 7,
   "id": "85849cd5",
   "metadata": {},
   "outputs": [
    {
     "data": {
      "text/plain": [
       "MX((sq((100-pos[1]))+sq((100-pos[0]))))"
      ]
     },
     "execution_count": 7,
     "metadata": {},
     "output_type": "execute_result"
    }
   ],
   "source": [
    "\n",
    "distance = (100-pos[1])**2 + (100 - pos[0])**2\n",
    "\n",
    "\n",
    "model.set_expression('distance', distance)"
   ]
  },
  {
   "cell_type": "code",
   "execution_count": null,
   "id": "044a233b",
   "metadata": {},
   "outputs": [],
   "source": []
  },
  {
   "cell_type": "code",
   "execution_count": 8,
   "id": "001694e9",
   "metadata": {},
   "outputs": [],
   "source": [
    "# Build the model\n",
    "model.setup()"
   ]
  },
  {
   "cell_type": "code",
   "execution_count": 9,
   "id": "d77ee6b3",
   "metadata": {},
   "outputs": [],
   "source": [
    "mpc = do_mpc.controller.MPC(model)"
   ]
  },
  {
   "cell_type": "code",
   "execution_count": 10,
   "id": "346e08df",
   "metadata": {},
   "outputs": [],
   "source": [
    "setup_mpc = {\n",
    "    'n_horizon': 100,\n",
    "    'n_robust': 0,\n",
    "    'open_loop': 0,\n",
    "    't_step': 0.1,\n",
    "    'state_discretization': 'collocation',\n",
    "    'collocation_type': 'radau',\n",
    "    'collocation_deg': 3,\n",
    "    'collocation_ni': 1,\n",
    "    'store_full_solution': True,\n",
    "    # Use MA27 linear solver in ipopt for faster calculations:\n",
    "    'nlpsol_opts': {'ipopt.linear_solver': 'mumps'}\n",
    "}\n",
    "mpc.set_param(**setup_mpc)"
   ]
  },
  {
   "cell_type": "code",
   "execution_count": 11,
   "id": "b72a5d04",
   "metadata": {},
   "outputs": [],
   "source": [
    "mterm = model.aux['distance'] # terminal cost\n",
    "lterm = model.aux['distance'] # stage cost\n",
    "\n",
    "mpc.set_objective(mterm=mterm, lterm=lterm)\n",
    "# Input force is implicitly restricted through the objective.\n",
    "mpc.set_rterm(force=0.1)"
   ]
  },
  {
   "cell_type": "code",
   "execution_count": 12,
   "id": "2aa57271",
   "metadata": {},
   "outputs": [],
   "source": [
    "mpc.bounds['lower','_u','force'] = [-20,20]\n",
    "mpc.bounds['upper','_u','force'] = [20,20]"
   ]
  },
  {
   "cell_type": "code",
   "execution_count": 13,
   "id": "318db96f",
   "metadata": {},
   "outputs": [],
   "source": [
    "mpc.setup()"
   ]
  },
  {
   "cell_type": "code",
   "execution_count": 14,
   "id": "eb94c5d9",
   "metadata": {},
   "outputs": [],
   "source": [
    "estimator = do_mpc.estimator.StateFeedback(model)"
   ]
  },
  {
   "cell_type": "code",
   "execution_count": 15,
   "id": "3b030f01",
   "metadata": {},
   "outputs": [],
   "source": [
    "simulator = do_mpc.simulator.Simulator(model)"
   ]
  },
  {
   "cell_type": "code",
   "execution_count": 16,
   "id": "d94a2048",
   "metadata": {},
   "outputs": [],
   "source": [
    "params_simulator = {\n",
    "    # Note: cvode doesn't support DAE systems.\n",
    "    'integration_tool': 'idas',\n",
    "    'abstol': 1e-10,\n",
    "    'reltol': 1e-10,\n",
    "    't_step': 0.04\n",
    "}\n",
    "\n",
    "simulator.set_param(**params_simulator)"
   ]
  },
  {
   "cell_type": "code",
   "execution_count": 17,
   "id": "91269239",
   "metadata": {},
   "outputs": [],
   "source": [
    "simulator.setup()"
   ]
  },
  {
   "cell_type": "code",
   "execution_count": 18,
   "id": "2f86e534",
   "metadata": {},
   "outputs": [],
   "source": [
    "simulator.x0['pos'] = [20,10]\n",
    "\n",
    "\n",
    "\n",
    "x0 = simulator.x0.cat.full()\n",
    "\n",
    "mpc.x0 = x0\n",
    "estimator.x0 = x0\n",
    "\n",
    "mpc.set_initial_guess()\n"
   ]
  },
  {
   "cell_type": "code",
   "execution_count": 19,
   "id": "bdefd5c9",
   "metadata": {},
   "outputs": [],
   "source": [
    "import matplotlib.pyplot as plt\n",
    "plt.ion()\n",
    "from matplotlib import rcParams\n",
    "rcParams['text.usetex'] = False\n",
    "rcParams['axes.grid'] = True\n",
    "rcParams['lines.linewidth'] = 2.0\n",
    "rcParams['axes.labelsize'] = 'xx-large'\n",
    "rcParams['xtick.labelsize'] = 'xx-large'\n",
    "rcParams['ytick.labelsize'] = 'xx-large'"
   ]
  },
  {
   "cell_type": "code",
   "execution_count": 20,
   "id": "94aa3e1c",
   "metadata": {},
   "outputs": [],
   "source": [
    "mpc_graphics = do_mpc.graphics.Graphics(simulator.data)\n",
    "# print(pos)"
   ]
  },
  {
   "cell_type": "code",
   "execution_count": 21,
   "id": "d286a1d4",
   "metadata": {},
   "outputs": [
    {
     "ename": "NameError",
     "evalue": "name 'ax5' is not defined",
     "output_type": "error",
     "traceback": [
      "\u001b[1;31m---------------------------------------------------------------------------\u001b[0m",
      "\u001b[1;31mNameError\u001b[0m                                 Traceback (most recent call last)",
      "Input \u001b[1;32mIn [21]\u001b[0m, in \u001b[0;36m<cell line: 17>\u001b[1;34m()\u001b[0m\n\u001b[0;32m     18\u001b[0m     ax\u001b[38;5;241m.\u001b[39myaxis\u001b[38;5;241m.\u001b[39mset_label_position(\u001b[38;5;124m\"\u001b[39m\u001b[38;5;124mright\u001b[39m\u001b[38;5;124m\"\u001b[39m)\n\u001b[0;32m     19\u001b[0m     ax\u001b[38;5;241m.\u001b[39myaxis\u001b[38;5;241m.\u001b[39mtick_right()\n\u001b[1;32m---> 20\u001b[0m     \u001b[38;5;28;01mif\u001b[39;00m ax \u001b[38;5;241m!=\u001b[39m \u001b[43max5\u001b[49m:\n\u001b[0;32m     21\u001b[0m         ax\u001b[38;5;241m.\u001b[39mxaxis\u001b[38;5;241m.\u001b[39mset_ticklabels([])\n\u001b[0;32m     23\u001b[0m ax5\u001b[38;5;241m.\u001b[39mset_xlabel(\u001b[38;5;124m'\u001b[39m\u001b[38;5;124mtime [s]\u001b[39m\u001b[38;5;124m'\u001b[39m)\n",
      "\u001b[1;31mNameError\u001b[0m: name 'ax5' is not defined"
     ]
    }
   ],
   "source": [
    "%%capture\n",
    "\n",
    "fig = plt.figure(figsize=(16,9))\n",
    "fig.patch.set_facecolor('white')\n",
    "plt.title(\"space ship\")\n",
    "\n",
    "ax1 = plt.subplot2grid((4, 2), (0, 0), rowspan=4)\n",
    "ax2 = plt.subplot2grid((4, 2), (0, 1))\n",
    "# ax3 = plt.subplot2grid((4, 2), (1, 1))\n",
    "ax4 = plt.subplot2grid((4, 2), (2, 1))\n",
    "# ax5 = plt.subplot2grid((4, 2), (3, 1))\n",
    "\n",
    "ax2.set_ylabel('Distance to goal')\n",
    "# ax3.set_ylabel('Posx ')\n",
    "ax4.set_ylabel('Position x,y')\n",
    "# ax5.set_ylabel('Input accel x,y')\n",
    "\n",
    "# Axis on the right.\n",
    "for ax in [ax2, ax4]:\n",
    "    ax.yaxis.set_label_position(\"right\")\n",
    "    ax.yaxis.tick_right()\n",
    "    if ax != ax5:\n",
    "        ax.xaxis.set_ticklabels([])\n",
    "\n",
    "ax5.set_xlabel('time [s]')\n",
    "\n",
    "# ax1.axhline(0,color='black')\n",
    "ax1.set_xlim(0,120)\n",
    "ax1.set_ylim(0,120)\n",
    "\n",
    "bar1 = ax1.plot([],[], '-o', linewidth=5, markersize=10)\n",
    "bar2 = ax1.plot([],[], '-o', linewidth=5, markersize=10)\n",
    "\n",
    "# mpc_graphics.add_line(var_type='_aux', var_name='d', axis=ax1)\n",
    "mpc_graphics.add_line(var_type='_aux', var_name='distance', axis=ax2)\n",
    "# mpc_graphics.add_line(var_type='_x', var_name='pos', axis=ax3)\n",
    "mpc_graphics.add_line(var_type='_x', var_name='pos', axis=ax4)\n",
    "mpc_graphics.add_line(var_type='_u', var_name='force', axis=ax5)\n",
    "\n",
    "\n",
    "fig.align_ylabels()\n",
    "fig.tight_layout()"
   ]
  },
  {
   "cell_type": "code",
   "execution_count": 22,
   "id": "6499ecdc",
   "metadata": {},
   "outputs": [],
   "source": [
    "# u0 = mpc.make_step(x0)"
   ]
  },
  {
   "cell_type": "code",
   "execution_count": 23,
   "id": "955cb4f6",
   "metadata": {
    "scrolled": true
   },
   "outputs": [],
   "source": [
    "\n",
    "\n",
    "# mpc_graphics.plot_predictions()\n",
    "# mpc_graphics.reset_axes()\n",
    "\n",
    "# fig"
   ]
  },
  {
   "cell_type": "code",
   "execution_count": null,
   "id": "a971b43a",
   "metadata": {},
   "outputs": [],
   "source": []
  },
  {
   "cell_type": "code",
   "execution_count": 24,
   "id": "5e5529aa",
   "metadata": {},
   "outputs": [
    {
     "name": "stdout",
     "output_type": "stream",
     "text": [
      "\n",
      "******************************************************************************\n",
      "This program contains Ipopt, a library for large-scale nonlinear optimization.\n",
      " Ipopt is released as open source code under the Eclipse Public License (EPL).\n",
      "         For more information visit http://projects.coin-or.org/Ipopt\n",
      "******************************************************************************\n",
      "\n",
      "This is Ipopt version 3.12.3, running with linear solver mumps.\n",
      "NOTE: Other linear solvers might be more efficient (see Ipopt documentation).\n",
      "\n",
      "Number of nonzeros in equality constraint Jacobian...:     9604\n",
      "Number of nonzeros in inequality constraint Jacobian.:        0\n",
      "Number of nonzeros in Lagrangian Hessian.............:      401\n",
      "\n",
      "Total number of variables............................:     2920\n",
      "                     variables with only lower bounds:        0\n",
      "                variables with lower and upper bounds:      100\n",
      "                     variables with only upper bounds:        0\n",
      "Total number of equality constraints.................:     2804\n",
      "Total number of inequality constraints...............:        0\n",
      "        inequality constraints with only lower bounds:        0\n",
      "   inequality constraints with lower and upper bounds:        0\n",
      "        inequality constraints with only upper bounds:        0\n",
      "\n",
      "iter    objective    inf_pr   inf_du lg(mu)  ||d||  lg(rg) alpha_du alpha_pr  ls\n",
      "   0 1.4645400e+006 3.02e+001 1.00e+002  -1.0 0.00e+000    -  0.00e+000 0.00e+000   0\n",
      "MUMPS returned INFO(1) = -9 and requires more memory, reallocating.  Attempt 1\n",
      "  Increasing icntl[13] from 1000 to 2000.\n",
      "MUMPS returned INFO(1) = -9 and requires more memory, reallocating.  Attempt 2\n",
      "  Increasing icntl[13] from 2000 to 4000.\n",
      "   1 6.7444798e+005 1.95e-013 8.52e-003  -1.0 6.04e+001  -4.0 9.35e-001 1.00e+000f  1\n",
      "   2 6.7433986e+005 1.65e-013 1.45e-002  -1.0 1.62e+001  -4.5 6.90e-001 1.00e+000f  1\n",
      "   3 6.7429297e+005 2.38e-013 6.31e-003  -1.7 9.20e+000  -5.0 7.79e-001 9.83e-001f  1\n",
      "   4 6.7428227e+005 1.86e-013 1.32e-003  -1.7 9.19e+000  -5.4 9.35e-001 1.00e+000f  1\n",
      "   5 6.7427971e+005 2.03e-013 3.94e-003  -2.5 4.02e+000  -5.9 1.00e+000 7.80e-001f  1\n",
      "   6 6.7427876e+005 1.36e-013 2.15e-003  -3.8 2.33e+000  -6.4 9.87e-001 8.42e-001f  1\n",
      "   7 6.7427859e+005 1.94e-013 1.88e-003  -3.8 9.34e-001  -6.9 1.00e+000 8.71e-001f  1\n",
      "   8 6.7427856e+005 1.83e-013 1.63e-008  -3.8 3.56e-001  -7.3 1.00e+000 1.00e+000f  1\n",
      "   9 6.7427855e+005 2.16e-013 4.27e-004  -5.7 1.49e-001  -7.8 1.00e+000 8.69e-001f  1\n",
      "iter    objective    inf_pr   inf_du lg(mu)  ||d||  lg(rg) alpha_du alpha_pr  ls\n",
      "  10 6.7427854e+005 2.07e-013 1.80e-004  -5.7 6.58e-002  -8.3 1.00e+000 9.07e-001f  1\n",
      "  11 6.7427854e+005 2.82e-013 4.16e-011  -5.7 2.46e-002  -8.8 1.00e+000 1.00e+000f  1\n",
      "  12 6.7427854e+005 2.91e-013 4.32e-005  -8.6 9.40e-003  -9.2 1.00e+000 8.54e-001f  1\n",
      "  13 6.7427854e+005 1.85e-013 1.60e-005  -8.6 4.26e-003  -9.7 1.00e+000 8.84e-001f  1\n",
      "  14 6.7427854e+005 2.22e-013 9.48e-007  -8.6 1.62e-003 -10.2 1.00e+000 9.90e-001f  1\n",
      "  15 6.7427854e+005 2.45e-013 7.96e-013  -8.6 4.45e-004 -10.7 1.00e+000 1.00e+000f  1\n",
      "  16 6.7427854e+005 1.58e-013 6.82e-013  -9.0 1.36e-004 -11.2 1.00e+000 1.00e+000h  1\n",
      "\n",
      "Number of Iterations....: 16\n",
      "\n",
      "                                   (scaled)                 (unscaled)\n",
      "Objective...............:  3.7459919075590407e+005   6.7427854336062726e+005\n",
      "Dual infeasibility......:  6.8212102632969618e-013   1.2278178473934530e-012\n",
      "Constraint violation....:  1.5831780331154732e-013   1.5831780331154732e-013\n",
      "Complementarity.........:  2.9196919102412649e-009   5.2554454384342766e-009\n",
      "Overall NLP error.......:  2.9196919102412649e-009   5.2554454384342766e-009\n",
      "\n",
      "\n",
      "Number of objective function evaluations             = 17\n",
      "Number of objective gradient evaluations             = 17\n",
      "Number of equality constraint evaluations            = 17\n",
      "Number of inequality constraint evaluations          = 0\n",
      "Number of equality constraint Jacobian evaluations   = 17\n",
      "Number of inequality constraint Jacobian evaluations = 0\n",
      "Number of Lagrangian Hessian evaluations             = 16\n",
      "Total CPU secs in IPOPT (w/o function evaluations)   =      0.210\n",
      "Total CPU secs in NLP function evaluations           =      0.091\n",
      "\n",
      "EXIT: Optimal Solution Found.\n",
      "           S  :   t_proc      (avg)   t_wall      (avg)    n_eval\n",
      "       nlp_f  |   1.00ms ( 58.82us) 975.00us ( 57.35us)        17\n",
      "       nlp_g  |   7.00ms (411.76us)   6.95ms (408.65us)        17\n",
      "    nlp_grad  |   1.00ms (  1.00ms)   1.00ms (  1.00ms)         1\n",
      "  nlp_grad_f  |   1.00ms ( 55.56us)   1.00ms ( 55.83us)        18\n",
      "  nlp_hess_l  |  33.00ms (  2.06ms)  32.96ms (  2.06ms)        16\n",
      "   nlp_jac_g  |  50.00ms (  2.78ms)  50.10ms (  2.78ms)        18\n",
      "       total  | 302.00ms (302.00ms) 301.97ms (301.97ms)         1\n",
      "~~~~~\n",
      "[[ 1.2623697]\n",
      " [20.       ]]\n",
      "<class 'numpy.ndarray'>\n",
      "~~~~~\n"
     ]
    }
   ],
   "source": [
    "# %%capture\n",
    "# Quickly reset the history of the MPC data object.\n",
    "mpc.reset_history()\n",
    "\n",
    "n_steps = 100\n",
    "u0 = mpc.make_step(x0)\n",
    "print(\"~~~~~\")\n",
    "print(u0)\n",
    "print(type(u0))\n",
    "print(\"~~~~~\")\n",
    "for k in range(n_steps):\n",
    "#     u0 = mpc.make_step(x0)\n",
    "#     print(\"~~~~~\")\n",
    "#     print(u0)\n",
    "#     print(\"~~~~~\")\n",
    "    y_next = simulator.make_step(np.array([[0],[0]]))\n",
    "    x0 = estimator.make_step(y_next)\n",
    "    "
   ]
  },
  {
   "cell_type": "code",
   "execution_count": 25,
   "id": "a017bb46",
   "metadata": {},
   "outputs": [
    {
     "name": "stderr",
     "output_type": "stream",
     "text": [
      "MovieWriter stderr:\n",
      "magick.exe: unexpected end-of-file '-': No such file or directory @ error/rgb.c/ReadRGBImage/249.\n",
      "\n"
     ]
    },
    {
     "name": "stdout",
     "output_type": "stream",
     "text": [
      "[[ 20.          10.           0.           0.        ]\n",
      " [ 20.0239968   10.02415146   1.19968003   1.20741196]\n",
      " [ 20.09594881  10.0965672    2.39744082   2.41289232]\n",
      " [ 20.21574092  10.21713137   3.59136622   3.61451257]\n",
      " [ 20.38318149  10.3856511    4.7795462    4.81035037]\n",
      " [ 20.59800266  10.60185679   5.96007992   5.99849264]\n",
      " [ 20.85986075  10.86540256   7.13107879   7.17703859]\n",
      " [ 21.16833685  11.17586678   8.29066945   8.34410281]\n",
      " [ 21.52293746  11.53275279   9.43699681   9.49781825]\n",
      " [ 21.92309529  11.93548964  10.56822698  10.6363392 ]\n",
      " [ 22.36817018  12.38343304  11.68255025  11.75784429]\n",
      " [ 22.85745011  12.87586637  12.77818393  12.86053933]\n",
      " [ 23.39015232  13.41200185  13.85337525  13.94266025]\n",
      " [ 23.96542461  13.99098177  14.90640411  15.00247589]\n",
      " [ 24.58234667  14.61187989  15.93558592  16.03829077]\n",
      " [ 25.23993155  15.27370291  16.93927418  17.0484478 ]\n",
      " [ 25.93712725  15.97539204  17.91586322  18.03133096]\n",
      " [ 26.67281843  16.71582474  18.86379069  18.98536782]\n",
      " [ 27.44582812  17.49381648  19.78154013  19.90903215]\n",
      " [ 28.25491967  18.30812262  20.66764331  20.80084628]\n",
      " [ 29.09879871  19.15744046  21.52068268  21.65938348]\n",
      " [ 29.97611521  20.04041127  22.33929355  22.48327029]\n",
      " [ 30.88546566  20.95562248  23.12216631  23.27118867]\n",
      " [ 31.82539528  21.90160995  23.86804854  24.02187811]\n",
      " [ 32.79440039  22.8768603   24.57574698  24.73413767]\n",
      " [ 33.7909308   23.87981335  25.24412947  25.40682788]\n",
      " [ 34.81339226  24.90886457  25.87212673  26.03887259]\n",
      " [ 35.86014905  25.96236771  26.45873412  26.62926066]\n",
      " [ 36.92952658  27.03863738  27.00301318  27.1770476 ]\n",
      " [ 38.01981408  28.13595179  27.50409318  27.68135706]\n",
      " [ 39.12926733  29.25255545  27.96117249  28.14138225]\n",
      " [ 40.25611142  30.38666206  28.3735199   28.55638723]\n",
      " [ 41.39854366  31.53645728  28.74047572  28.92570809]\n",
      " [ 42.5547364   32.70010167  29.06145292  29.24875398]\n",
      " [ 43.72283996  33.87573367  29.33593799  29.52500811]\n",
      " [ 44.90098565  35.0614725   29.56349182  29.75402853]\n",
      " [ 46.08728867  36.25542125  29.74375037  29.93544884]\n",
      " [ 47.27985119  37.45566983  29.87642526  30.06897882]\n",
      " [ 48.47676538  38.66029813  29.96130424  30.15440485]\n",
      " [ 49.67611641  39.86737898  29.99825153  30.19159026]\n",
      " [ 50.87598559  41.07498131  29.98720802  30.18047558]\n",
      " [ 52.07445338  42.28117323  29.92819138  30.12107858]\n",
      " [ 53.26960248  43.48402507  29.82129601  30.01349426]\n",
      " [ 54.45952092  44.68161253  29.66669293  29.85789476]\n",
      " [ 55.64230507  45.87201973  29.46462946  29.654529  ]\n",
      " [ 56.81606275  47.05334227  29.21542888  29.40372232]\n",
      " [ 57.97891617  48.22369029  28.91948985  29.10587596]\n",
      " [ 59.12900504  49.38119148  28.57728581  28.76146642]\n",
      " [ 60.26448944  50.52399407  28.18936419  28.37104464]\n",
      " [ 61.38355284  51.65026984  27.7563456   27.93523525]\n",
      " [ 62.48440499  52.75821698  27.27892278  27.45473544]\n",
      " [ 63.56528476  53.84606302  26.75785951  26.93031391]\n",
      " [ 64.62446296  54.91206762  26.19398937  26.36280963]\n",
      " [ 65.66024513  55.95452541  25.58821444  25.75313048]\n",
      " [ 66.67097426  56.97176869  24.94150382  25.10225181]\n",
      " [ 67.65503338  57.96217007  24.25489211  24.41121489]\n",
      " [ 68.61084822  58.92414514  23.52947776  23.68112524]\n",
      " [ 69.53688968  59.85615493  22.76642126  22.91315084]\n",
      " [ 70.43167628  60.75670843  21.96694334  22.10852029]\n",
      " [ 71.29377656  61.62436495  21.132323    21.26852082]\n",
      " [ 72.12181133  62.45773641  20.26389545  20.39449626]\n",
      " [ 72.91445592  63.25548958  19.36304999  19.48784485]\n",
      " [ 73.67044226  64.01634826  18.43122778  18.55001705]\n",
      " [ 74.38856095  64.73909523  17.46991954  17.58251318]\n",
      " [ 75.06766315  65.42257424  16.48066316  16.58688103]\n",
      " [ 75.70666243  66.06569187  15.46504123  15.56471342]\n",
      " [ 76.30453655  66.66741928  14.42467853  14.51764559]\n",
      " [ 76.86032901  67.22679383  13.36123943  13.44735262]\n",
      " [ 77.37315068  67.74292064  12.27642519  12.35554675]\n",
      " [ 77.84218115  68.214974    11.17197129  11.24397464]\n",
      " [ 78.26667006  68.64219875  10.04964461  10.11441457]\n",
      " [ 78.64593833  69.0239114    8.91124065   8.9686736 ]\n",
      " [ 78.97937921  69.35950131   7.75858061   7.80858466]\n",
      " [ 79.26645927  69.6484316    6.5935085    6.63600366]\n",
      " [ 79.50671924  69.89024004   5.41788817   5.45280646]\n",
      " [ 79.69977475  70.0845398    4.23360039   4.26088594]\n",
      " [ 79.84531696  70.23102003   3.04253974   3.06214891]\n",
      " [ 79.94311303  70.3294464    1.84661168   1.85851309]\n",
      " [ 79.99300651  70.37966143   0.64772943   0.65190405]\n",
      " [ 79.99491756  70.38158481  -0.55218904  -0.5557479 ]\n",
      " [ 79.94884315  70.33521345  -1.75122413  -1.76251077]\n",
      " [ 79.85485699  70.24062154  -2.94745763  -2.966454  ]\n",
      " [ 79.71310942  70.09796041  -4.13897584  -4.16565153]\n",
      " [ 79.52382721  69.90745828  -5.32387256  -5.35818492]\n",
      " [ 79.28731319  69.66941992  -6.50025222  -6.54214635]\n",
      " [ 79.00394571  69.38422614  -7.66623287  -7.71564174]\n",
      " [ 78.6741781   69.05233318  -8.81994917  -8.87679375]\n",
      " [ 78.29853793  68.67427201  -9.95955545 -10.02374478]\n",
      " [ 77.87762613  68.25064744 -11.08322856 -11.15465997]\n",
      " [ 77.41211608  67.78213717 -12.18917087 -12.26773007]\n",
      " [ 76.90275248  67.26949072 -13.2756131  -13.36117443]\n",
      " [ 76.35035022  66.71352823 -14.34081718 -14.43324375]\n",
      " [ 75.75579302  66.11513911 -15.38307902 -15.48222296]\n",
      " [ 75.12003205  65.47528066 -16.40073121 -16.50643392]\n",
      " [ 74.44408438  64.7949765  -17.39214572 -17.5042381 ]\n",
      " [ 73.72903139  64.075315   -18.35573651 -18.47403924]\n",
      " [ 72.97601702  63.31744745 -19.28996204 -19.41428585]\n",
      " [ 72.18624592  62.52258627 -20.19332774 -20.32347374]\n",
      " [ 71.36098156  61.69200308 -21.06438842 -21.20014841]\n",
      " [ 70.50154418  60.82702663 -21.90175058 -22.04290736]]\n"
     ]
    },
    {
     "ename": "CalledProcessError",
     "evalue": "Command '['J:\\\\devtools\\\\ImageMagick-7.1.0-Q16-HDRI\\\\magick.exe', '-size', '1152x648', '-depth', '8', '-delay', '5.0', '-loop', '0', 'rgba:-', 'anim.gif']' returned non-zero exit status 1.",
     "output_type": "error",
     "traceback": [
      "\u001b[1;31m---------------------------------------------------------------------------\u001b[0m",
      "\u001b[1;31mNameError\u001b[0m                                 Traceback (most recent call last)",
      "File \u001b[1;32m~\\AppData\\Roaming\\Python\\Python39\\site-packages\\matplotlib\\animation.py:234\u001b[0m, in \u001b[0;36mAbstractMovieWriter.saving\u001b[1;34m(self, fig, outfile, dpi, *args, **kwargs)\u001b[0m\n\u001b[0;32m    233\u001b[0m \u001b[38;5;28;01mtry\u001b[39;00m:\n\u001b[1;32m--> 234\u001b[0m     \u001b[38;5;28;01myield\u001b[39;00m \u001b[38;5;28mself\u001b[39m\n\u001b[0;32m    235\u001b[0m \u001b[38;5;28;01mfinally\u001b[39;00m:\n",
      "File \u001b[1;32m~\\AppData\\Roaming\\Python\\Python39\\site-packages\\matplotlib\\animation.py:1076\u001b[0m, in \u001b[0;36mAnimation.save\u001b[1;34m(self, filename, writer, fps, dpi, codec, bitrate, extra_args, metadata, extra_anim, savefig_kwargs, progress_callback)\u001b[0m\n\u001b[0;32m   1075\u001b[0m \u001b[38;5;28;01mfor\u001b[39;00m anim \u001b[38;5;129;01min\u001b[39;00m all_anim:\n\u001b[1;32m-> 1076\u001b[0m     \u001b[43manim\u001b[49m\u001b[38;5;241;43m.\u001b[39;49m\u001b[43m_init_draw\u001b[49m\u001b[43m(\u001b[49m\u001b[43m)\u001b[49m  \u001b[38;5;66;03m# Clear the initial frame\u001b[39;00m\n\u001b[0;32m   1077\u001b[0m frame_number \u001b[38;5;241m=\u001b[39m \u001b[38;5;241m0\u001b[39m\n",
      "File \u001b[1;32m~\\AppData\\Roaming\\Python\\Python39\\site-packages\\matplotlib\\animation.py:1696\u001b[0m, in \u001b[0;36mFuncAnimation._init_draw\u001b[1;34m(self)\u001b[0m\n\u001b[0;32m   1695\u001b[0m         \u001b[38;5;28;01mreturn\u001b[39;00m\n\u001b[1;32m-> 1696\u001b[0m     \u001b[38;5;28;43mself\u001b[39;49m\u001b[38;5;241;43m.\u001b[39;49m\u001b[43m_draw_frame\u001b[49m\u001b[43m(\u001b[49m\u001b[43mframe_data\u001b[49m\u001b[43m)\u001b[49m\n\u001b[0;32m   1697\u001b[0m \u001b[38;5;28;01melse\u001b[39;00m:\n",
      "File \u001b[1;32m~\\AppData\\Roaming\\Python\\Python39\\site-packages\\matplotlib\\animation.py:1718\u001b[0m, in \u001b[0;36mFuncAnimation._draw_frame\u001b[1;34m(self, framedata)\u001b[0m\n\u001b[0;32m   1716\u001b[0m \u001b[38;5;66;03m# Call the func with framedata and args. If blitting is desired,\u001b[39;00m\n\u001b[0;32m   1717\u001b[0m \u001b[38;5;66;03m# func needs to return a sequence of any artists that were modified.\u001b[39;00m\n\u001b[1;32m-> 1718\u001b[0m \u001b[38;5;28mself\u001b[39m\u001b[38;5;241m.\u001b[39m_drawn_artists \u001b[38;5;241m=\u001b[39m \u001b[38;5;28;43mself\u001b[39;49m\u001b[38;5;241;43m.\u001b[39;49m\u001b[43m_func\u001b[49m\u001b[43m(\u001b[49m\u001b[43mframedata\u001b[49m\u001b[43m,\u001b[49m\u001b[43m \u001b[49m\u001b[38;5;241;43m*\u001b[39;49m\u001b[38;5;28;43mself\u001b[39;49m\u001b[38;5;241;43m.\u001b[39;49m\u001b[43m_args\u001b[49m\u001b[43m)\u001b[49m\n\u001b[0;32m   1720\u001b[0m \u001b[38;5;28;01mif\u001b[39;00m \u001b[38;5;28mself\u001b[39m\u001b[38;5;241m.\u001b[39m_blit:\n",
      "Input \u001b[1;32mIn [25]\u001b[0m, in \u001b[0;36mupdate\u001b[1;34m(t_ind)\u001b[0m\n\u001b[0;32m      8\u001b[0m \u001b[38;5;28;01mdef\u001b[39;00m \u001b[38;5;21mupdate\u001b[39m(t_ind):\n\u001b[1;32m---> 10\u001b[0m     \u001b[43mbar1\u001b[49m[\u001b[38;5;241m0\u001b[39m]\u001b[38;5;241m.\u001b[39mset_data(x[t_ind][\u001b[38;5;241m0\u001b[39m],x[t_ind][\u001b[38;5;241m1\u001b[39m])\n\u001b[0;32m     11\u001b[0m     bar2[\u001b[38;5;241m0\u001b[39m]\u001b[38;5;241m.\u001b[39mset_data(\u001b[38;5;241m100\u001b[39m,\u001b[38;5;241m100\u001b[39m)\n",
      "\u001b[1;31mNameError\u001b[0m: name 'bar1' is not defined",
      "\nDuring handling of the above exception, another exception occurred:\n",
      "\u001b[1;31mCalledProcessError\u001b[0m                        Traceback (most recent call last)",
      "Input \u001b[1;32mIn [25]\u001b[0m, in \u001b[0;36m<cell line: 19>\u001b[1;34m()\u001b[0m\n\u001b[0;32m     17\u001b[0m anim \u001b[38;5;241m=\u001b[39m FuncAnimation(fig, update, frames\u001b[38;5;241m=\u001b[39mn_steps, repeat\u001b[38;5;241m=\u001b[39m\u001b[38;5;28;01mFalse\u001b[39;00m)\n\u001b[0;32m     18\u001b[0m gif_writer \u001b[38;5;241m=\u001b[39m ImageMagickWriter(fps\u001b[38;5;241m=\u001b[39m\u001b[38;5;241m20\u001b[39m)\n\u001b[1;32m---> 19\u001b[0m \u001b[43manim\u001b[49m\u001b[38;5;241;43m.\u001b[39;49m\u001b[43msave\u001b[49m\u001b[43m(\u001b[49m\u001b[38;5;124;43m'\u001b[39;49m\u001b[38;5;124;43manim.gif\u001b[39;49m\u001b[38;5;124;43m'\u001b[39;49m\u001b[43m,\u001b[49m\u001b[43m \u001b[49m\u001b[43mwriter\u001b[49m\u001b[38;5;241;43m=\u001b[39;49m\u001b[43mgif_writer\u001b[49m\u001b[43m)\u001b[49m\n",
      "File \u001b[1;32m~\\AppData\\Roaming\\Python\\Python39\\site-packages\\matplotlib\\animation.py:1093\u001b[0m, in \u001b[0;36mAnimation.save\u001b[1;34m(self, filename, writer, fps, dpi, codec, bitrate, extra_args, metadata, extra_anim, savefig_kwargs, progress_callback)\u001b[0m\n\u001b[0;32m   1091\u001b[0m         progress_callback(frame_number, total_frames)\n\u001b[0;32m   1092\u001b[0m         frame_number \u001b[38;5;241m+\u001b[39m\u001b[38;5;241m=\u001b[39m \u001b[38;5;241m1\u001b[39m\n\u001b[1;32m-> 1093\u001b[0m writer\u001b[38;5;241m.\u001b[39mgrab_frame(\u001b[38;5;241m*\u001b[39m\u001b[38;5;241m*\u001b[39msavefig_kwargs)\n",
      "File \u001b[1;32mJ:\\devtools\\Anaconda\\lib\\contextlib.py:137\u001b[0m, in \u001b[0;36m_GeneratorContextManager.__exit__\u001b[1;34m(self, typ, value, traceback)\u001b[0m\n\u001b[0;32m    135\u001b[0m     value \u001b[38;5;241m=\u001b[39m typ()\n\u001b[0;32m    136\u001b[0m \u001b[38;5;28;01mtry\u001b[39;00m:\n\u001b[1;32m--> 137\u001b[0m     \u001b[38;5;28;43mself\u001b[39;49m\u001b[38;5;241;43m.\u001b[39;49m\u001b[43mgen\u001b[49m\u001b[38;5;241;43m.\u001b[39;49m\u001b[43mthrow\u001b[49m\u001b[43m(\u001b[49m\u001b[43mtyp\u001b[49m\u001b[43m,\u001b[49m\u001b[43m \u001b[49m\u001b[43mvalue\u001b[49m\u001b[43m,\u001b[49m\u001b[43m \u001b[49m\u001b[43mtraceback\u001b[49m\u001b[43m)\u001b[49m\n\u001b[0;32m    138\u001b[0m \u001b[38;5;28;01mexcept\u001b[39;00m \u001b[38;5;167;01mStopIteration\u001b[39;00m \u001b[38;5;28;01mas\u001b[39;00m exc:\n\u001b[0;32m    139\u001b[0m     \u001b[38;5;66;03m# Suppress StopIteration *unless* it's the same exception that\u001b[39;00m\n\u001b[0;32m    140\u001b[0m     \u001b[38;5;66;03m# was passed to throw().  This prevents a StopIteration\u001b[39;00m\n\u001b[0;32m    141\u001b[0m     \u001b[38;5;66;03m# raised inside the \"with\" statement from being suppressed.\u001b[39;00m\n\u001b[0;32m    142\u001b[0m     \u001b[38;5;28;01mreturn\u001b[39;00m exc \u001b[38;5;129;01mis\u001b[39;00m \u001b[38;5;129;01mnot\u001b[39;00m value\n",
      "File \u001b[1;32m~\\AppData\\Roaming\\Python\\Python39\\site-packages\\matplotlib\\animation.py:236\u001b[0m, in \u001b[0;36mAbstractMovieWriter.saving\u001b[1;34m(self, fig, outfile, dpi, *args, **kwargs)\u001b[0m\n\u001b[0;32m    234\u001b[0m     \u001b[38;5;28;01myield\u001b[39;00m \u001b[38;5;28mself\u001b[39m\n\u001b[0;32m    235\u001b[0m \u001b[38;5;28;01mfinally\u001b[39;00m:\n\u001b[1;32m--> 236\u001b[0m     \u001b[38;5;28;43mself\u001b[39;49m\u001b[38;5;241;43m.\u001b[39;49m\u001b[43mfinish\u001b[49m\u001b[43m(\u001b[49m\u001b[43m)\u001b[49m\n",
      "File \u001b[1;32m~\\AppData\\Roaming\\Python\\Python39\\site-packages\\matplotlib\\animation.py:342\u001b[0m, in \u001b[0;36mMovieWriter.finish\u001b[1;34m(self)\u001b[0m\n\u001b[0;32m    340\u001b[0m     overridden_cleanup()\n\u001b[0;32m    341\u001b[0m \u001b[38;5;28;01melse\u001b[39;00m:\n\u001b[1;32m--> 342\u001b[0m     \u001b[38;5;28;43mself\u001b[39;49m\u001b[38;5;241;43m.\u001b[39;49m\u001b[43m_cleanup\u001b[49m\u001b[43m(\u001b[49m\u001b[43m)\u001b[49m\n",
      "File \u001b[1;32m~\\AppData\\Roaming\\Python\\Python39\\site-packages\\matplotlib\\animation.py:373\u001b[0m, in \u001b[0;36mMovieWriter._cleanup\u001b[1;34m(self)\u001b[0m\n\u001b[0;32m    369\u001b[0m     _log\u001b[38;5;241m.\u001b[39mlog(\n\u001b[0;32m    370\u001b[0m         logging\u001b[38;5;241m.\u001b[39mWARNING \u001b[38;5;28;01mif\u001b[39;00m \u001b[38;5;28mself\u001b[39m\u001b[38;5;241m.\u001b[39m_proc\u001b[38;5;241m.\u001b[39mreturncode \u001b[38;5;28;01melse\u001b[39;00m logging\u001b[38;5;241m.\u001b[39mDEBUG,\n\u001b[0;32m    371\u001b[0m         \u001b[38;5;124m\"\u001b[39m\u001b[38;5;124mMovieWriter stderr:\u001b[39m\u001b[38;5;130;01m\\n\u001b[39;00m\u001b[38;5;132;01m%s\u001b[39;00m\u001b[38;5;124m\"\u001b[39m, err)\n\u001b[0;32m    372\u001b[0m \u001b[38;5;28;01mif\u001b[39;00m \u001b[38;5;28mself\u001b[39m\u001b[38;5;241m.\u001b[39m_proc\u001b[38;5;241m.\u001b[39mreturncode:\n\u001b[1;32m--> 373\u001b[0m     \u001b[38;5;28;01mraise\u001b[39;00m subprocess\u001b[38;5;241m.\u001b[39mCalledProcessError(\n\u001b[0;32m    374\u001b[0m         \u001b[38;5;28mself\u001b[39m\u001b[38;5;241m.\u001b[39m_proc\u001b[38;5;241m.\u001b[39mreturncode, \u001b[38;5;28mself\u001b[39m\u001b[38;5;241m.\u001b[39m_proc\u001b[38;5;241m.\u001b[39margs, out, err)\n",
      "\u001b[1;31mCalledProcessError\u001b[0m: Command '['J:\\\\devtools\\\\ImageMagick-7.1.0-Q16-HDRI\\\\magick.exe', '-size', '1152x648', '-depth', '8', '-delay', '5.0', '-loop', '0', 'rgba:-', 'anim.gif']' returned non-zero exit status 1."
     ]
    }
   ],
   "source": [
    "from matplotlib.animation import FuncAnimation, FFMpegWriter, ImageMagickWriter\n",
    "\n",
    "# The function describing the gif:\n",
    "# x = mpc.data['_x']\n",
    "x = simulator.data['_x']\n",
    "print(x)\n",
    "# print(list(map(lambda n: [n[0]/100,n[1]/100], x)))\n",
    "def update(t_ind):\n",
    "\n",
    "    bar1[0].set_data(x[t_ind][0],x[t_ind][1])\n",
    "    bar2[0].set_data(100,100)\n",
    "    mpc_graphics.plot_results(t_ind)\n",
    "    mpc_graphics.plot_predictions(t_ind)\n",
    "    mpc_graphics.reset_axes()\n",
    "\n",
    "\n",
    "anim = FuncAnimation(fig, update, frames=n_steps, repeat=False)\n",
    "gif_writer = ImageMagickWriter(fps=20)\n",
    "anim.save('anim.gif', writer=gif_writer)"
   ]
  },
  {
   "cell_type": "code",
   "execution_count": null,
   "id": "cd3e9ba0",
   "metadata": {},
   "outputs": [],
   "source": [
    "from IPython.display import HTML, Image\n",
    "display(Image(data=open(\"anim.gif\",'rb').read(), format='png'))"
   ]
  },
  {
   "cell_type": "code",
   "execution_count": null,
   "id": "0a0a091c",
   "metadata": {},
   "outputs": [],
   "source": [
    "# %%capture\n",
    "# # Quickly reset the history of the MPC data object.\n",
    "# mpc.reset_history()\n",
    "\n",
    "# n_steps = 100\n",
    "# for k in range(n_steps):\n",
    "#     u0 = mpc.make_step(x0)\n",
    "#     y_next = simulator.make_step(u0)\n",
    "#     x0 = estimator.make_step(y_next)"
   ]
  }
 ],
 "metadata": {
  "kernelspec": {
   "display_name": "Python 3 (ipykernel)",
   "language": "python",
   "name": "python3"
  },
  "language_info": {
   "codemirror_mode": {
    "name": "ipython",
    "version": 3
   },
   "file_extension": ".py",
   "mimetype": "text/x-python",
   "name": "python",
   "nbconvert_exporter": "python",
   "pygments_lexer": "ipython3",
   "version": "3.9.12"
  }
 },
 "nbformat": 4,
 "nbformat_minor": 5
}
