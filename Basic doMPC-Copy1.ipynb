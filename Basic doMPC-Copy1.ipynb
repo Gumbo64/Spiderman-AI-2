{
 "cells": [
  {
   "cell_type": "code",
   "execution_count": 1,
   "id": "e9384199",
   "metadata": {},
   "outputs": [],
   "source": [
    "import numpy as np\n",
    "import sys\n",
    "from casadi import *\n",
    "\n",
    "# Add do_mpc to path. This is not necessary if it was installed via pip\n",
    "sys.path.append('../../../')\n",
    "\n",
    "# Import do_mpc package:\n",
    "import do_mpc"
   ]
  },
  {
   "cell_type": "code",
   "execution_count": 2,
   "id": "ac9c6266",
   "metadata": {},
   "outputs": [],
   "source": [
    "model_type = 'continuous' # either 'discrete' or 'continuous'\n",
    "model = do_mpc.model.Model('continuous', 'MX')\n",
    "# model = do_mpc.model.Model(model_type)"
   ]
  },
  {
   "cell_type": "code",
   "execution_count": 3,
   "id": "47647bfd",
   "metadata": {},
   "outputs": [],
   "source": [
    "g = 9.80665 # m/s^2, Gravity"
   ]
  },
  {
   "cell_type": "code",
   "execution_count": null,
   "id": "9b9d7fb0",
   "metadata": {},
   "outputs": [],
   "source": []
  },
  {
   "cell_type": "code",
   "execution_count": 4,
   "id": "561ecada",
   "metadata": {},
   "outputs": [],
   "source": [
    "pos = model.set_variable('_x',  'pos',2)\n",
    "dpos = model.set_variable('_x',  'dpos',2)\n",
    "\n",
    "\n",
    "u = model.set_variable('_u',  'force',2)\n",
    "\n",
    "ddpos = model.set_variable('_z', 'ddpos',2)\n",
    "# prin"
   ]
  },
  {
   "cell_type": "code",
   "execution_count": 5,
   "id": "1232f4e8",
   "metadata": {},
   "outputs": [],
   "source": [
    "model.set_rhs('pos', dpos)\n",
    "model.set_rhs('dpos', ddpos)\n",
    "# model.set_rhs('time', 1)"
   ]
  },
  {
   "cell_type": "code",
   "execution_count": 6,
   "id": "25128da3",
   "metadata": {},
   "outputs": [
    {
     "name": "stdout",
     "output_type": "stream",
     "text": [
      "-0.8\n",
      "[-1.2, -1.6]\n"
     ]
    }
   ],
   "source": [
    "rest = 1\n",
    "\n",
    "d = MX.sym('x',2)\n",
    "\n",
    "d_len = Function('f',[d],\\\n",
    "           [sqrt(d[0]**2 + d[1]**2)])\n",
    "# print(m_len(np.array([[3],[4]])))\n",
    "s = Function('f',[d],\\\n",
    "           [(rest - d_len(d))/d_len(d)])\n",
    "\n",
    "print(s(np.array([[3],[4]])))\n",
    "\n",
    "t = Function('f',[d],\\\n",
    "           [d * 0.5 * s(d)])\n",
    "\n",
    "print(t(np.array([[3],[4]])))\n"
   ]
  },
  {
   "cell_type": "code",
   "execution_count": 7,
   "id": "2ad97594",
   "metadata": {},
   "outputs": [],
   "source": [
    "formulas = vertcat(\n",
    "        # 1\n",
    "        u*0.001 + [0,-g] + 10 * t(pos-[50,50])\n",
    "        - (ddpos),\n",
    "    )\n",
    "\n",
    "model.set_alg('formulas', formulas)"
   ]
  },
  {
   "cell_type": "code",
   "execution_count": 8,
   "id": "85849cd5",
   "metadata": {},
   "outputs": [
    {
     "data": {
      "text/plain": [
       "MX((sq((50-pos[1]))+sq((50-pos[0]))))"
      ]
     },
     "execution_count": 8,
     "metadata": {},
     "output_type": "execute_result"
    }
   ],
   "source": [
    "\n",
    "distance = (50-pos[1])**2 + (50 - pos[0])**2\n",
    "\n",
    "\n",
    "model.set_expression('distance', distance)"
   ]
  },
  {
   "cell_type": "code",
   "execution_count": null,
   "id": "044a233b",
   "metadata": {},
   "outputs": [],
   "source": []
  },
  {
   "cell_type": "code",
   "execution_count": 9,
   "id": "001694e9",
   "metadata": {},
   "outputs": [],
   "source": [
    "# Build the model\n",
    "model.setup()"
   ]
  },
  {
   "cell_type": "code",
   "execution_count": 10,
   "id": "d77ee6b3",
   "metadata": {},
   "outputs": [],
   "source": [
    "mpc = do_mpc.controller.MPC(model)"
   ]
  },
  {
   "cell_type": "code",
   "execution_count": 11,
   "id": "346e08df",
   "metadata": {},
   "outputs": [],
   "source": [
    "setup_mpc = {\n",
    "    'n_horizon': 100,\n",
    "    'n_robust': 0,\n",
    "    'open_loop': 0,\n",
    "    't_step': 0.04,\n",
    "    'state_discretization': 'collocation',\n",
    "    'collocation_type': 'radau',\n",
    "    'collocation_deg': 3,\n",
    "    'collocation_ni': 1,\n",
    "    'store_full_solution': True,\n",
    "    # Use MA27 linear solver in ipopt for faster calculations:\n",
    "    'nlpsol_opts': {'ipopt.linear_solver': 'mumps'}\n",
    "}\n",
    "mpc.set_param(**setup_mpc)"
   ]
  },
  {
   "cell_type": "code",
   "execution_count": 12,
   "id": "b72a5d04",
   "metadata": {},
   "outputs": [],
   "source": [
    "mterm = model.aux['distance'] # terminal cost\n",
    "lterm = model.aux['distance'] # stage cost\n",
    "\n",
    "mpc.set_objective(mterm=mterm, lterm=lterm)\n",
    "# Input force is implicitly restricted through the objective.\n",
    "mpc.set_rterm(force=0.1)"
   ]
  },
  {
   "cell_type": "code",
   "execution_count": 13,
   "id": "2aa57271",
   "metadata": {},
   "outputs": [],
   "source": [
    "mpc.bounds['lower','_u','force'] = [-20,20]\n",
    "mpc.bounds['upper','_u','force'] = [20,20]"
   ]
  },
  {
   "cell_type": "code",
   "execution_count": 14,
   "id": "318db96f",
   "metadata": {},
   "outputs": [],
   "source": [
    "mpc.setup()"
   ]
  },
  {
   "cell_type": "code",
   "execution_count": 15,
   "id": "eb94c5d9",
   "metadata": {},
   "outputs": [],
   "source": [
    "estimator = do_mpc.estimator.StateFeedback(model)"
   ]
  },
  {
   "cell_type": "code",
   "execution_count": 16,
   "id": "3b030f01",
   "metadata": {},
   "outputs": [],
   "source": [
    "simulator = do_mpc.simulator.Simulator(model)"
   ]
  },
  {
   "cell_type": "code",
   "execution_count": 17,
   "id": "d94a2048",
   "metadata": {},
   "outputs": [],
   "source": [
    "params_simulator = {\n",
    "    # Note: cvode doesn't support DAE systems.\n",
    "    'integration_tool': 'idas',\n",
    "    'abstol': 1e-10,\n",
    "    'reltol': 1e-10,\n",
    "    't_step': 0.04\n",
    "}\n",
    "\n",
    "simulator.set_param(**params_simulator)"
   ]
  },
  {
   "cell_type": "code",
   "execution_count": 18,
   "id": "91269239",
   "metadata": {},
   "outputs": [],
   "source": [
    "simulator.setup()"
   ]
  },
  {
   "cell_type": "code",
   "execution_count": 19,
   "id": "2f86e534",
   "metadata": {},
   "outputs": [],
   "source": [
    "simulator.x0['pos'] = [20,10]\n",
    "\n",
    "\n",
    "\n",
    "x0 = simulator.x0.cat.full()\n",
    "\n",
    "mpc.x0 = x0\n",
    "estimator.x0 = x0\n",
    "\n",
    "mpc.set_initial_guess()\n"
   ]
  },
  {
   "cell_type": "code",
   "execution_count": 20,
   "id": "bdefd5c9",
   "metadata": {},
   "outputs": [],
   "source": [
    "import matplotlib.pyplot as plt\n",
    "plt.ion()\n",
    "from matplotlib import rcParams\n",
    "rcParams['text.usetex'] = False\n",
    "rcParams['axes.grid'] = True\n",
    "rcParams['lines.linewidth'] = 2.0\n",
    "rcParams['axes.labelsize'] = 'xx-large'\n",
    "rcParams['xtick.labelsize'] = 'xx-large'\n",
    "rcParams['ytick.labelsize'] = 'xx-large'"
   ]
  },
  {
   "cell_type": "code",
   "execution_count": 21,
   "id": "94aa3e1c",
   "metadata": {},
   "outputs": [],
   "source": [
    "mpc_graphics = do_mpc.graphics.Graphics(simulator.data)\n",
    "# print(pos)"
   ]
  },
  {
   "cell_type": "code",
   "execution_count": 22,
   "id": "d286a1d4",
   "metadata": {},
   "outputs": [],
   "source": [
    "%%capture\n",
    "\n",
    "fig = plt.figure(figsize=(16,9))\n",
    "fig.patch.set_facecolor('white')\n",
    "plt.title(\"space ship\")\n",
    "\n",
    "ax1 = plt.subplot2grid((4, 2), (0, 0), rowspan=4)\n",
    "ax2 = plt.subplot2grid((4, 2), (0, 1))\n",
    "# ax3 = plt.subplot2grid((4, 2), (1, 1))\n",
    "ax4 = plt.subplot2grid((4, 2), (2, 1))\n",
    "# ax5 = plt.subplot2grid((4, 2), (3, 1))\n",
    "\n",
    "ax2.set_ylabel('Distance to goal')\n",
    "# ax3.set_ylabel('Posx ')\n",
    "ax4.set_ylabel('Position x,y')\n",
    "# ax5.set_ylabel('Input accel x,y')\n",
    "\n",
    "# Axis on the right.\n",
    "for ax in [ax2, ax4]:\n",
    "    ax.yaxis.set_label_position(\"right\")\n",
    "    ax.yaxis.tick_right()\n",
    "#     if ax != ax5:\n",
    "    ax.xaxis.set_ticklabels([])\n",
    "\n",
    "# ax5.set_xlabel('time [s]')\n",
    "\n",
    "# ax1.axhline(0,color='black')\n",
    "ax1.set_xlim(0,120)\n",
    "ax1.set_ylim(0,120)\n",
    "\n",
    "bar1 = ax1.plot([],[], '-o', linewidth=5, markersize=10)\n",
    "bar2 = ax1.plot([],[], '-o', linewidth=5, markersize=10)\n",
    "\n",
    "# mpc_graphics.add_line(var_type='_aux', var_name='d', axis=ax1)\n",
    "mpc_graphics.add_line(var_type='_aux', var_name='distance', axis=ax2)\n",
    "# mpc_graphics.add_line(var_type='_x', var_name='pos', axis=ax3)\n",
    "mpc_graphics.add_line(var_type='_x', var_name='pos', axis=ax4)\n",
    "# mpc_graphics.add_line(var_type='_u', var_name='force', axis=ax5)\n",
    "\n",
    "\n",
    "fig.align_ylabels()\n",
    "fig.tight_layout()"
   ]
  },
  {
   "cell_type": "code",
   "execution_count": 23,
   "id": "6499ecdc",
   "metadata": {},
   "outputs": [],
   "source": [
    "# u0 = mpc.make_step(x0)"
   ]
  },
  {
   "cell_type": "code",
   "execution_count": 24,
   "id": "955cb4f6",
   "metadata": {
    "scrolled": true
   },
   "outputs": [],
   "source": [
    "\n",
    "\n",
    "# mpc_graphics.plot_predictions()\n",
    "# mpc_graphics.reset_axes()\n",
    "\n",
    "# fig"
   ]
  },
  {
   "cell_type": "code",
   "execution_count": null,
   "id": "a971b43a",
   "metadata": {},
   "outputs": [],
   "source": []
  },
  {
   "cell_type": "code",
   "execution_count": 25,
   "id": "5e5529aa",
   "metadata": {},
   "outputs": [
    {
     "name": "stderr",
     "output_type": "stream",
     "text": [
      "The linesearch algorithm failed with too small a step.\n"
     ]
    },
    {
     "ename": "RuntimeError",
     "evalue": ".../casadi/interfaces/sundials/idas_interface.cpp:591: IDACalcIC returned \"IDA_LINESEARCH_FAIL\". Consult IDAS documentation.",
     "output_type": "error",
     "traceback": [
      "\u001b[1;31m---------------------------------------------------------------------------\u001b[0m",
      "\u001b[1;31mRuntimeError\u001b[0m                              Traceback (most recent call last)",
      "Input \u001b[1;32mIn [25]\u001b[0m, in \u001b[0;36m<cell line: 11>\u001b[1;34m()\u001b[0m\n\u001b[0;32m      6\u001b[0m \u001b[38;5;66;03m# u0 = mpc.make_step(x0)\u001b[39;00m\n\u001b[0;32m      7\u001b[0m \u001b[38;5;66;03m# print(\"~~~~~\")\u001b[39;00m\n\u001b[0;32m      8\u001b[0m \u001b[38;5;66;03m# print(u0)\u001b[39;00m\n\u001b[0;32m      9\u001b[0m \u001b[38;5;66;03m# print(type(u0))\u001b[39;00m\n\u001b[0;32m     10\u001b[0m \u001b[38;5;66;03m# print(\"~~~~~\")\u001b[39;00m\n\u001b[0;32m     11\u001b[0m \u001b[38;5;28;01mfor\u001b[39;00m k \u001b[38;5;129;01min\u001b[39;00m \u001b[38;5;28mrange\u001b[39m(n_steps):\n\u001b[0;32m     12\u001b[0m \u001b[38;5;66;03m#     u0 = mpc.make_step(x0)\u001b[39;00m\n\u001b[0;32m     13\u001b[0m \u001b[38;5;66;03m#     print(\"~~~~~\")\u001b[39;00m\n\u001b[0;32m     14\u001b[0m \u001b[38;5;66;03m#     print(u0)\u001b[39;00m\n\u001b[0;32m     15\u001b[0m \u001b[38;5;66;03m#     print(\"~~~~~\")\u001b[39;00m\n\u001b[1;32m---> 16\u001b[0m     y_next \u001b[38;5;241m=\u001b[39m \u001b[43msimulator\u001b[49m\u001b[38;5;241;43m.\u001b[39;49m\u001b[43mmake_step\u001b[49m\u001b[43m(\u001b[49m\u001b[43mnp\u001b[49m\u001b[38;5;241;43m.\u001b[39;49m\u001b[43marray\u001b[49m\u001b[43m(\u001b[49m\u001b[43m[\u001b[49m\u001b[43m[\u001b[49m\u001b[38;5;241;43m0\u001b[39;49m\u001b[43m]\u001b[49m\u001b[43m,\u001b[49m\u001b[43m[\u001b[49m\u001b[38;5;241;43m0\u001b[39;49m\u001b[43m]\u001b[49m\u001b[43m]\u001b[49m\u001b[43m)\u001b[49m\u001b[43m)\u001b[49m\n\u001b[0;32m     17\u001b[0m     x0 \u001b[38;5;241m=\u001b[39m estimator\u001b[38;5;241m.\u001b[39mmake_step(y_next)\n",
      "File \u001b[1;32mJ:\\devtools\\Anaconda\\lib\\site-packages\\do_mpc\\simulator.py:500\u001b[0m, in \u001b[0;36mSimulator.make_step\u001b[1;34m(self, u0, v0, w0)\u001b[0m\n\u001b[0;32m    497\u001b[0m \u001b[38;5;28mself\u001b[39m\u001b[38;5;241m.\u001b[39msim_p_num[\u001b[38;5;124m'\u001b[39m\u001b[38;5;124m_tvp\u001b[39m\u001b[38;5;124m'\u001b[39m] \u001b[38;5;241m=\u001b[39m tvp0\n\u001b[0;32m    498\u001b[0m \u001b[38;5;28mself\u001b[39m\u001b[38;5;241m.\u001b[39msim_p_num[\u001b[38;5;124m'\u001b[39m\u001b[38;5;124m_w\u001b[39m\u001b[38;5;124m'\u001b[39m] \u001b[38;5;241m=\u001b[39m w0\n\u001b[1;32m--> 500\u001b[0m x_next \u001b[38;5;241m=\u001b[39m \u001b[38;5;28;43mself\u001b[39;49m\u001b[38;5;241;43m.\u001b[39;49m\u001b[43msimulate\u001b[49m\u001b[43m(\u001b[49m\u001b[43m)\u001b[49m\n\u001b[0;32m    502\u001b[0m z0 \u001b[38;5;241m=\u001b[39m \u001b[38;5;28mself\u001b[39m\u001b[38;5;241m.\u001b[39msim_z_num[\u001b[38;5;124m'\u001b[39m\u001b[38;5;124m_z\u001b[39m\u001b[38;5;124m'\u001b[39m]\n\u001b[0;32m    503\u001b[0m aux0 \u001b[38;5;241m=\u001b[39m \u001b[38;5;28mself\u001b[39m\u001b[38;5;241m.\u001b[39msim_aux_num\n",
      "File \u001b[1;32mJ:\\devtools\\Anaconda\\lib\\site-packages\\do_mpc\\simulator.py:431\u001b[0m, in \u001b[0;36mSimulator.simulate\u001b[1;34m(self)\u001b[0m\n\u001b[0;32m    429\u001b[0m     x_new \u001b[38;5;241m=\u001b[39m \u001b[38;5;28mself\u001b[39m\u001b[38;5;241m.\u001b[39msimulator(sim_x_num, sim_z_num, sim_p_num)\n\u001b[0;32m    430\u001b[0m \u001b[38;5;28;01melif\u001b[39;00m \u001b[38;5;28mself\u001b[39m\u001b[38;5;241m.\u001b[39mmodel\u001b[38;5;241m.\u001b[39mmodel_type \u001b[38;5;241m==\u001b[39m \u001b[38;5;124m'\u001b[39m\u001b[38;5;124mcontinuous\u001b[39m\u001b[38;5;124m'\u001b[39m:\n\u001b[1;32m--> 431\u001b[0m     r \u001b[38;5;241m=\u001b[39m \u001b[38;5;28;43mself\u001b[39;49m\u001b[38;5;241;43m.\u001b[39;49m\u001b[43msimulator\u001b[49m\u001b[43m(\u001b[49m\u001b[43mx0\u001b[49m\u001b[43m \u001b[49m\u001b[38;5;241;43m=\u001b[39;49m\u001b[43m \u001b[49m\u001b[43msim_x_num\u001b[49m\u001b[43m,\u001b[49m\u001b[43m \u001b[49m\u001b[43mz0\u001b[49m\u001b[43m \u001b[49m\u001b[38;5;241;43m=\u001b[39;49m\u001b[43m \u001b[49m\u001b[43msim_z_num\u001b[49m\u001b[43m,\u001b[49m\u001b[43m \u001b[49m\u001b[43mp\u001b[49m\u001b[43m \u001b[49m\u001b[38;5;241;43m=\u001b[39;49m\u001b[43m \u001b[49m\u001b[43msim_p_num\u001b[49m\u001b[43m)\u001b[49m\n\u001b[0;32m    432\u001b[0m     x_new \u001b[38;5;241m=\u001b[39m r[\u001b[38;5;124m'\u001b[39m\u001b[38;5;124mxf\u001b[39m\u001b[38;5;124m'\u001b[39m]\n\u001b[0;32m    433\u001b[0m     z_now \u001b[38;5;241m=\u001b[39m r[\u001b[38;5;124m'\u001b[39m\u001b[38;5;124mzf\u001b[39m\u001b[38;5;124m'\u001b[39m]\n",
      "File \u001b[1;32mJ:\\devtools\\Anaconda\\lib\\site-packages\\casadi\\casadi.py:13453\u001b[0m, in \u001b[0;36mFunction.__call__\u001b[1;34m(self, *args, **kwargs)\u001b[0m\n\u001b[0;32m  13450\u001b[0m       \u001b[38;5;28;01mreturn\u001b[39;00m \u001b[38;5;28mtuple\u001b[39m(ret)\n\u001b[0;32m  13451\u001b[0m   \u001b[38;5;28;01melse\u001b[39;00m:\n\u001b[0;32m  13452\u001b[0m \u001b[38;5;66;03m# Named inputs -> return dictionary\u001b[39;00m\n\u001b[1;32m> 13453\u001b[0m     \u001b[38;5;28;01mreturn\u001b[39;00m \u001b[38;5;28;43mself\u001b[39;49m\u001b[38;5;241;43m.\u001b[39;49m\u001b[43mcall\u001b[49m\u001b[43m(\u001b[49m\u001b[43mkwargs\u001b[49m\u001b[43m)\u001b[49m\n",
      "File \u001b[1;32mJ:\\devtools\\Anaconda\\lib\\site-packages\\casadi\\casadi.py:12324\u001b[0m, in \u001b[0;36mFunction.call\u001b[1;34m(self, *args)\u001b[0m\n\u001b[0;32m  12256\u001b[0m \u001b[38;5;28;01mdef\u001b[39;00m \u001b[38;5;21mcall\u001b[39m(\u001b[38;5;28mself\u001b[39m, \u001b[38;5;241m*\u001b[39margs):\n\u001b[0;32m  12257\u001b[0m     \u001b[38;5;124;03m\"\"\"\u001b[39;00m\n\u001b[0;32m  12258\u001b[0m \u001b[38;5;124;03m      Generate a Jacobian function of output oind with respect to input iind.\u001b[39;00m\n\u001b[0;32m  12259\u001b[0m \n\u001b[1;32m   (...)\u001b[0m\n\u001b[0;32m  12322\u001b[0m \n\u001b[0;32m  12323\u001b[0m \u001b[38;5;124;03m    \"\"\"\u001b[39;00m\n\u001b[1;32m> 12324\u001b[0m     \u001b[38;5;28;01mreturn\u001b[39;00m \u001b[43m_casadi\u001b[49m\u001b[38;5;241;43m.\u001b[39;49m\u001b[43mFunction_call\u001b[49m\u001b[43m(\u001b[49m\u001b[38;5;28;43mself\u001b[39;49m\u001b[43m,\u001b[49m\u001b[43m \u001b[49m\u001b[38;5;241;43m*\u001b[39;49m\u001b[43margs\u001b[49m\u001b[43m)\u001b[49m\n",
      "\u001b[1;31mRuntimeError\u001b[0m: .../casadi/interfaces/sundials/idas_interface.cpp:591: IDACalcIC returned \"IDA_LINESEARCH_FAIL\". Consult IDAS documentation."
     ]
    }
   ],
   "source": [
    "# %%capture\n",
    "# Quickly reset the history of the MPC data object.\n",
    "mpc.reset_history()\n",
    "\n",
    "n_steps = 300\n",
    "# u0 = mpc.make_step(x0)\n",
    "# print(\"~~~~~\")\n",
    "# print(u0)\n",
    "# print(type(u0))\n",
    "# print(\"~~~~~\")\n",
    "for k in range(n_steps):\n",
    "#     u0 = mpc.make_step(x0)\n",
    "#     print(\"~~~~~\")\n",
    "#     print(u0)\n",
    "#     print(\"~~~~~\")\n",
    "    y_next = simulator.make_step(np.array([[0],[0]]))\n",
    "    x0 = estimator.make_step(y_next)\n",
    "    "
   ]
  },
  {
   "cell_type": "code",
   "execution_count": null,
   "id": "a017bb46",
   "metadata": {},
   "outputs": [],
   "source": [
    "from matplotlib.animation import FuncAnimation, FFMpegWriter, ImageMagickWriter\n",
    "\n",
    "# The function describing the gif:\n",
    "# x = mpc.data['_x']\n",
    "x = simulator.data['_x']\n",
    "print(x)\n",
    "# print(list(map(lambda n: [n[0]/100,n[1]/100], x)))\n",
    "def update(t_ind):\n",
    "\n",
    "    bar1[0].set_data(x[t_ind][0],x[t_ind][1])\n",
    "    bar2[0].set_data(50,50)\n",
    "    mpc_graphics.plot_results(t_ind)\n",
    "#     mpc_graphics.plot_predictions(t_ind)\n",
    "    mpc_graphics.reset_axes()\n",
    "\n",
    "\n",
    "anim = FuncAnimation(fig, update, frames=n_steps, repeat=False)\n",
    "gif_writer = ImageMagickWriter(fps=20)\n",
    "anim.save('anim.gif', writer=gif_writer)"
   ]
  },
  {
   "cell_type": "code",
   "execution_count": null,
   "id": "cd3e9ba0",
   "metadata": {},
   "outputs": [],
   "source": [
    "from IPython.display import HTML, Image\n",
    "display(Image(data=open(\"anim.gif\",'rb').read(), format='png'))"
   ]
  },
  {
   "cell_type": "code",
   "execution_count": null,
   "id": "0a0a091c",
   "metadata": {},
   "outputs": [],
   "source": [
    "# %%capture\n",
    "# # Quickly reset the history of the MPC data object.\n",
    "# mpc.reset_history()\n",
    "\n",
    "# n_steps = 100\n",
    "# for k in range(n_steps):\n",
    "#     u0 = mpc.make_step(x0)\n",
    "#     y_next = simulator.make_step(u0)\n",
    "#     x0 = estimator.make_step(y_next)"
   ]
  },
  {
   "cell_type": "code",
   "execution_count": null,
   "id": "6317b62c",
   "metadata": {},
   "outputs": [],
   "source": []
  },
  {
   "cell_type": "code",
   "execution_count": null,
   "id": "6ed8d64e",
   "metadata": {},
   "outputs": [],
   "source": []
  }
 ],
 "metadata": {
  "kernelspec": {
   "display_name": "Python 3 (ipykernel)",
   "language": "python",
   "name": "python3"
  },
  "language_info": {
   "codemirror_mode": {
    "name": "ipython",
    "version": 3
   },
   "file_extension": ".py",
   "mimetype": "text/x-python",
   "name": "python",
   "nbconvert_exporter": "python",
   "pygments_lexer": "ipython3",
   "version": "3.9.12"
  }
 },
 "nbformat": 4,
 "nbformat_minor": 5
}
