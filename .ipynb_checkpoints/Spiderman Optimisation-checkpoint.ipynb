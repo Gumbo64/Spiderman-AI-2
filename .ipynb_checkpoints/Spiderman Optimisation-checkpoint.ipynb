{
 "cells": [
  {
   "cell_type": "code",
   "execution_count": 1,
   "id": "a6f3d0e8",
   "metadata": {},
   "outputs": [],
   "source": [
    "from casadi import *\n"
   ]
  },
  {
   "cell_type": "code",
   "execution_count": 2,
   "id": "9fbdb70f",
   "metadata": {},
   "outputs": [],
   "source": [
    "# T for total steps\n",
    "T = 15\n",
    "N_rope = 10"
   ]
  },
  {
   "cell_type": "code",
   "execution_count": 3,
   "id": "db02a972",
   "metadata": {},
   "outputs": [],
   "source": [
    "r = MX.sym('m',N_rope,2)\n",
    "d_r = MX.sym('m',N_rope,2)\n",
    "y1 = MX.sym('y1',2)\n",
    "y2 = MX.sym('y2',2)\n",
    "\n",
    "# f = Function('f',[m,y1],\\\n",
    "#            [m + repmat(y1.T,N,1)])\n",
    "\n",
    "# f( test_rope  ,  test_velocity  )"
   ]
  },
  {
   "cell_type": "code",
   "execution_count": 4,
   "id": "f091805c",
   "metadata": {},
   "outputs": [
    {
     "name": "stdout",
     "output_type": "stream",
     "text": [
      "5\n",
      "[[0.6, 0.8]]\n"
     ]
    }
   ],
   "source": [
    "\n",
    "# force applied to vec1\n",
    "# ie force that moves vec1 towards vec2\n",
    "# Fs=-k*(mag(L)-L0)*norm(L)\n",
    "\n",
    "vec1 = MX.sym('vec1',2)\n",
    "vec2 = MX.sym('vec2',2)\n",
    "\n",
    "# vector length\n",
    "\n",
    "v_len = Function('f',[vec1],\\\n",
    "           [ sqrt(vec1[0]**2 + vec1[1]**2)  ])\n",
    "\n",
    "# add 0.00001 so you don't divide by 0\n",
    "\n",
    "v_norm = Function('f',[vec1],\\\n",
    "           [ reshape((vec1 / (v_len(vec1) + 0.000001)),1,2)  ])\n",
    "\n",
    "print(v_len(DM([3,4])))\n",
    "print(v_norm(DM([3,4])))\n"
   ]
  },
  {
   "cell_type": "code",
   "execution_count": 5,
   "id": "0781111c",
   "metadata": {},
   "outputs": [],
   "source": [
    "# Fs=-k*(mag(L)-L0)*norm(L)\n",
    "spring_k=5\n",
    "l=5\n",
    "F_spring = Function('f',[vec1],\\\n",
    "           [ -spring_k*( v_len(vec1)  - l) * v_norm(vec1) ])\n"
   ]
  },
  {
   "cell_type": "code",
   "execution_count": 6,
   "id": "a229128b",
   "metadata": {},
   "outputs": [],
   "source": [
    "# STEP_D_ROPE = Function('f',[r,d_r],\\\n",
    "#            [r, d_r  ])\n",
    "\n",
    "# STEP = Function('f',[,u],\\\n",
    "#            [r, d_r  ])"
   ]
  },
  {
   "cell_type": "code",
   "execution_count": 7,
   "id": "eb829c9e",
   "metadata": {},
   "outputs": [
    {
     "name": "stdout",
     "output_type": "stream",
     "text": [
      "\n",
      "[[0, 0], \n",
      " [0, 0], \n",
      " [0, 0], \n",
      " [0, 0]]\n",
      "\n",
      "[[0, 4], \n",
      " [1, 5], \n",
      " [2, 6], \n",
      " [3, 7]]\n"
     ]
    }
   ],
   "source": [
    "# test = DM([[1,2],[4,5],[1,2],[4,5]])\n",
    "test = DM([[0,0],[0,0],[0,0],[0,0]])\n",
    "print(test)\n",
    "\n",
    "\n",
    "for i in range(0,(4) * 2):\n",
    "    test[i] += i\n",
    "\n",
    "# test += vertcat(DM([1,1,1]),DM.zeros(3,2))\n",
    "print(test)"
   ]
  },
  {
   "cell_type": "code",
   "execution_count": 8,
   "id": "b872bf11",
   "metadata": {},
   "outputs": [],
   "source": [
    "\n",
    "\n",
    "opti = casadi.Opti()\n",
    "# States\n",
    "# N_rope = 10\n",
    "# d_rope = 10\n",
    "\n",
    "# for each time step (plus an initial one), for each segment, there is 2 numbers (x and y) \n",
    "pos = opti.variable(T+1,N_rope * 2)\n",
    "\n",
    "# input\n",
    "u = opti.variable(2)\n",
    "\n",
    " \n",
    "final_spiderman_x = pos[T,:][0]\n",
    "\n"
   ]
  },
  {
   "cell_type": "code",
   "execution_count": 9,
   "id": "ec205535",
   "metadata": {},
   "outputs": [
    {
     "name": "stdout",
     "output_type": "stream",
     "text": [
      "[0, 1, 2, 3, 4, 5, 6, 7, 8, 9]\n",
      "\n",
      "[[0, 0], \n",
      " [0, 0], \n",
      " [0, 0], \n",
      " [0, 0], \n",
      " [0, 0], \n",
      " [0, 0], \n",
      " [0, 0], \n",
      " [0, 0], \n",
      " [0, 0], \n",
      " [0, 0]]\n",
      "opti0_x_1[:320:16]\n"
     ]
    }
   ],
   "source": [
    "print(list(range(N_rope)))\n",
    "print(DM.zeros(N_rope,2))\n",
    "print(pos[0,:])\n",
    "opti.subject_to(pos[0,:]==DM.zeros(1,N_rope * 2))"
   ]
  },
  {
   "cell_type": "code",
   "execution_count": 21,
   "id": "61975c93",
   "metadata": {
    "scrolled": false
   },
   "outputs": [
    {
     "name": "stdout",
     "output_type": "stream",
     "text": [
      "(1, 20)\n",
      "(1, 1)\n",
      "opti0_x_1[160]\n"
     ]
    },
    {
     "ename": "RuntimeError",
     "evalue": ".../casadi/core/slice.cpp:83: Assertion \"stop<=len\" failed:\nSlice (start=10, stop=11, step=1) out of bounds with supplied length of 1",
     "output_type": "error",
     "traceback": [
      "\u001b[1;31m---------------------------------------------------------------------------\u001b[0m",
      "\u001b[1;31mRuntimeError\u001b[0m                              Traceback (most recent call last)",
      "Input \u001b[1;32mIn [21]\u001b[0m, in \u001b[0;36m<cell line: 8>\u001b[1;34m()\u001b[0m\n\u001b[0;32m     15\u001b[0m \u001b[38;5;66;03m######     Constraints\u001b[39;00m\n\u001b[0;32m     16\u001b[0m \n\u001b[0;32m     17\u001b[0m \u001b[38;5;66;03m#   k_pos[0] is the x coord of the first rope segment\u001b[39;00m\n\u001b[0;32m     18\u001b[0m \u001b[38;5;66;03m#   k_pos[0 + N_rope] accesses the y coord\u001b[39;00m\n\u001b[0;32m     20\u001b[0m     k_pos[\u001b[38;5;241m0\u001b[39m]          \u001b[38;5;241m=\u001b[39m k_pos[\u001b[38;5;241m0\u001b[39m] \u001b[38;5;241m+\u001b[39m (u[\u001b[38;5;241m0\u001b[39m] \u001b[38;5;241m-\u001b[39m k_pos[\u001b[38;5;241m0\u001b[39m])        \u001b[38;5;241m*\u001b[39m \u001b[38;5;241m0.25\u001b[39m\n\u001b[1;32m---> 21\u001b[0m     k_pos[\u001b[38;5;241m0\u001b[39m \u001b[38;5;241m+\u001b[39m N_rope] \u001b[38;5;241m=\u001b[39m k_pos[\u001b[38;5;241m0\u001b[39m] \u001b[38;5;241m+\u001b[39m (u[\u001b[38;5;241m1\u001b[39m] \u001b[38;5;241m-\u001b[39m k_pos[\u001b[38;5;241m0\u001b[39m \u001b[38;5;241m+\u001b[39m N_rope]) \u001b[38;5;241m*\u001b[39m \u001b[38;5;241m0.25\u001b[39m\n\u001b[0;32m     23\u001b[0m     \u001b[38;5;28;01mfor\u001b[39;00m i \u001b[38;5;129;01min\u001b[39;00m \u001b[38;5;28mrange\u001b[39m(\u001b[38;5;241m1\u001b[39m,N_rope \u001b[38;5;241m-\u001b[39m \u001b[38;5;241m1\u001b[39m):\n\u001b[0;32m     24\u001b[0m         v1 \u001b[38;5;241m=\u001b[39m DM([k_pos[i]  \u001b[38;5;241m-\u001b[39m  k_pos[i\u001b[38;5;241m-\u001b[39m\u001b[38;5;241m1\u001b[39m],    k_pos[i\u001b[38;5;241m+\u001b[39mN_rope]   \u001b[38;5;241m-\u001b[39m   k_pos[(i\u001b[38;5;241m-\u001b[39m\u001b[38;5;241m1\u001b[39m) \u001b[38;5;241m+\u001b[39m N_rope]  ]   )\n",
      "File \u001b[1;32mJ:\\devtools\\Anaconda\\lib\\site-packages\\casadi\\casadi.py:10847\u001b[0m, in \u001b[0;36mMX.__setitem__\u001b[1;34m(self, s, val)\u001b[0m\n\u001b[0;32m  10845\u001b[0m \u001b[38;5;28;01mif\u001b[39;00m \u001b[38;5;28misinstance\u001b[39m(s,\u001b[38;5;28mtuple\u001b[39m) \u001b[38;5;129;01mand\u001b[39;00m \u001b[38;5;28mlen\u001b[39m(s)\u001b[38;5;241m==\u001b[39m\u001b[38;5;241m2\u001b[39m:\n\u001b[0;32m  10846\u001b[0m   \u001b[38;5;28;01mreturn\u001b[39;00m \u001b[38;5;28mself\u001b[39m\u001b[38;5;241m.\u001b[39mset(val, \u001b[38;5;28;01mFalse\u001b[39;00m, s[\u001b[38;5;241m0\u001b[39m], s[\u001b[38;5;241m1\u001b[39m])\n\u001b[1;32m> 10847\u001b[0m \u001b[38;5;28;01mreturn\u001b[39;00m \u001b[38;5;28;43mself\u001b[39;49m\u001b[38;5;241;43m.\u001b[39;49m\u001b[43mset\u001b[49m\u001b[43m(\u001b[49m\u001b[43mval\u001b[49m\u001b[43m,\u001b[49m\u001b[43m \u001b[49m\u001b[38;5;28;43;01mFalse\u001b[39;49;00m\u001b[43m,\u001b[49m\u001b[43m \u001b[49m\u001b[43ms\u001b[49m\u001b[43m)\u001b[49m\n",
      "File \u001b[1;32mJ:\\devtools\\Anaconda\\lib\\site-packages\\casadi\\casadi.py:10548\u001b[0m, in \u001b[0;36mMX.set\u001b[1;34m(self, *args)\u001b[0m\n\u001b[0;32m  10502\u001b[0m \u001b[38;5;28;01mdef\u001b[39;00m \u001b[38;5;21mset\u001b[39m(\u001b[38;5;28mself\u001b[39m, \u001b[38;5;241m*\u001b[39margs):\n\u001b[0;32m  10503\u001b[0m     \u001b[38;5;124;03m\"\"\"\u001b[39;00m\n\u001b[0;32m  10504\u001b[0m \n\u001b[0;32m  10505\u001b[0m \n\u001b[1;32m   (...)\u001b[0m\n\u001b[0;32m  10546\u001b[0m \n\u001b[0;32m  10547\u001b[0m \u001b[38;5;124;03m    \"\"\"\u001b[39;00m\n\u001b[1;32m> 10548\u001b[0m     \u001b[38;5;28;01mreturn\u001b[39;00m \u001b[43m_casadi\u001b[49m\u001b[38;5;241;43m.\u001b[39;49m\u001b[43mMX_set\u001b[49m\u001b[43m(\u001b[49m\u001b[38;5;28;43mself\u001b[39;49m\u001b[43m,\u001b[49m\u001b[43m \u001b[49m\u001b[38;5;241;43m*\u001b[39;49m\u001b[43margs\u001b[49m\u001b[43m)\u001b[49m\n",
      "\u001b[1;31mRuntimeError\u001b[0m: .../casadi/core/slice.cpp:83: Assertion \"stop<=len\" failed:\nSlice (start=10, stop=11, step=1) out of bounds with supplied length of 1"
     ]
    }
   ],
   "source": [
    "k_pos = pos[1,:]\n",
    "print(k_pos.shape)\n",
    "print(k_pos[N_rope].shape)\n",
    "\n",
    "# print(u.shape)\n",
    "# print(u[1])\n",
    "\n",
    "for k in range(1,T):\n",
    "    k_pos = pos[k-1,:]\n",
    "    print(k_pos[0 + N_rope])\n",
    "    if k != 1:\n",
    "#         verlet integration on all rope segments\n",
    "        k_pos += pos[k-1:,]-pos[k-2:,]\n",
    "    \n",
    "######     Constraints\n",
    "\n",
    "#   k_pos[0] is the x coord of the first rope segment\n",
    "#   k_pos[0 + N_rope] accesses the y coord\n",
    "    \n",
    "    k_pos[0]          += (u[0] - k_pos[0])        * 0.25\n",
    "    k_pos[0 + N_rope] += (u[1] - k_pos[0 + N_rope]) * 0.25\n",
    "    \n",
    "    for i in range(1,N_rope - 1):\n",
    "        v1 = DM([k_pos[i]  -  k_pos[i-1],    k_pos[i+N_rope]   -   k_pos[(i-1) + N_rope]  ]   )\n",
    "        v2 = DM([k_pos[i]  -  k_pos[i+1],    k_pos[i+N_rope]   -   k_pos[(i+1) + N_rope]  ]   )\n",
    "        F = F_spring(v1) + F_spring(v2)\n",
    "        k_pos[i] += F[0]\n",
    "        k_pos[i + N_rope] += F[1]\n",
    "    \n",
    "    v1 = DM([k_pos[N_rope - 1]-k_pos[(N_rope - 1) -1],k_pos[(N_rope-1) + N_rope]-k_pos[(N_rope - 1) - 1 + N_rope]])\n",
    "    F = F_spring(v1)\n",
    "    k_pos[N_rope - 1] += F[0]\n",
    "    k_pos[N_rope - 1 + N_rope] += F[1]\n",
    "    \n",
    "    opti.subject_to(pos[k:,]==k_pos)\n"
   ]
  },
  {
   "cell_type": "code",
   "execution_count": null,
   "id": "fa32261d",
   "metadata": {},
   "outputs": [],
   "source": []
  },
  {
   "cell_type": "code",
   "execution_count": null,
   "id": "2a555334",
   "metadata": {},
   "outputs": [],
   "source": []
  },
  {
   "cell_type": "code",
   "execution_count": null,
   "id": "2e540447",
   "metadata": {},
   "outputs": [],
   "source": []
  },
  {
   "cell_type": "code",
   "execution_count": null,
   "id": "d6f91e37",
   "metadata": {},
   "outputs": [],
   "source": []
  }
 ],
 "metadata": {
  "kernelspec": {
   "display_name": "Python 3 (ipykernel)",
   "language": "python",
   "name": "python3"
  },
  "language_info": {
   "codemirror_mode": {
    "name": "ipython",
    "version": 3
   },
   "file_extension": ".py",
   "mimetype": "text/x-python",
   "name": "python",
   "nbconvert_exporter": "python",
   "pygments_lexer": "ipython3",
   "version": "3.9.12"
  }
 },
 "nbformat": 4,
 "nbformat_minor": 5
}
