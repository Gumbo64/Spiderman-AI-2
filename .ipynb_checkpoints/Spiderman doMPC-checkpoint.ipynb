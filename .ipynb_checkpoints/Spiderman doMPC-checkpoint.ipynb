{
 "cells": [
  {
   "cell_type": "code",
   "execution_count": 1,
   "id": "e9384199",
   "metadata": {},
   "outputs": [],
   "source": [
    "import numpy as np\n",
    "import sys\n",
    "from casadi import *\n",
    "\n",
    "# Add do_mpc to path. This is not necessary if it was installed via pip\n",
    "sys.path.append('../../../')\n",
    "\n",
    "# Import do_mpc package:\n",
    "import do_mpc"
   ]
  },
  {
   "cell_type": "code",
   "execution_count": 2,
   "id": "ba1c7488",
   "metadata": {},
   "outputs": [
    {
     "name": "stdout",
     "output_type": "stream",
     "text": [
      "\n",
      "[[1, 3, 5, 7, 9], \n",
      " [2, 4, 6, 8, 10]]\n",
      "\n",
      "[[1, 2], \n",
      " [3, 4], \n",
      " [5, 6], \n",
      " [7, 8], \n",
      " [9, 10]]\n"
     ]
    }
   ],
   "source": [
    "a = horzcat(DM([1,2]),DM([3,4]),DM([5,6]),DM([7,8]),DM([9,10])  )\n",
    "print(a)\n",
    "# a = reshape(a,5,2)\n",
    "print(a.T)\n"
   ]
  },
  {
   "cell_type": "code",
   "execution_count": 3,
   "id": "ac9c6266",
   "metadata": {},
   "outputs": [],
   "source": [
    "\n",
    "model = do_mpc.model.Model('continuous', 'MX')"
   ]
  },
  {
   "cell_type": "code",
   "execution_count": 4,
   "id": "47647bfd",
   "metadata": {},
   "outputs": [],
   "source": [
    "g = 9.80665 # m/s^2, Gravity\n",
    "N = 10"
   ]
  },
  {
   "cell_type": "code",
   "execution_count": 5,
   "id": "df58c10e",
   "metadata": {},
   "outputs": [],
   "source": [
    "# Add the velocity vector to each of the position vectors in the rope\n",
    "test_rope = DM([[2,1],[5,5],[6,6]])\n",
    "test_velocity = DM([8,9])\n",
    "# print(test_rope + repmat(test_velocity.T,N,1))"
   ]
  },
  {
   "cell_type": "code",
   "execution_count": 6,
   "id": "9b9d7fb0",
   "metadata": {},
   "outputs": [],
   "source": [
    "m = MX.sym('m',N,2)\n",
    "y1 = MX.sym('y1',2)\n",
    "y2 = MX.sym('y2',2)\n",
    "\n",
    "# f = Function('f',[m,y1],\\\n",
    "#            [m + repmat(y1.T,N,1)])\n",
    "\n",
    "# f( test_rope  ,  test_velocity  )"
   ]
  },
  {
   "cell_type": "code",
   "execution_count": 7,
   "id": "5347b550",
   "metadata": {},
   "outputs": [
    {
     "name": "stdout",
     "output_type": "stream",
     "text": [
      "5\n",
      "[0.599999, 0.799998]\n"
     ]
    }
   ],
   "source": [
    "\n",
    "# force applied to vec1\n",
    "# ie force that moves vec1 towards vec2\n",
    "\n",
    "# Fs=-k*(mag(L)-L0)*norm(L)\n",
    "\n",
    "vec1 = MX.sym('vec1',2)\n",
    "vec2 = MX.sym('vec2',2)\n",
    "\n",
    "\n",
    "\n",
    "\n",
    "# vector length\n",
    "\n",
    "v_len = Function('f',[vec1],\\\n",
    "           [ sqrt(vec1[0]**2 + vec1[1]**2)  ])\n",
    "\n",
    "# add 0.00001 so you don't divide by 0\n",
    "\n",
    "v_norm = Function('f',[vec1],\\\n",
    "           [ vec1 / (v_len(vec1) + 0.00001)  ])\n",
    "\n",
    "print(v_len(DM([3,4])))\n",
    "print(v_norm(DM([3,4])))\n"
   ]
  },
  {
   "cell_type": "code",
   "execution_count": 8,
   "id": "b077dd9e",
   "metadata": {},
   "outputs": [],
   "source": [
    "# Fs=-k*(mag(L)-L0)*norm(L)\n",
    "k=1\n",
    "l=1\n",
    "F_spring = Function('f',[vec1,vec2],\\\n",
    "           [ -k*( v_len(vec1-vec2)  - l) * v_norm(vec1-vec2) ])\n",
    "\n",
    "\n",
    "\n",
    "\n"
   ]
  },
  {
   "cell_type": "code",
   "execution_count": 9,
   "id": "561ecada",
   "metadata": {},
   "outputs": [
    {
     "name": "stdout",
     "output_type": "stream",
     "text": [
      "['[pos,0]', '[pos,1]', '[pos,2]', '[pos,3]', '[pos,4]', '[pos,5]', '[pos,6]', '[pos,7]', '[pos,8]', '[pos,9]', '[pos,10]', '[pos,11]', '[pos,12]', '[pos,13]', '[pos,14]', '[pos,15]', '[pos,16]', '[pos,17]', '[pos,18]', '[pos,19]', '[dpos,0]', '[dpos,1]', '[dpos,2]', '[dpos,3]', '[dpos,4]', '[dpos,5]', '[dpos,6]', '[dpos,7]', '[dpos,8]', '[dpos,9]', '[dpos,10]', '[dpos,11]', '[dpos,12]', '[dpos,13]', '[dpos,14]', '[dpos,15]', '[dpos,16]', '[dpos,17]', '[dpos,18]', '[dpos,19]']\n"
     ]
    }
   ],
   "source": [
    "\n",
    "\n",
    "\n",
    "pos = model.set_variable('_x',  'pos',shape=(N,2))\n",
    "dpos = model.set_variable('_x',  'dpos',shape=(N,2))\n",
    "\n",
    "print(model.x.labels())\n",
    "u = model.set_variable('_u',  'u',shape=(2))\n",
    "\n",
    "# ddpos = model.set_variable('_z', 'ddpos',shape=(N,2))"
   ]
  },
  {
   "cell_type": "code",
   "execution_count": 10,
   "id": "1232f4e8",
   "metadata": {},
   "outputs": [
    {
     "name": "stdout",
     "output_type": "stream",
     "text": [
      "horzcat((u-pos[0]), (f(pos[1, 1], pos[0, 0]){0}+f(pos[1, 1], pos[2, 2]){0}), (f(pos[2, 2], pos[1, 1]){0}+f(pos[2, 2], pos[3, 3]){0}), (f(pos[3, 3], pos[2, 2]){0}+f(pos[3, 3], pos[4, 4]){0}), (f(pos[4, 4], pos[3, 3]){0}+f(pos[4, 4], pos[5, 5]){0}), (f(pos[5, 5], pos[4, 4]){0}+f(pos[5, 5], pos[6, 6]){0}), (f(pos[6, 6], pos[5, 5]){0}+f(pos[6, 6], pos[7, 7]){0}), (f(pos[7, 7], pos[6, 6]){0}+f(pos[7, 7], pos[8, 8]){0}), (f(pos[8, 8], pos[7, 7]){0}+f(pos[8, 8], pos[9, 9]){0}), ([0, -9.8]+f(pos[9, 9], pos[8, 8]){0}))'\n"
     ]
    }
   ],
   "source": [
    "model.set_rhs('pos', dpos)\n",
    "\n",
    "\n",
    "ddpos = horzcat(\n",
    "    u - pos[0],\n",
    "    F_spring(pos[1],pos[0]) + F_spring(pos[1],pos[2]),\n",
    "    F_spring(pos[2],pos[1]) + F_spring(pos[2],pos[3]),\n",
    "    F_spring(pos[3],pos[2]) + F_spring(pos[3],pos[4]),\n",
    "    F_spring(pos[4],pos[3]) + F_spring(pos[4],pos[5]),\n",
    "    F_spring(pos[5],pos[4]) + F_spring(pos[5],pos[6]),\n",
    "    F_spring(pos[6],pos[5]) + F_spring(pos[6],pos[7]),\n",
    "    F_spring(pos[7],pos[6]) + F_spring(pos[7],pos[8]),\n",
    "    F_spring(pos[8],pos[7]) + F_spring(pos[8],pos[9]),\n",
    "    F_spring(pos[9],pos[8]) + [0,-9.8]\n",
    ").T\n",
    "print(ddpos)\n",
    "\n",
    "model.set_rhs('dpos', ddpos)\n",
    "# model.set_rhs('time', 1)"
   ]
  },
  {
   "cell_type": "code",
   "execution_count": 11,
   "id": "2ad97594",
   "metadata": {},
   "outputs": [],
   "source": [
    "# formulas = vertcat(\n",
    "#         # 1\n",
    "#         u\n",
    "#         - (ddpos),\n",
    "#     )\n",
    "\n",
    "# model.set_alg('formulas', formulas)"
   ]
  },
  {
   "cell_type": "code",
   "execution_count": 12,
   "id": "85849cd5",
   "metadata": {},
   "outputs": [
    {
     "data": {
      "text/plain": [
       "MX(sq(f((100-pos[9])[0, 0]){0}))"
      ]
     },
     "execution_count": 12,
     "metadata": {},
     "output_type": "execute_result"
    }
   ],
   "source": [
    "\n",
    "distance = v_len(100-pos[N-1])**2\n",
    "\n",
    "\n",
    "model.set_expression('distance', distance)"
   ]
  },
  {
   "cell_type": "code",
   "execution_count": null,
   "id": "044a233b",
   "metadata": {},
   "outputs": [],
   "source": []
  },
  {
   "cell_type": "code",
   "execution_count": 13,
   "id": "001694e9",
   "metadata": {},
   "outputs": [],
   "source": [
    "# Build the model\n",
    "model.setup()"
   ]
  },
  {
   "cell_type": "code",
   "execution_count": 14,
   "id": "d77ee6b3",
   "metadata": {},
   "outputs": [],
   "source": [
    "mpc = do_mpc.controller.MPC(model)"
   ]
  },
  {
   "cell_type": "code",
   "execution_count": 15,
   "id": "346e08df",
   "metadata": {},
   "outputs": [],
   "source": [
    "setup_mpc = {\n",
    "    'n_horizon': 100,\n",
    "    'n_robust': 0,\n",
    "    'open_loop': 0,\n",
    "    't_step': 0.04,\n",
    "    'state_discretization': 'collocation',\n",
    "    'collocation_type': 'radau',\n",
    "    'collocation_deg': 3,\n",
    "    'collocation_ni': 1,\n",
    "    'store_full_solution': True,\n",
    "    # Use MA27 linear solver in ipopt for faster calculations:\n",
    "    'nlpsol_opts': {'ipopt.linear_solver': 'mumps'}\n",
    "}\n",
    "mpc.set_param(**setup_mpc)"
   ]
  },
  {
   "cell_type": "code",
   "execution_count": 16,
   "id": "b72a5d04",
   "metadata": {},
   "outputs": [],
   "source": [
    "mterm = model.aux['distance'] # terminal cost\n",
    "lterm = model.aux['distance'] # stage cost\n",
    "\n",
    "mpc.set_objective(mterm=mterm, lterm=lterm)\n",
    "# Input force is implicitly restricted through the objective.\n",
    "mpc.set_rterm(u=0.1)"
   ]
  },
  {
   "cell_type": "code",
   "execution_count": 17,
   "id": "2aa57271",
   "metadata": {},
   "outputs": [],
   "source": [
    "mpc.bounds['lower','_u','u'] = DM([0,0])\n",
    "mpc.bounds['upper','_u','u'] = DM([100,100])"
   ]
  },
  {
   "cell_type": "code",
   "execution_count": 18,
   "id": "318db96f",
   "metadata": {},
   "outputs": [],
   "source": [
    "mpc.setup()"
   ]
  },
  {
   "cell_type": "code",
   "execution_count": 19,
   "id": "eb94c5d9",
   "metadata": {},
   "outputs": [],
   "source": [
    "estimator = do_mpc.estimator.StateFeedback(model)"
   ]
  },
  {
   "cell_type": "code",
   "execution_count": 20,
   "id": "3b030f01",
   "metadata": {},
   "outputs": [],
   "source": [
    "simulator = do_mpc.simulator.Simulator(model)"
   ]
  },
  {
   "cell_type": "code",
   "execution_count": 21,
   "id": "d94a2048",
   "metadata": {},
   "outputs": [],
   "source": [
    "params_simulator = {\n",
    "    # Note: cvode doesn't support DAE systems.\n",
    "    'integration_tool': 'idas',\n",
    "    'abstol': 1e-10,\n",
    "    'reltol': 1e-10,\n",
    "    't_step': 0.04\n",
    "}\n",
    "\n",
    "simulator.set_param(**params_simulator)"
   ]
  },
  {
   "cell_type": "code",
   "execution_count": 22,
   "id": "91269239",
   "metadata": {},
   "outputs": [],
   "source": [
    "simulator.setup()"
   ]
  },
  {
   "cell_type": "code",
   "execution_count": 23,
   "id": "2f86e534",
   "metadata": {},
   "outputs": [],
   "source": [
    "simulator.x0['pos'] = repmat(DM([10,10]).T,N,1)\n",
    "simulator.x0['dpos'] = repmat(DM([0,0]).T,N,1)\n",
    "\n",
    "x0 = simulator.x0.cat.full()\n",
    "\n",
    "mpc.x0 = x0\n",
    "estimator.x0 = x0\n",
    "\n",
    "mpc.set_initial_guess()\n"
   ]
  },
  {
   "cell_type": "code",
   "execution_count": 24,
   "id": "bdefd5c9",
   "metadata": {},
   "outputs": [],
   "source": [
    "import matplotlib.pyplot as plt\n",
    "plt.ion()\n",
    "from matplotlib import rcParams\n",
    "rcParams['text.usetex'] = False\n",
    "rcParams['axes.grid'] = True\n",
    "rcParams['lines.linewidth'] = 2.0\n",
    "rcParams['axes.labelsize'] = 'xx-large'\n",
    "rcParams['xtick.labelsize'] = 'xx-large'\n",
    "rcParams['ytick.labelsize'] = 'xx-large'"
   ]
  },
  {
   "cell_type": "code",
   "execution_count": 25,
   "id": "94aa3e1c",
   "metadata": {},
   "outputs": [],
   "source": [
    "mpc_graphics = do_mpc.graphics.Graphics(mpc.data)"
   ]
  },
  {
   "cell_type": "code",
   "execution_count": 26,
   "id": "d286a1d4",
   "metadata": {},
   "outputs": [],
   "source": [
    "%%capture\n",
    "\n",
    "fig = plt.figure(figsize=(16,9))\n",
    "\n",
    "\n",
    "ax2 = plt.subplot2grid((4, 2), (0, 1))\n",
    "\n",
    "ax4 = plt.subplot2grid((4, 2), (2, 1))\n",
    "ax5 = plt.subplot2grid((4, 2), (3, 1))\n",
    "\n",
    "ax2.set_ylabel('distance')\n",
    "\n",
    "ax4.set_ylabel('Pos ')\n",
    "ax5.set_ylabel('U')\n",
    "\n",
    "# Axis on the right.\n",
    "for ax in [ax2, ax4, ax5]:\n",
    "    ax.yaxis.set_label_position(\"right\")\n",
    "    ax.yaxis.tick_right()\n",
    "    if ax != ax5:\n",
    "        ax.xaxis.set_ticklabels([])\n",
    "\n",
    "ax5.set_xlabel('time [s]')\n",
    "\n",
    "mpc_graphics.add_line(var_type='_aux', var_name='distance', axis=ax2)\n",
    "\n",
    "mpc_graphics.add_line(var_type='_x', var_name='pos', axis=ax4)\n",
    "mpc_graphics.add_line(var_type='_u', var_name='u', axis=ax5)\n",
    "\n",
    "\n",
    "fig.align_ylabels()\n",
    "fig.tight_layout()"
   ]
  },
  {
   "cell_type": "code",
   "execution_count": 27,
   "id": "6499ecdc",
   "metadata": {},
   "outputs": [
    {
     "name": "stdout",
     "output_type": "stream",
     "text": [
      "\n",
      "******************************************************************************\n",
      "This program contains Ipopt, a library for large-scale nonlinear optimization.\n",
      " Ipopt is released as open source code under the Eclipse Public License (EPL).\n",
      "         For more information visit http://projects.coin-or.org/Ipopt\n",
      "******************************************************************************\n",
      "\n",
      "This is Ipopt version 3.12.3, running with linear solver mumps.\n",
      "NOTE: Other linear solvers might be more efficient (see Ipopt documentation).\n",
      "\n",
      "Number of nonzeros in equality constraint Jacobian...:    86840\n",
      "Number of nonzeros in inequality constraint Jacobian.:        0\n",
      "Number of nonzeros in Lagrangian Hessian.............:     6199\n",
      "\n",
      "Error evaluating Jacobian of equality constraints at user provided starting point.\n",
      "  No scaling factors for equality constraints computed!\n",
      "\n",
      "Number of Iterations....: 0\n",
      "\n",
      "Number of objective function evaluations             = 0\n",
      "Number of objective gradient evaluations             = 0\n",
      "Number of equality constraint evaluations            = 0\n",
      "Number of inequality constraint evaluations          = 0\n",
      "Number of equality constraint Jacobian evaluations   = 1\n",
      "Number of inequality constraint Jacobian evaluations = 0\n",
      "Number of Lagrangian Hessian evaluations             = 0\n",
      "Total CPU secs in IPOPT (w/o function evaluations)   =      0.042\n",
      "Total CPU secs in NLP function evaluations           =      0.034\n",
      "\n",
      "EXIT: Invalid number in NLP function or derivative detected.\n",
      "           S  :   t_proc      (avg)   t_wall      (avg)    n_eval\n",
      "    nlp_grad  |  17.00ms ( 17.00ms)  17.00ms ( 17.00ms)         1\n",
      "  nlp_grad_f  |        0 (       0)        0 (       0)         1\n",
      "   nlp_jac_g  |  72.00ms ( 36.00ms)  72.96ms ( 36.48ms)         2\n",
      "       total  |  94.00ms ( 94.00ms)  94.00ms ( 94.00ms)         1\n"
     ]
    },
    {
     "name": "stderr",
     "output_type": "stream",
     "text": [
      "CasADi -  WARNING(\"S:nlp_jac_g failed: NaN detected for output jac_g_x, at nonzero index 85 (row 61, col 181).\") [.../casadi/core/oracle_function.cpp:265]\n",
      "CasADi -  WARNING(\"S:nlp_jac_g failed: NaN detected for output jac_g_x, at nonzero index 85 (row 61, col 181).\") [.../casadi/core/oracle_function.cpp:265]\n"
     ]
    }
   ],
   "source": [
    "u0 = mpc.make_step(x0)"
   ]
  },
  {
   "cell_type": "code",
   "execution_count": 28,
   "id": "955cb4f6",
   "metadata": {},
   "outputs": [
    {
     "data": {
      "image/png": "[encoded data removed]",
      "text/plain": [
       "<Figure size 1152x648 with 3 Axes>"
      ]
     },
     "execution_count": 28,
     "metadata": {},
     "output_type": "execute_result"
    }
   ],
   "source": [
    "\n",
    "\n",
    "mpc_graphics.plot_predictions()\n",
    "mpc_graphics.reset_axes()\n",
    "\n",
    "fig"
   ]
  },
  {
   "cell_type": "code",
   "execution_count": 29,
   "id": "5e5529aa",
   "metadata": {},
   "outputs": [
    {
     "ename": "RuntimeError",
     "evalue": ".../casadi/interfaces/sundials/idas_interface.cpp:591: IDACalcIC returned \"IDA_NO_RECOVERY\". Consult IDAS documentation.",
     "output_type": "error",
     "traceback": [
      "\u001b[1;31m---------------------------------------------------------------------------\u001b[0m",
      "\u001b[1;31mRuntimeError\u001b[0m                              Traceback (most recent call last)",
      "Input \u001b[1;32mIn [29]\u001b[0m, in \u001b[0;36m<cell line: 5>\u001b[1;34m()\u001b[0m\n\u001b[0;32m      5\u001b[0m \u001b[38;5;28;01mfor\u001b[39;00m k \u001b[38;5;129;01min\u001b[39;00m \u001b[38;5;28mrange\u001b[39m(n_steps):\n\u001b[0;32m      6\u001b[0m     u0 \u001b[38;5;241m=\u001b[39m mpc\u001b[38;5;241m.\u001b[39mmake_step(x0)\n\u001b[1;32m----> 7\u001b[0m     y_next \u001b[38;5;241m=\u001b[39m \u001b[43msimulator\u001b[49m\u001b[38;5;241;43m.\u001b[39;49m\u001b[43mmake_step\u001b[49m\u001b[43m(\u001b[49m\u001b[43mu0\u001b[49m\u001b[43m)\u001b[49m\n\u001b[0;32m      8\u001b[0m     x0 \u001b[38;5;241m=\u001b[39m estimator\u001b[38;5;241m.\u001b[39mmake_step(y_next)\n",
      "File \u001b[1;32mJ:\\devtools\\Anaconda\\lib\\site-packages\\do_mpc\\simulator.py:500\u001b[0m, in \u001b[0;36mSimulator.make_step\u001b[1;34m(self, u0, v0, w0)\u001b[0m\n\u001b[0;32m    497\u001b[0m \u001b[38;5;28mself\u001b[39m\u001b[38;5;241m.\u001b[39msim_p_num[\u001b[38;5;124m'\u001b[39m\u001b[38;5;124m_tvp\u001b[39m\u001b[38;5;124m'\u001b[39m] \u001b[38;5;241m=\u001b[39m tvp0\n\u001b[0;32m    498\u001b[0m \u001b[38;5;28mself\u001b[39m\u001b[38;5;241m.\u001b[39msim_p_num[\u001b[38;5;124m'\u001b[39m\u001b[38;5;124m_w\u001b[39m\u001b[38;5;124m'\u001b[39m] \u001b[38;5;241m=\u001b[39m w0\n\u001b[1;32m--> 500\u001b[0m x_next \u001b[38;5;241m=\u001b[39m \u001b[38;5;28;43mself\u001b[39;49m\u001b[38;5;241;43m.\u001b[39;49m\u001b[43msimulate\u001b[49m\u001b[43m(\u001b[49m\u001b[43m)\u001b[49m\n\u001b[0;32m    502\u001b[0m z0 \u001b[38;5;241m=\u001b[39m \u001b[38;5;28mself\u001b[39m\u001b[38;5;241m.\u001b[39msim_z_num[\u001b[38;5;124m'\u001b[39m\u001b[38;5;124m_z\u001b[39m\u001b[38;5;124m'\u001b[39m]\n\u001b[0;32m    503\u001b[0m aux0 \u001b[38;5;241m=\u001b[39m \u001b[38;5;28mself\u001b[39m\u001b[38;5;241m.\u001b[39msim_aux_num\n",
      "File \u001b[1;32mJ:\\devtools\\Anaconda\\lib\\site-packages\\do_mpc\\simulator.py:431\u001b[0m, in \u001b[0;36mSimulator.simulate\u001b[1;34m(self)\u001b[0m\n\u001b[0;32m    429\u001b[0m     x_new \u001b[38;5;241m=\u001b[39m \u001b[38;5;28mself\u001b[39m\u001b[38;5;241m.\u001b[39msimulator(sim_x_num, sim_z_num, sim_p_num)\n\u001b[0;32m    430\u001b[0m \u001b[38;5;28;01melif\u001b[39;00m \u001b[38;5;28mself\u001b[39m\u001b[38;5;241m.\u001b[39mmodel\u001b[38;5;241m.\u001b[39mmodel_type \u001b[38;5;241m==\u001b[39m \u001b[38;5;124m'\u001b[39m\u001b[38;5;124mcontinuous\u001b[39m\u001b[38;5;124m'\u001b[39m:\n\u001b[1;32m--> 431\u001b[0m     r \u001b[38;5;241m=\u001b[39m \u001b[38;5;28;43mself\u001b[39;49m\u001b[38;5;241;43m.\u001b[39;49m\u001b[43msimulator\u001b[49m\u001b[43m(\u001b[49m\u001b[43mx0\u001b[49m\u001b[43m \u001b[49m\u001b[38;5;241;43m=\u001b[39;49m\u001b[43m \u001b[49m\u001b[43msim_x_num\u001b[49m\u001b[43m,\u001b[49m\u001b[43m \u001b[49m\u001b[43mz0\u001b[49m\u001b[43m \u001b[49m\u001b[38;5;241;43m=\u001b[39;49m\u001b[43m \u001b[49m\u001b[43msim_z_num\u001b[49m\u001b[43m,\u001b[49m\u001b[43m \u001b[49m\u001b[43mp\u001b[49m\u001b[43m \u001b[49m\u001b[38;5;241;43m=\u001b[39;49m\u001b[43m \u001b[49m\u001b[43msim_p_num\u001b[49m\u001b[43m)\u001b[49m\n\u001b[0;32m    432\u001b[0m     x_new \u001b[38;5;241m=\u001b[39m r[\u001b[38;5;124m'\u001b[39m\u001b[38;5;124mxf\u001b[39m\u001b[38;5;124m'\u001b[39m]\n\u001b[0;32m    433\u001b[0m     z_now \u001b[38;5;241m=\u001b[39m r[\u001b[38;5;124m'\u001b[39m\u001b[38;5;124mzf\u001b[39m\u001b[38;5;124m'\u001b[39m]\n",
      "File \u001b[1;32mJ:\\devtools\\Anaconda\\lib\\site-packages\\casadi\\casadi.py:13453\u001b[0m, in \u001b[0;36mFunction.__call__\u001b[1;34m(self, *args, **kwargs)\u001b[0m\n\u001b[0;32m  13450\u001b[0m       \u001b[38;5;28;01mreturn\u001b[39;00m \u001b[38;5;28mtuple\u001b[39m(ret)\n\u001b[0;32m  13451\u001b[0m   \u001b[38;5;28;01melse\u001b[39;00m:\n\u001b[0;32m  13452\u001b[0m \u001b[38;5;66;03m# Named inputs -> return dictionary\u001b[39;00m\n\u001b[1;32m> 13453\u001b[0m     \u001b[38;5;28;01mreturn\u001b[39;00m \u001b[38;5;28;43mself\u001b[39;49m\u001b[38;5;241;43m.\u001b[39;49m\u001b[43mcall\u001b[49m\u001b[43m(\u001b[49m\u001b[43mkwargs\u001b[49m\u001b[43m)\u001b[49m\n",
      "File \u001b[1;32mJ:\\devtools\\Anaconda\\lib\\site-packages\\casadi\\casadi.py:12324\u001b[0m, in \u001b[0;36mFunction.call\u001b[1;34m(self, *args)\u001b[0m\n\u001b[0;32m  12256\u001b[0m \u001b[38;5;28;01mdef\u001b[39;00m \u001b[38;5;21mcall\u001b[39m(\u001b[38;5;28mself\u001b[39m, \u001b[38;5;241m*\u001b[39margs):\n\u001b[0;32m  12257\u001b[0m     \u001b[38;5;124;03m\"\"\"\u001b[39;00m\n\u001b[0;32m  12258\u001b[0m \u001b[38;5;124;03m      Generate a Jacobian function of output oind with respect to input iind.\u001b[39;00m\n\u001b[0;32m  12259\u001b[0m \n\u001b[1;32m   (...)\u001b[0m\n\u001b[0;32m  12322\u001b[0m \n\u001b[0;32m  12323\u001b[0m \u001b[38;5;124;03m    \"\"\"\u001b[39;00m\n\u001b[1;32m> 12324\u001b[0m     \u001b[38;5;28;01mreturn\u001b[39;00m \u001b[43m_casadi\u001b[49m\u001b[38;5;241;43m.\u001b[39;49m\u001b[43mFunction_call\u001b[49m\u001b[43m(\u001b[49m\u001b[38;5;28;43mself\u001b[39;49m\u001b[43m,\u001b[49m\u001b[43m \u001b[49m\u001b[38;5;241;43m*\u001b[39;49m\u001b[43margs\u001b[49m\u001b[43m)\u001b[49m\n",
      "\u001b[1;31mRuntimeError\u001b[0m: .../casadi/interfaces/sundials/idas_interface.cpp:591: IDACalcIC returned \"IDA_NO_RECOVERY\". Consult IDAS documentation."
     ]
    }
   ],
   "source": [
    "%%capture\n",
    "# Quickly reset the history of the MPC data object.\n",
    "mpc.reset_history()\n",
    "\n",
    "n_steps = 100\n",
    "for k in range(n_steps):\n",
    "    u0 = mpc.make_step(x0)\n",
    "    y_next = simulator.make_step(u0)\n",
    "    x0 = estimator.make_step(y_next)"
   ]
  },
  {
   "cell_type": "code",
   "execution_count": 30,
   "id": "a017bb46",
   "metadata": {},
   "outputs": [
    {
     "ename": "IndexError",
     "evalue": "index 1 is out of bounds for axis 0 with size 1",
     "output_type": "error",
     "traceback": [
      "\u001b[1;31m---------------------------------------------------------------------------\u001b[0m",
      "\u001b[1;31mIndexError\u001b[0m                                Traceback (most recent call last)",
      "Input \u001b[1;32mIn [30]\u001b[0m, in \u001b[0;36m<cell line: 16>\u001b[1;34m()\u001b[0m\n\u001b[0;32m     14\u001b[0m anim \u001b[38;5;241m=\u001b[39m FuncAnimation(fig, update, frames\u001b[38;5;241m=\u001b[39mn_steps, repeat\u001b[38;5;241m=\u001b[39m\u001b[38;5;28;01mFalse\u001b[39;00m)\n\u001b[0;32m     15\u001b[0m gif_writer \u001b[38;5;241m=\u001b[39m ImageMagickWriter(fps\u001b[38;5;241m=\u001b[39m\u001b[38;5;241m20\u001b[39m)\n\u001b[1;32m---> 16\u001b[0m \u001b[43manim\u001b[49m\u001b[38;5;241;43m.\u001b[39;49m\u001b[43msave\u001b[49m\u001b[43m(\u001b[49m\u001b[38;5;124;43m'\u001b[39;49m\u001b[38;5;124;43manim.gif\u001b[39;49m\u001b[38;5;124;43m'\u001b[39;49m\u001b[43m,\u001b[49m\u001b[43m \u001b[49m\u001b[43mwriter\u001b[49m\u001b[38;5;241;43m=\u001b[39;49m\u001b[43mgif_writer\u001b[49m\u001b[43m)\u001b[49m\n",
      "File \u001b[1;32m~\\AppData\\Roaming\\Python\\Python39\\site-packages\\matplotlib\\animation.py:1089\u001b[0m, in \u001b[0;36mAnimation.save\u001b[1;34m(self, filename, writer, fps, dpi, codec, bitrate, extra_args, metadata, extra_anim, savefig_kwargs, progress_callback)\u001b[0m\n\u001b[0;32m   1086\u001b[0m \u001b[38;5;28;01mfor\u001b[39;00m data \u001b[38;5;129;01min\u001b[39;00m \u001b[38;5;28mzip\u001b[39m(\u001b[38;5;241m*\u001b[39m[a\u001b[38;5;241m.\u001b[39mnew_saved_frame_seq() \u001b[38;5;28;01mfor\u001b[39;00m a \u001b[38;5;129;01min\u001b[39;00m all_anim]):\n\u001b[0;32m   1087\u001b[0m     \u001b[38;5;28;01mfor\u001b[39;00m anim, d \u001b[38;5;129;01min\u001b[39;00m \u001b[38;5;28mzip\u001b[39m(all_anim, data):\n\u001b[0;32m   1088\u001b[0m         \u001b[38;5;66;03m# TODO: See if turning off blit is really necessary\u001b[39;00m\n\u001b[1;32m-> 1089\u001b[0m         \u001b[43manim\u001b[49m\u001b[38;5;241;43m.\u001b[39;49m\u001b[43m_draw_next_frame\u001b[49m\u001b[43m(\u001b[49m\u001b[43md\u001b[49m\u001b[43m,\u001b[49m\u001b[43m \u001b[49m\u001b[43mblit\u001b[49m\u001b[38;5;241;43m=\u001b[39;49m\u001b[38;5;28;43;01mFalse\u001b[39;49;00m\u001b[43m)\u001b[49m\n\u001b[0;32m   1090\u001b[0m         \u001b[38;5;28;01mif\u001b[39;00m progress_callback \u001b[38;5;129;01mis\u001b[39;00m \u001b[38;5;129;01mnot\u001b[39;00m \u001b[38;5;28;01mNone\u001b[39;00m:\n\u001b[0;32m   1091\u001b[0m             progress_callback(frame_number, total_frames)\n",
      "File \u001b[1;32m~\\AppData\\Roaming\\Python\\Python39\\site-packages\\matplotlib\\animation.py:1124\u001b[0m, in \u001b[0;36mAnimation._draw_next_frame\u001b[1;34m(self, framedata, blit)\u001b[0m\n\u001b[0;32m   1120\u001b[0m \u001b[38;5;28;01mdef\u001b[39;00m \u001b[38;5;21m_draw_next_frame\u001b[39m(\u001b[38;5;28mself\u001b[39m, framedata, blit):\n\u001b[0;32m   1121\u001b[0m     \u001b[38;5;66;03m# Breaks down the drawing of the next frame into steps of pre- and\u001b[39;00m\n\u001b[0;32m   1122\u001b[0m     \u001b[38;5;66;03m# post- draw, as well as the drawing of the frame itself.\u001b[39;00m\n\u001b[0;32m   1123\u001b[0m     \u001b[38;5;28mself\u001b[39m\u001b[38;5;241m.\u001b[39m_pre_draw(framedata, blit)\n\u001b[1;32m-> 1124\u001b[0m     \u001b[38;5;28;43mself\u001b[39;49m\u001b[38;5;241;43m.\u001b[39;49m\u001b[43m_draw_frame\u001b[49m\u001b[43m(\u001b[49m\u001b[43mframedata\u001b[49m\u001b[43m)\u001b[49m\n\u001b[0;32m   1125\u001b[0m     \u001b[38;5;28mself\u001b[39m\u001b[38;5;241m.\u001b[39m_post_draw(framedata, blit)\n",
      "File \u001b[1;32m~\\AppData\\Roaming\\Python\\Python39\\site-packages\\matplotlib\\animation.py:1718\u001b[0m, in \u001b[0;36mFuncAnimation._draw_frame\u001b[1;34m(self, framedata)\u001b[0m\n\u001b[0;32m   1714\u001b[0m \u001b[38;5;28mself\u001b[39m\u001b[38;5;241m.\u001b[39m_save_seq \u001b[38;5;241m=\u001b[39m \u001b[38;5;28mself\u001b[39m\u001b[38;5;241m.\u001b[39m_save_seq[\u001b[38;5;241m-\u001b[39m\u001b[38;5;28mself\u001b[39m\u001b[38;5;241m.\u001b[39msave_count:]\n\u001b[0;32m   1716\u001b[0m \u001b[38;5;66;03m# Call the func with framedata and args. If blitting is desired,\u001b[39;00m\n\u001b[0;32m   1717\u001b[0m \u001b[38;5;66;03m# func needs to return a sequence of any artists that were modified.\u001b[39;00m\n\u001b[1;32m-> 1718\u001b[0m \u001b[38;5;28mself\u001b[39m\u001b[38;5;241m.\u001b[39m_drawn_artists \u001b[38;5;241m=\u001b[39m \u001b[38;5;28;43mself\u001b[39;49m\u001b[38;5;241;43m.\u001b[39;49m\u001b[43m_func\u001b[49m\u001b[43m(\u001b[49m\u001b[43mframedata\u001b[49m\u001b[43m,\u001b[49m\u001b[43m \u001b[49m\u001b[38;5;241;43m*\u001b[39;49m\u001b[38;5;28;43mself\u001b[39;49m\u001b[38;5;241;43m.\u001b[39;49m\u001b[43m_args\u001b[49m\u001b[43m)\u001b[49m\n\u001b[0;32m   1720\u001b[0m \u001b[38;5;28;01mif\u001b[39;00m \u001b[38;5;28mself\u001b[39m\u001b[38;5;241m.\u001b[39m_blit:\n\u001b[0;32m   1722\u001b[0m     err \u001b[38;5;241m=\u001b[39m \u001b[38;5;167;01mRuntimeError\u001b[39;00m(\u001b[38;5;124m'\u001b[39m\u001b[38;5;124mThe animation function must return a sequence \u001b[39m\u001b[38;5;124m'\u001b[39m\n\u001b[0;32m   1723\u001b[0m                        \u001b[38;5;124m'\u001b[39m\u001b[38;5;124mof Artist objects.\u001b[39m\u001b[38;5;124m'\u001b[39m)\n",
      "Input \u001b[1;32mIn [30]\u001b[0m, in \u001b[0;36mupdate\u001b[1;34m(t_ind)\u001b[0m\n\u001b[0;32m      5\u001b[0m \u001b[38;5;28;01mdef\u001b[39;00m \u001b[38;5;21mupdate\u001b[39m(t_ind):\n\u001b[0;32m      6\u001b[0m \u001b[38;5;66;03m#     line1, line2 = pendulum_bars(x_arr[t_ind])\u001b[39;00m\n\u001b[0;32m      7\u001b[0m \u001b[38;5;66;03m#     bar1[0].set_data(line1[0],line1[1])\u001b[39;00m\n\u001b[0;32m      8\u001b[0m \u001b[38;5;66;03m#     bar2[0].set_data(line2[0],line2[1])\u001b[39;00m\n\u001b[0;32m      9\u001b[0m     mpc_graphics\u001b[38;5;241m.\u001b[39mplot_results(t_ind)\n\u001b[1;32m---> 10\u001b[0m     \u001b[43mmpc_graphics\u001b[49m\u001b[38;5;241;43m.\u001b[39;49m\u001b[43mplot_predictions\u001b[49m\u001b[43m(\u001b[49m\u001b[43mt_ind\u001b[49m\u001b[43m)\u001b[49m\n\u001b[0;32m     11\u001b[0m     mpc_graphics\u001b[38;5;241m.\u001b[39mreset_axes()\n",
      "File \u001b[1;32mJ:\\devtools\\Anaconda\\lib\\site-packages\\do_mpc\\graphics.py:349\u001b[0m, in \u001b[0;36mGraphics.plot_predictions\u001b[1;34m(self, t_ind)\u001b[0m\n\u001b[0;32m    346\u001b[0m n_elem \u001b[38;5;241m=\u001b[39m \u001b[38;5;28mself\u001b[39m\u001b[38;5;241m.\u001b[39mdata[\u001b[38;5;124m'\u001b[39m\u001b[38;5;124m_time\u001b[39m\u001b[38;5;124m'\u001b[39m]\u001b[38;5;241m.\u001b[39mshape[\u001b[38;5;241m0\u001b[39m]\n\u001b[0;32m    347\u001b[0m \u001b[38;5;28;01massert\u001b[39;00m \u001b[38;5;28mabs\u001b[39m(t_ind) \u001b[38;5;241m<\u001b[39m\u001b[38;5;241m=\u001b[39m n_elem, \u001b[38;5;124m'\u001b[39m\u001b[38;5;124mt_ind=\u001b[39m\u001b[38;5;132;01m{}\u001b[39;00m\u001b[38;5;124m argument is out of range for recorded data with \u001b[39m\u001b[38;5;132;01m{}\u001b[39;00m\u001b[38;5;124m elements.\u001b[39m\u001b[38;5;124m'\u001b[39m\u001b[38;5;241m.\u001b[39mformat(t_ind, n_elem)\n\u001b[1;32m--> 349\u001b[0m t_now \u001b[38;5;241m=\u001b[39m \u001b[38;5;28;43mself\u001b[39;49m\u001b[38;5;241;43m.\u001b[39;49m\u001b[43mdata\u001b[49m\u001b[38;5;241;43m.\u001b[39;49m\u001b[43m_time\u001b[49m\u001b[43m[\u001b[49m\u001b[43mt_ind\u001b[49m\u001b[43m]\u001b[49m\n\u001b[0;32m    350\u001b[0m t_step \u001b[38;5;241m=\u001b[39m \u001b[38;5;28mself\u001b[39m\u001b[38;5;241m.\u001b[39mdata\u001b[38;5;241m.\u001b[39mmeta_data[\u001b[38;5;124m'\u001b[39m\u001b[38;5;124mt_step\u001b[39m\u001b[38;5;124m'\u001b[39m]\n\u001b[0;32m    352\u001b[0m \u001b[38;5;28;01mfor\u001b[39;00m line_i, ind_i \u001b[38;5;129;01min\u001b[39;00m \u001b[38;5;28mzip\u001b[39m(\u001b[38;5;28mself\u001b[39m\u001b[38;5;241m.\u001b[39mpred_lines\u001b[38;5;241m.\u001b[39mmaster, \u001b[38;5;28mself\u001b[39m\u001b[38;5;241m.\u001b[39mpred_lines\u001b[38;5;241m.\u001b[39mpowerindex):\n",
      "\u001b[1;31mIndexError\u001b[0m: index 1 is out of bounds for axis 0 with size 1"
     ]
    }
   ],
   "source": [
    "from matplotlib.animation import FuncAnimation, FFMpegWriter, ImageMagickWriter\n",
    "\n",
    "# The function describing the gif:\n",
    "x_arr = mpc.data['_x']\n",
    "def update(t_ind):\n",
    "#     line1, line2 = pendulum_bars(x_arr[t_ind])\n",
    "#     bar1[0].set_data(line1[0],line1[1])\n",
    "#     bar2[0].set_data(line2[0],line2[1])\n",
    "    mpc_graphics.plot_results(t_ind)\n",
    "    mpc_graphics.plot_predictions(t_ind)\n",
    "    mpc_graphics.reset_axes()\n",
    "\n",
    "\n",
    "anim = FuncAnimation(fig, update, frames=n_steps, repeat=False)\n",
    "gif_writer = ImageMagickWriter(fps=20)\n",
    "anim.save('anim.gif', writer=gif_writer)"
   ]
  },
  {
   "cell_type": "code",
   "execution_count": null,
   "id": "cd3e9ba0",
   "metadata": {},
   "outputs": [],
   "source": [
    "from IPython.display import HTML, Image\n",
    "display(Image(data=open(\"anim.gif\",'rb').read(), format='png'))"
   ]
  },
  {
   "cell_type": "code",
   "execution_count": null,
   "id": "0a0a091c",
   "metadata": {},
   "outputs": [],
   "source": []
  }
 ],
 "metadata": {
  "kernelspec": {
   "display_name": "Python 3 (ipykernel)",
   "language": "python",
   "name": "python3"
  },
  "language_info": {
   "codemirror_mode": {
    "name": "ipython",
    "version": 3
   },
   "file_extension": ".py",
   "mimetype": "text/x-python",
   "name": "python",
   "nbconvert_exporter": "python",
   "pygments_lexer": "ipython3",
   "version": "3.9.12"
  }
 },
 "nbformat": 4,
 "nbformat_minor": 5
}
