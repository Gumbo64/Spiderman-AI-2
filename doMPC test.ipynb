{
 "cells": [
  {
   "cell_type": "code",
   "execution_count": 1,
   "id": "dd0a6293",
   "metadata": {},
   "outputs": [],
   "source": [
    "import numpy as np\n",
    "\n",
    "\n",
    "\n",
    "# Import do_mpc package:\n",
    "import do_mpc"
   ]
  },
  {
   "cell_type": "code",
   "execution_count": 2,
   "id": "919f4d63",
   "metadata": {},
   "outputs": [],
   "source": [
    "# model = do_mpc.model.Model('continuous','MX')\n",
    "model = do_mpc.model.Model('continuous','SX')"
   ]
  },
  {
   "cell_type": "code",
   "execution_count": 3,
   "id": "1611506e",
   "metadata": {},
   "outputs": [],
   "source": [
    "cod = model.set_variable(var_type='_x', var_name='cod', shape=(1,1))\n",
    "move =  model.set_variable(var_type='_u', var_name='move', shape=(1,1))"
   ]
  },
  {
   "cell_type": "code",
   "execution_count": 4,
   "id": "52978edf",
   "metadata": {},
   "outputs": [],
   "source": [
    "model.set_rhs('cod' , move)"
   ]
  },
  {
   "cell_type": "code",
   "execution_count": 5,
   "id": "e4b51b84",
   "metadata": {},
   "outputs": [],
   "source": [
    "model.setup()\n"
   ]
  },
  {
   "cell_type": "code",
   "execution_count": 6,
   "id": "0c30fd05",
   "metadata": {},
   "outputs": [],
   "source": [
    "mpc = do_mpc.controller.MPC(model)\n",
    "setup_mpc = {\n",
    "    'n_horizon': 20,\n",
    "    't_step': 0.1,\n",
    "    'n_robust': 1,\n",
    "    'store_full_solution': True,\n",
    "}\n",
    "mpc.set_param(**setup_mpc)\n",
    "\n",
    "mterm = cod - cod\n",
    "lterm = (100 - cod)**2\n",
    "\n",
    "mpc.set_objective(mterm=mterm, lterm=lterm)\n",
    "\n",
    "mpc.bounds['lower','_u', 'move'] = -1\n",
    "mpc.bounds['upper','_u', 'move'] = 1"
   ]
  },
  {
   "cell_type": "code",
   "execution_count": 7,
   "id": "95af5d90",
   "metadata": {},
   "outputs": [
    {
     "name": "stderr",
     "output_type": "stream",
     "text": [
      "J:\\devtools\\Anaconda\\lib\\site-packages\\do_mpc\\controller.py:904: UserWarning: rterm was not set and defaults to zero. Changes in the control inputs are not penalized. Can lead to oscillatory behavior.\n",
      "  warnings.warn('rterm was not set and defaults to zero. Changes in the control inputs are not penalized. Can lead to oscillatory behavior.')\n"
     ]
    }
   ],
   "source": [
    "mpc.setup()"
   ]
  },
  {
   "cell_type": "code",
   "execution_count": 8,
   "id": "396f6406",
   "metadata": {},
   "outputs": [
    {
     "data": {
      "text/plain": [
       "['default']"
      ]
     },
     "execution_count": 8,
     "metadata": {},
     "output_type": "execute_result"
    }
   ],
   "source": [
    "\n",
    "simulator = do_mpc.simulator.Simulator(model)\n",
    "simulator.set_param(t_step = 0.1)\n",
    "\n",
    "p_template = simulator.get_p_template()\n",
    "p_template.keys()\n"
   ]
  },
  {
   "cell_type": "code",
   "execution_count": 10,
   "id": "44a6e4ed",
   "metadata": {},
   "outputs": [
    {
     "ename": "Exception",
     "evalue": "Error occured in struct context with powerIndex ('cod_0',), at canonicalIndex ()",
     "output_type": "error",
     "traceback": [
      "\u001b[1;31m---------------------------------------------------------------------------\u001b[0m",
      "\u001b[1;31mException\u001b[0m                                 Traceback (most recent call last)",
      "File \u001b[1;32mJ:\\devtools\\Anaconda\\lib\\site-packages\\casadi\\tools\\structure3.py:344\u001b[0m, in \u001b[0;36mStructure.traverseByPowerIndex\u001b[1;34m(self, powerIndex, canonicalIndex, dispatcher, payload)\u001b[0m\n\u001b[0;32m    343\u001b[0m \u001b[38;5;28;01mif\u001b[39;00m is_string(p):\n\u001b[1;32m--> 344\u001b[0m   \u001b[38;5;28;01mreturn\u001b[39;00m \u001b[38;5;28;43mself\u001b[39;49m\u001b[38;5;241;43m.\u001b[39;49m\u001b[43mdict\u001b[49m\u001b[43m[\u001b[49m\u001b[43mp\u001b[49m\u001b[43m]\u001b[49m\u001b[38;5;241m.\u001b[39mtraverseByPowerIndex(\n\u001b[0;32m    345\u001b[0m     powerIndex[\u001b[38;5;241m1\u001b[39m:],\n\u001b[0;32m    346\u001b[0m     canonicalIndex\u001b[38;5;241m=\u001b[39mcanonicalIndex\u001b[38;5;241m+\u001b[39m(p,),\n\u001b[0;32m    347\u001b[0m     dispatcher\u001b[38;5;241m=\u001b[39mdispatcher,\n\u001b[0;32m    348\u001b[0m     payload\u001b[38;5;241m=\u001b[39mpayload\n\u001b[0;32m    349\u001b[0m   )\n\u001b[0;32m    350\u001b[0m \u001b[38;5;28;01melif\u001b[39;00m \u001b[38;5;28misinstance\u001b[39m(p,\u001b[38;5;28mslice\u001b[39m):\n",
      "File \u001b[1;32mJ:\\devtools\\Anaconda\\lib\\site-packages\\casadi\\tools\\structure3.py:125\u001b[0m, in \u001b[0;36mSafeDict.__getitem__\u001b[1;34m(self, k)\u001b[0m\n\u001b[0;32m    124\u001b[0m \u001b[38;5;28;01mif\u001b[39;00m k \u001b[38;5;129;01mnot\u001b[39;00m \u001b[38;5;129;01min\u001b[39;00m \u001b[38;5;28mself\u001b[39m:\n\u001b[1;32m--> 125\u001b[0m   \u001b[38;5;28;01mraise\u001b[39;00m \u001b[38;5;167;01mException\u001b[39;00m(\u001b[38;5;124m\"\u001b[39m\u001b[38;5;124mUnknown keyword \u001b[39m\u001b[38;5;124m'\u001b[39m\u001b[38;5;132;01m%s\u001b[39;00m\u001b[38;5;124m'\u001b[39m\u001b[38;5;124m. Available entries: \u001b[39m\u001b[38;5;132;01m%s\u001b[39;00m\u001b[38;5;124m\"\u001b[39m \u001b[38;5;241m%\u001b[39m (k,\u001b[38;5;28mstr\u001b[39m(\u001b[38;5;28mlist\u001b[39m(\u001b[38;5;28mself\u001b[39m\u001b[38;5;241m.\u001b[39mkeys()))))\n\u001b[0;32m    126\u001b[0m \u001b[38;5;28;01mreturn\u001b[39;00m \u001b[38;5;28mdict\u001b[39m\u001b[38;5;241m.\u001b[39m\u001b[38;5;21m__getitem__\u001b[39m(\u001b[38;5;28mself\u001b[39m,k)\n",
      "\u001b[1;31mException\u001b[0m: Unknown keyword 'cod_0'. Available entries: ['default']",
      "\nThe above exception was the direct cause of the following exception:\n",
      "\u001b[1;31mException\u001b[0m                                 Traceback (most recent call last)",
      "Input \u001b[1;32mIn [10]\u001b[0m, in \u001b[0;36m<cell line: 4>\u001b[1;34m()\u001b[0m\n\u001b[0;32m      2\u001b[0m     p_template[\u001b[38;5;124m'\u001b[39m\u001b[38;5;124mcod_0\u001b[39m\u001b[38;5;124m'\u001b[39m] \u001b[38;5;241m=\u001b[39m \u001b[38;5;241m2.25e-4\u001b[39m\n\u001b[0;32m      3\u001b[0m     \u001b[38;5;28;01mreturn\u001b[39;00m p_template\n\u001b[1;32m----> 4\u001b[0m \u001b[43msimulator\u001b[49m\u001b[38;5;241;43m.\u001b[39;49m\u001b[43mset_p_fun\u001b[49m\u001b[43m(\u001b[49m\u001b[43mp_fun\u001b[49m\u001b[43m)\u001b[49m\n",
      "File \u001b[1;32mJ:\\devtools\\Anaconda\\lib\\site-packages\\do_mpc\\simulator.py:370\u001b[0m, in \u001b[0;36mSimulator.set_p_fun\u001b[1;34m(self, p_fun)\u001b[0m\n\u001b[0;32m    306\u001b[0m \u001b[38;5;28;01mdef\u001b[39;00m \u001b[38;5;21mset_p_fun\u001b[39m(\u001b[38;5;28mself\u001b[39m,p_fun):\n\u001b[0;32m    307\u001b[0m     \u001b[38;5;124;03m\"\"\"Method to set the function which gives the values of the parameters.\u001b[39;00m\n\u001b[0;32m    308\u001b[0m \u001b[38;5;124;03m    This function must return a CasADi structure which can be obtained with :py:func:`get_p_template`.\u001b[39;00m\n\u001b[0;32m    309\u001b[0m \n\u001b[1;32m   (...)\u001b[0m\n\u001b[0;32m    368\u001b[0m \u001b[38;5;124;03m    :rtype: None\u001b[39;00m\n\u001b[0;32m    369\u001b[0m \u001b[38;5;124;03m    \"\"\"\u001b[39;00m\n\u001b[1;32m--> 370\u001b[0m     \u001b[38;5;28;01massert\u001b[39;00m \u001b[38;5;28misinstance\u001b[39m(\u001b[43mp_fun\u001b[49m\u001b[43m(\u001b[49m\u001b[38;5;241;43m0\u001b[39;49m\u001b[43m)\u001b[49m, structure3\u001b[38;5;241m.\u001b[39mDMStruct), \u001b[38;5;124m'\u001b[39m\u001b[38;5;124mp_fun has incorrect return type.\u001b[39m\u001b[38;5;124m'\u001b[39m\n\u001b[0;32m    371\u001b[0m     \u001b[38;5;28;01massert\u001b[39;00m \u001b[38;5;28mself\u001b[39m\u001b[38;5;241m.\u001b[39mget_p_template()\u001b[38;5;241m.\u001b[39mlabels() \u001b[38;5;241m==\u001b[39m p_fun(\u001b[38;5;241m0\u001b[39m)\u001b[38;5;241m.\u001b[39mlabels(), \u001b[38;5;124m'\u001b[39m\u001b[38;5;124mIncorrect output of p_fun. Use get_p_template to obtain the required structure.\u001b[39m\u001b[38;5;124m'\u001b[39m\n\u001b[0;32m    372\u001b[0m     \u001b[38;5;28mself\u001b[39m\u001b[38;5;241m.\u001b[39mp_fun \u001b[38;5;241m=\u001b[39m p_fun\n",
      "Input \u001b[1;32mIn [10]\u001b[0m, in \u001b[0;36mp_fun\u001b[1;34m(t_now)\u001b[0m\n\u001b[0;32m      1\u001b[0m \u001b[38;5;28;01mdef\u001b[39;00m \u001b[38;5;21mp_fun\u001b[39m(t_now):\n\u001b[1;32m----> 2\u001b[0m     p_template[\u001b[38;5;124m'\u001b[39m\u001b[38;5;124mcod_0\u001b[39m\u001b[38;5;124m'\u001b[39m] \u001b[38;5;241m=\u001b[39m \u001b[38;5;241m2.25e-4\u001b[39m\n\u001b[0;32m      3\u001b[0m     \u001b[38;5;28;01mreturn\u001b[39;00m p_template\n",
      "File \u001b[1;32mJ:\\devtools\\Anaconda\\lib\\site-packages\\casadi\\tools\\structure3.py:118\u001b[0m, in \u001b[0;36mproperGetitem.<locals>.proper\u001b[1;34m(self, mbt, *args)\u001b[0m\n\u001b[0;32m    116\u001b[0m \u001b[38;5;28;01mif\u001b[39;00m \u001b[38;5;129;01mnot\u001b[39;00m \u001b[38;5;28misinstance\u001b[39m(mbt,\u001b[38;5;28mtuple\u001b[39m):\n\u001b[0;32m    117\u001b[0m   mbt \u001b[38;5;241m=\u001b[39m (mbt,)\n\u001b[1;32m--> 118\u001b[0m \u001b[38;5;28;01mreturn\u001b[39;00m \u001b[43mf\u001b[49m\u001b[43m(\u001b[49m\u001b[38;5;28;43mself\u001b[39;49m\u001b[43m,\u001b[49m\u001b[43mmbt\u001b[49m\u001b[43m,\u001b[49m\u001b[38;5;241;43m*\u001b[39;49m\u001b[43margs\u001b[49m\u001b[43m)\u001b[49m\n",
      "File \u001b[1;32mJ:\\devtools\\Anaconda\\lib\\site-packages\\casadi\\tools\\structure3.py:634\u001b[0m, in \u001b[0;36mMasterSettable.__setitem__\u001b[1;34m(self, powerIndex, value)\u001b[0m\n\u001b[0;32m    632\u001b[0m \u001b[38;5;129m@properGetitem\u001b[39m\n\u001b[0;32m    633\u001b[0m \u001b[38;5;28;01mdef\u001b[39;00m \u001b[38;5;21m__setitem__\u001b[39m(\u001b[38;5;28mself\u001b[39m,powerIndex,value):\n\u001b[1;32m--> 634\u001b[0m   \u001b[38;5;28;01mreturn\u001b[39;00m \u001b[38;5;28;43mself\u001b[39;49m\u001b[38;5;241;43m.\u001b[39;49m\u001b[43mstruct\u001b[49m\u001b[38;5;241;43m.\u001b[39;49m\u001b[43mtraverseByPowerIndex\u001b[49m\u001b[43m(\u001b[49m\u001b[43mpowerIndex\u001b[49m\u001b[43m,\u001b[49m\u001b[43mdispatcher\u001b[49m\u001b[38;5;241;43m=\u001b[39;49m\n\u001b[0;32m    635\u001b[0m \u001b[43m  \u001b[49m\u001b[43mSetterDispatcher\u001b[49m\u001b[43m(\u001b[49m\u001b[43mstruct\u001b[49m\u001b[38;5;241;43m=\u001b[39;49m\u001b[38;5;28;43mself\u001b[39;49m\u001b[38;5;241;43m.\u001b[39;49m\u001b[43mstruct\u001b[49m\u001b[43m,\u001b[49m\u001b[43mmaster\u001b[49m\u001b[38;5;241;43m=\u001b[39;49m\u001b[38;5;28;43mself\u001b[39;49m\u001b[38;5;241;43m.\u001b[39;49m\u001b[43mmaster\u001b[49m\u001b[43m,\u001b[49m\u001b[43mmtype\u001b[49m\u001b[38;5;241;43m=\u001b[39;49m\u001b[38;5;28;43mself\u001b[39;49m\u001b[38;5;241;43m.\u001b[39;49m\u001b[43mmtype\u001b[49m\u001b[43m)\u001b[49m\u001b[43m,\u001b[49m\u001b[43mpayload\u001b[49m\u001b[38;5;241;43m=\u001b[39;49m\u001b[43mvalue\u001b[49m\u001b[43m)\u001b[49m\n",
      "File \u001b[1;32mJ:\\devtools\\Anaconda\\lib\\site-packages\\casadi\\tools\\structure3.py:430\u001b[0m, in \u001b[0;36mStructure.traverseByPowerIndex\u001b[1;34m(self, powerIndex, canonicalIndex, dispatcher, payload)\u001b[0m\n\u001b[0;32m    428\u001b[0m     \u001b[38;5;28;01mraise\u001b[39;00m \u001b[38;5;167;01mException\u001b[39;00m(\u001b[38;5;124m\"\u001b[39m\u001b[38;5;124mI don\u001b[39m\u001b[38;5;124m'\u001b[39m\u001b[38;5;124mt know what to do with this: \u001b[39m\u001b[38;5;132;01m%s\u001b[39;00m\u001b[38;5;124m\"\u001b[39m \u001b[38;5;241m%\u001b[39m \u001b[38;5;28mstr\u001b[39m(p))\n\u001b[0;32m    429\u001b[0m \u001b[38;5;28;01mexcept\u001b[39;00m \u001b[38;5;167;01mException\u001b[39;00m \u001b[38;5;28;01mas\u001b[39;00m e:\n\u001b[1;32m--> 430\u001b[0m   \u001b[38;5;28;01mraise\u001b[39;00m \u001b[38;5;167;01mException\u001b[39;00m(\u001b[38;5;124m\"\u001b[39m\u001b[38;5;124mError occured in struct context with powerIndex \u001b[39m\u001b[38;5;132;01m%s\u001b[39;00m\u001b[38;5;124m, at canonicalIndex \u001b[39m\u001b[38;5;132;01m%s\u001b[39;00m\u001b[38;5;124m\"\u001b[39m \u001b[38;5;241m%\u001b[39m (\u001b[38;5;28mstr\u001b[39m(powerIndex),\u001b[38;5;28mstr\u001b[39m(canonicalIndex))) \u001b[38;5;28;01mfrom\u001b[39;00m \u001b[38;5;21;01me\u001b[39;00m\n",
      "\u001b[1;31mException\u001b[0m: Error occured in struct context with powerIndex ('cod_0',), at canonicalIndex ()"
     ]
    }
   ],
   "source": [
    "def p_fun(t_now):\n",
    "    p_template['cod_0'] = 2.25e-4\n",
    "    return p_template\n",
    "simulator.set_p_fun(p_fun)"
   ]
  },
  {
   "cell_type": "code",
   "execution_count": null,
   "id": "568ec691",
   "metadata": {},
   "outputs": [],
   "source": [
    "simulator.setup()"
   ]
  }
 ],
 "metadata": {
  "kernelspec": {
   "display_name": "Python 3 (ipykernel)",
   "language": "python",
   "name": "python3"
  },
  "language_info": {
   "codemirror_mode": {
    "name": "ipython",
    "version": 3
   },
   "file_extension": ".py",
   "mimetype": "text/x-python",
   "name": "python",
   "nbconvert_exporter": "python",
   "pygments_lexer": "ipython3",
   "version": "3.9.12"
  }
 },
 "nbformat": 4,
 "nbformat_minor": 5
}
