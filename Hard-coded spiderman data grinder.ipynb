{
 "cells": [
  {
   "cell_type": "code",
   "execution_count": 1,
   "id": "1836a440",
   "metadata": {},
   "outputs": [
    {
     "name": "stdout",
     "output_type": "stream",
     "text": [
      "ENV 0 made\n"
     ]
    },
    {
     "name": "stderr",
     "output_type": "stream",
     "text": [
      "J:\\devtools\\Anaconda\\lib\\site-packages\\gym\\logger.py:30: UserWarning: \u001b[33mWARN: Box bound precision lowered by casting to float32\u001b[0m\n",
      "  warnings.warn(colorize('%s: %s'%('WARN', msg % args), 'yellow'))\n"
     ]
    }
   ],
   "source": [
    "from spidermanENVRAWRIGHT import Spiderman_ENV\n",
    "import gym\n",
    "import numpy as np\n",
    "np.set_printoptions(suppress=True)\n",
    "\n",
    "\n",
    "N = 5\n",
    "envs = gym.vector.AsyncVectorEnv([lambda i=i: Spiderman_ENV(i) for i in range(N)])\n",
    "\n"
   ]
  },
  {
   "cell_type": "code",
   "execution_count": null,
   "id": "eec8f54b",
   "metadata": {
    "scrolled": true
   },
   "outputs": [
    {
     "name": "stdout",
     "output_type": "stream",
     "text": [
      "DIED\n",
      "DIED\n",
      "DIED\n",
      "DIED\n",
      "DIED\n",
      "DIED\n",
      "DIED\n",
      "DIED\n",
      "DIED\n",
      "DIED\n",
      "DIED\n",
      "DIED\n",
      "DIED\n",
      "DIED\n",
      "DIED\n",
      "DIED\n",
      "DIED\n",
      "DIED\n",
      "DIED\n",
      "DIED\n",
      "DIED\n",
      "DIED\n",
      "DIED\n",
      "DIED\n",
      "DIED\n",
      "DIED\n",
      "DIED\n",
      "DIED\n",
      "DIED\n",
      "DIED\n",
      "DIED\n",
      "DIED\n",
      "DIED\n",
      "DIED\n",
      "DIED\n",
      "DIED\n",
      "DIED\n",
      "DIED\n",
      "DIED\n",
      "DIED\n",
      "DIED\n",
      "DIED\n",
      "DIED\n",
      "DIED\n",
      "DIED\n",
      "DIED\n",
      "DIED\n",
      "DIED\n",
      "DIED\n",
      "DIED\n",
      "DIED\n",
      "DIED\n",
      "DIED\n",
      "DIED\n",
      "DIED\n",
      "DIED\n",
      "DIED\n",
      "DIED\n",
      "DIED\n",
      "DIED\n",
      "DIED\n",
      "DIED\n",
      "DIED\n",
      "DIED\n",
      "DIED\n"
     ]
    }
   ],
   "source": [
    "from hardcodedAGENT import hardAgent\n",
    "import random\n",
    "\n",
    "\n",
    "\n",
    "def randhardAgent(observation):\n",
    "    if random.random() < 0.5:\n",
    "        return hardAgent(observation)\n",
    "    else:\n",
    "        return [0,0,False]\n",
    "\n",
    "\n",
    "observations, rewards, dones, infos = envs.step([[1,-1,True] for i in range(N)])\n",
    "while True:\n",
    "    _observations, _rewards, _dones, _infos = observations, rewards, dones, infos\n",
    "    actions = [hardAgent(observations[i]) for i in range(N)]\n",
    "    observations, rewards, dones, infos = envs.step(actions)\n",
    "#     print(observations[0])\n",
    "    if dones[0]:\n",
    "        print(\"DIED\")\n",
    "    \n"
   ]
  },
  {
   "cell_type": "code",
   "execution_count": null,
   "id": "696ed577",
   "metadata": {},
   "outputs": [],
   "source": [
    "import csv  \n",
    "\n",
    "header = ['name', 'area', 'country_code2', 'country_code3']\n",
    "data = ['Afghanistan', 652090, 'AF', 'AFG']\n",
    "\n"
   ]
  }
 ],
 "metadata": {
  "kernelspec": {
   "display_name": "Python 3 (ipykernel)",
   "language": "python",
   "name": "python3"
  },
  "language_info": {
   "codemirror_mode": {
    "name": "ipython",
    "version": 3
   },
   "file_extension": ".py",
   "mimetype": "text/x-python",
   "name": "python",
   "nbconvert_exporter": "python",
   "pygments_lexer": "ipython3",
   "version": "3.9.12"
  }
 },
 "nbformat": 4,
 "nbformat_minor": 5
}
